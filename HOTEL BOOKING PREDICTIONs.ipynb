{
 "cells": [
  {
   "cell_type": "code",
   "execution_count": 1,
   "id": "6833cd74",
   "metadata": {},
   "outputs": [],
   "source": [
    "import numpy as np\n",
    "import pandas as pd\n",
    "import seaborn as sns\n",
    "import matplotlib.pyplot as plt"
   ]
  },
  {
   "cell_type": "code",
   "execution_count": 2,
   "id": "1632b2d3",
   "metadata": {},
   "outputs": [],
   "source": [
    "df = pd.read_csv(\"hotel_bookings.csv\")"
   ]
  },
  {
   "cell_type": "code",
   "execution_count": 3,
   "id": "0c6d82ad",
   "metadata": {},
   "outputs": [
    {
     "data": {
      "text/plain": [
       "pandas.core.frame.DataFrame"
      ]
     },
     "execution_count": 3,
     "metadata": {},
     "output_type": "execute_result"
    }
   ],
   "source": [
    "type(df)"
   ]
  },
  {
   "cell_type": "code",
   "execution_count": 4,
   "id": "c2b9f3f9",
   "metadata": {},
   "outputs": [
    {
     "data": {
      "text/html": [
       "<div>\n",
       "<style scoped>\n",
       "    .dataframe tbody tr th:only-of-type {\n",
       "        vertical-align: middle;\n",
       "    }\n",
       "\n",
       "    .dataframe tbody tr th {\n",
       "        vertical-align: top;\n",
       "    }\n",
       "\n",
       "    .dataframe thead th {\n",
       "        text-align: right;\n",
       "    }\n",
       "</style>\n",
       "<table border=\"1\" class=\"dataframe\">\n",
       "  <thead>\n",
       "    <tr style=\"text-align: right;\">\n",
       "      <th></th>\n",
       "      <th>hotel</th>\n",
       "      <th>is_canceled</th>\n",
       "      <th>lead_time</th>\n",
       "      <th>arrival_date_year</th>\n",
       "      <th>arrival_date_month</th>\n",
       "      <th>arrival_date_week_number</th>\n",
       "      <th>arrival_date_day_of_month</th>\n",
       "      <th>stays_in_weekend_nights</th>\n",
       "      <th>stays_in_week_nights</th>\n",
       "      <th>adults</th>\n",
       "      <th>...</th>\n",
       "      <th>deposit_type</th>\n",
       "      <th>agent</th>\n",
       "      <th>company</th>\n",
       "      <th>days_in_waiting_list</th>\n",
       "      <th>customer_type</th>\n",
       "      <th>adr</th>\n",
       "      <th>required_car_parking_spaces</th>\n",
       "      <th>total_of_special_requests</th>\n",
       "      <th>reservation_status</th>\n",
       "      <th>reservation_status_date</th>\n",
       "    </tr>\n",
       "  </thead>\n",
       "  <tbody>\n",
       "    <tr>\n",
       "      <th>0</th>\n",
       "      <td>Resort Hotel</td>\n",
       "      <td>0</td>\n",
       "      <td>342</td>\n",
       "      <td>2015</td>\n",
       "      <td>July</td>\n",
       "      <td>27</td>\n",
       "      <td>1</td>\n",
       "      <td>0</td>\n",
       "      <td>0</td>\n",
       "      <td>2</td>\n",
       "      <td>...</td>\n",
       "      <td>No Deposit</td>\n",
       "      <td>NaN</td>\n",
       "      <td>NaN</td>\n",
       "      <td>0</td>\n",
       "      <td>Transient</td>\n",
       "      <td>0.0</td>\n",
       "      <td>0</td>\n",
       "      <td>0</td>\n",
       "      <td>Check-Out</td>\n",
       "      <td>2015-07-01</td>\n",
       "    </tr>\n",
       "    <tr>\n",
       "      <th>1</th>\n",
       "      <td>Resort Hotel</td>\n",
       "      <td>0</td>\n",
       "      <td>737</td>\n",
       "      <td>2015</td>\n",
       "      <td>July</td>\n",
       "      <td>27</td>\n",
       "      <td>1</td>\n",
       "      <td>0</td>\n",
       "      <td>0</td>\n",
       "      <td>2</td>\n",
       "      <td>...</td>\n",
       "      <td>No Deposit</td>\n",
       "      <td>NaN</td>\n",
       "      <td>NaN</td>\n",
       "      <td>0</td>\n",
       "      <td>Transient</td>\n",
       "      <td>0.0</td>\n",
       "      <td>0</td>\n",
       "      <td>0</td>\n",
       "      <td>Check-Out</td>\n",
       "      <td>2015-07-01</td>\n",
       "    </tr>\n",
       "    <tr>\n",
       "      <th>2</th>\n",
       "      <td>Resort Hotel</td>\n",
       "      <td>0</td>\n",
       "      <td>7</td>\n",
       "      <td>2015</td>\n",
       "      <td>July</td>\n",
       "      <td>27</td>\n",
       "      <td>1</td>\n",
       "      <td>0</td>\n",
       "      <td>1</td>\n",
       "      <td>1</td>\n",
       "      <td>...</td>\n",
       "      <td>No Deposit</td>\n",
       "      <td>NaN</td>\n",
       "      <td>NaN</td>\n",
       "      <td>0</td>\n",
       "      <td>Transient</td>\n",
       "      <td>75.0</td>\n",
       "      <td>0</td>\n",
       "      <td>0</td>\n",
       "      <td>Check-Out</td>\n",
       "      <td>2015-07-02</td>\n",
       "    </tr>\n",
       "    <tr>\n",
       "      <th>3</th>\n",
       "      <td>Resort Hotel</td>\n",
       "      <td>0</td>\n",
       "      <td>13</td>\n",
       "      <td>2015</td>\n",
       "      <td>July</td>\n",
       "      <td>27</td>\n",
       "      <td>1</td>\n",
       "      <td>0</td>\n",
       "      <td>1</td>\n",
       "      <td>1</td>\n",
       "      <td>...</td>\n",
       "      <td>No Deposit</td>\n",
       "      <td>304.0</td>\n",
       "      <td>NaN</td>\n",
       "      <td>0</td>\n",
       "      <td>Transient</td>\n",
       "      <td>75.0</td>\n",
       "      <td>0</td>\n",
       "      <td>0</td>\n",
       "      <td>Check-Out</td>\n",
       "      <td>2015-07-02</td>\n",
       "    </tr>\n",
       "    <tr>\n",
       "      <th>4</th>\n",
       "      <td>Resort Hotel</td>\n",
       "      <td>0</td>\n",
       "      <td>14</td>\n",
       "      <td>2015</td>\n",
       "      <td>July</td>\n",
       "      <td>27</td>\n",
       "      <td>1</td>\n",
       "      <td>0</td>\n",
       "      <td>2</td>\n",
       "      <td>2</td>\n",
       "      <td>...</td>\n",
       "      <td>No Deposit</td>\n",
       "      <td>240.0</td>\n",
       "      <td>NaN</td>\n",
       "      <td>0</td>\n",
       "      <td>Transient</td>\n",
       "      <td>98.0</td>\n",
       "      <td>0</td>\n",
       "      <td>1</td>\n",
       "      <td>Check-Out</td>\n",
       "      <td>2015-07-03</td>\n",
       "    </tr>\n",
       "  </tbody>\n",
       "</table>\n",
       "<p>5 rows × 32 columns</p>\n",
       "</div>"
      ],
      "text/plain": [
       "          hotel  is_canceled  lead_time  arrival_date_year arrival_date_month  \\\n",
       "0  Resort Hotel            0        342               2015               July   \n",
       "1  Resort Hotel            0        737               2015               July   \n",
       "2  Resort Hotel            0          7               2015               July   \n",
       "3  Resort Hotel            0         13               2015               July   \n",
       "4  Resort Hotel            0         14               2015               July   \n",
       "\n",
       "   arrival_date_week_number  arrival_date_day_of_month  \\\n",
       "0                        27                          1   \n",
       "1                        27                          1   \n",
       "2                        27                          1   \n",
       "3                        27                          1   \n",
       "4                        27                          1   \n",
       "\n",
       "   stays_in_weekend_nights  stays_in_week_nights  adults  ...  deposit_type  \\\n",
       "0                        0                     0       2  ...    No Deposit   \n",
       "1                        0                     0       2  ...    No Deposit   \n",
       "2                        0                     1       1  ...    No Deposit   \n",
       "3                        0                     1       1  ...    No Deposit   \n",
       "4                        0                     2       2  ...    No Deposit   \n",
       "\n",
       "   agent company days_in_waiting_list customer_type   adr  \\\n",
       "0    NaN     NaN                    0     Transient   0.0   \n",
       "1    NaN     NaN                    0     Transient   0.0   \n",
       "2    NaN     NaN                    0     Transient  75.0   \n",
       "3  304.0     NaN                    0     Transient  75.0   \n",
       "4  240.0     NaN                    0     Transient  98.0   \n",
       "\n",
       "   required_car_parking_spaces  total_of_special_requests  reservation_status  \\\n",
       "0                            0                          0           Check-Out   \n",
       "1                            0                          0           Check-Out   \n",
       "2                            0                          0           Check-Out   \n",
       "3                            0                          0           Check-Out   \n",
       "4                            0                          1           Check-Out   \n",
       "\n",
       "  reservation_status_date  \n",
       "0              2015-07-01  \n",
       "1              2015-07-01  \n",
       "2              2015-07-02  \n",
       "3              2015-07-02  \n",
       "4              2015-07-03  \n",
       "\n",
       "[5 rows x 32 columns]"
      ]
     },
     "execution_count": 4,
     "metadata": {},
     "output_type": "execute_result"
    }
   ],
   "source": [
    "df.head()"
   ]
  },
  {
   "cell_type": "code",
   "execution_count": 5,
   "id": "ece7e671",
   "metadata": {},
   "outputs": [
    {
     "data": {
      "text/plain": [
       "(119390, 32)"
      ]
     },
     "execution_count": 5,
     "metadata": {},
     "output_type": "execute_result"
    }
   ],
   "source": [
    "df.shape"
   ]
  },
  {
   "cell_type": "code",
   "execution_count": 6,
   "id": "9910b711",
   "metadata": {},
   "outputs": [
    {
     "data": {
      "text/plain": [
       "hotel                                  0\n",
       "is_canceled                            0\n",
       "lead_time                              0\n",
       "arrival_date_year                      0\n",
       "arrival_date_month                     0\n",
       "arrival_date_week_number               0\n",
       "arrival_date_day_of_month              0\n",
       "stays_in_weekend_nights                0\n",
       "stays_in_week_nights                   0\n",
       "adults                                 0\n",
       "children                               4\n",
       "babies                                 0\n",
       "meal                                   0\n",
       "country                              488\n",
       "market_segment                         0\n",
       "distribution_channel                   0\n",
       "is_repeated_guest                      0\n",
       "previous_cancellations                 0\n",
       "previous_bookings_not_canceled         0\n",
       "reserved_room_type                     0\n",
       "assigned_room_type                     0\n",
       "booking_changes                        0\n",
       "deposit_type                           0\n",
       "agent                              16340\n",
       "company                           112593\n",
       "days_in_waiting_list                   0\n",
       "customer_type                          0\n",
       "adr                                    0\n",
       "required_car_parking_spaces            0\n",
       "total_of_special_requests              0\n",
       "reservation_status                     0\n",
       "reservation_status_date                0\n",
       "dtype: int64"
      ]
     },
     "execution_count": 6,
     "metadata": {},
     "output_type": "execute_result"
    }
   ],
   "source": [
    "df.isnull().sum()"
   ]
  },
  {
   "cell_type": "markdown",
   "id": "58378828",
   "metadata": {},
   "source": [
    "# Data Cleaning"
   ]
  },
  {
   "cell_type": "code",
   "execution_count": 7,
   "id": "930bae75",
   "metadata": {},
   "outputs": [],
   "source": [
    "df.drop(['company','agent'],axis = 1,inplace = True)"
   ]
  },
  {
   "cell_type": "code",
   "execution_count": 8,
   "id": "a0aa3abe",
   "metadata": {},
   "outputs": [
    {
     "data": {
      "text/plain": [
       "'PRT'"
      ]
     },
     "execution_count": 8,
     "metadata": {},
     "output_type": "execute_result"
    }
   ],
   "source": [
    "df['country'].value_counts().index[0]"
   ]
  },
  {
   "cell_type": "code",
   "execution_count": 9,
   "id": "3a8a7b34",
   "metadata": {},
   "outputs": [],
   "source": [
    "df['country'].fillna(df['country'].value_counts().index[0],inplace = True)"
   ]
  },
  {
   "cell_type": "code",
   "execution_count": 10,
   "id": "a72f3a2f",
   "metadata": {},
   "outputs": [
    {
     "data": {
      "text/plain": [
       "hotel                             0\n",
       "is_canceled                       0\n",
       "lead_time                         0\n",
       "arrival_date_year                 0\n",
       "arrival_date_month                0\n",
       "arrival_date_week_number          0\n",
       "arrival_date_day_of_month         0\n",
       "stays_in_weekend_nights           0\n",
       "stays_in_week_nights              0\n",
       "adults                            0\n",
       "children                          4\n",
       "babies                            0\n",
       "meal                              0\n",
       "country                           0\n",
       "market_segment                    0\n",
       "distribution_channel              0\n",
       "is_repeated_guest                 0\n",
       "previous_cancellations            0\n",
       "previous_bookings_not_canceled    0\n",
       "reserved_room_type                0\n",
       "assigned_room_type                0\n",
       "booking_changes                   0\n",
       "deposit_type                      0\n",
       "days_in_waiting_list              0\n",
       "customer_type                     0\n",
       "adr                               0\n",
       "required_car_parking_spaces       0\n",
       "total_of_special_requests         0\n",
       "reservation_status                0\n",
       "reservation_status_date           0\n",
       "dtype: int64"
      ]
     },
     "execution_count": 10,
     "metadata": {},
     "output_type": "execute_result"
    }
   ],
   "source": [
    "df.isnull().sum()"
   ]
  },
  {
   "cell_type": "code",
   "execution_count": 11,
   "id": "46db814a",
   "metadata": {},
   "outputs": [],
   "source": [
    "filter1 = (df['children']==0) & (df['adults'] == 0) & (df['babies']== 0)"
   ]
  },
  {
   "cell_type": "code",
   "execution_count": 12,
   "id": "bb8814f1",
   "metadata": {},
   "outputs": [
    {
     "data": {
      "text/html": [
       "<div>\n",
       "<style scoped>\n",
       "    .dataframe tbody tr th:only-of-type {\n",
       "        vertical-align: middle;\n",
       "    }\n",
       "\n",
       "    .dataframe tbody tr th {\n",
       "        vertical-align: top;\n",
       "    }\n",
       "\n",
       "    .dataframe thead th {\n",
       "        text-align: right;\n",
       "    }\n",
       "</style>\n",
       "<table border=\"1\" class=\"dataframe\">\n",
       "  <thead>\n",
       "    <tr style=\"text-align: right;\">\n",
       "      <th></th>\n",
       "      <th>hotel</th>\n",
       "      <th>is_canceled</th>\n",
       "      <th>lead_time</th>\n",
       "      <th>arrival_date_year</th>\n",
       "      <th>arrival_date_month</th>\n",
       "      <th>arrival_date_week_number</th>\n",
       "      <th>arrival_date_day_of_month</th>\n",
       "      <th>stays_in_weekend_nights</th>\n",
       "      <th>stays_in_week_nights</th>\n",
       "      <th>adults</th>\n",
       "      <th>...</th>\n",
       "      <th>assigned_room_type</th>\n",
       "      <th>booking_changes</th>\n",
       "      <th>deposit_type</th>\n",
       "      <th>days_in_waiting_list</th>\n",
       "      <th>customer_type</th>\n",
       "      <th>adr</th>\n",
       "      <th>required_car_parking_spaces</th>\n",
       "      <th>total_of_special_requests</th>\n",
       "      <th>reservation_status</th>\n",
       "      <th>reservation_status_date</th>\n",
       "    </tr>\n",
       "  </thead>\n",
       "  <tbody>\n",
       "    <tr>\n",
       "      <th>2224</th>\n",
       "      <td>Resort Hotel</td>\n",
       "      <td>0</td>\n",
       "      <td>1</td>\n",
       "      <td>2015</td>\n",
       "      <td>October</td>\n",
       "      <td>41</td>\n",
       "      <td>6</td>\n",
       "      <td>0</td>\n",
       "      <td>3</td>\n",
       "      <td>0</td>\n",
       "      <td>...</td>\n",
       "      <td>I</td>\n",
       "      <td>1</td>\n",
       "      <td>No Deposit</td>\n",
       "      <td>0</td>\n",
       "      <td>Transient-Party</td>\n",
       "      <td>0.00</td>\n",
       "      <td>0</td>\n",
       "      <td>0</td>\n",
       "      <td>Check-Out</td>\n",
       "      <td>2015-10-06</td>\n",
       "    </tr>\n",
       "    <tr>\n",
       "      <th>2409</th>\n",
       "      <td>Resort Hotel</td>\n",
       "      <td>0</td>\n",
       "      <td>0</td>\n",
       "      <td>2015</td>\n",
       "      <td>October</td>\n",
       "      <td>42</td>\n",
       "      <td>12</td>\n",
       "      <td>0</td>\n",
       "      <td>0</td>\n",
       "      <td>0</td>\n",
       "      <td>...</td>\n",
       "      <td>I</td>\n",
       "      <td>0</td>\n",
       "      <td>No Deposit</td>\n",
       "      <td>0</td>\n",
       "      <td>Transient</td>\n",
       "      <td>0.00</td>\n",
       "      <td>0</td>\n",
       "      <td>0</td>\n",
       "      <td>Check-Out</td>\n",
       "      <td>2015-10-12</td>\n",
       "    </tr>\n",
       "    <tr>\n",
       "      <th>3181</th>\n",
       "      <td>Resort Hotel</td>\n",
       "      <td>0</td>\n",
       "      <td>36</td>\n",
       "      <td>2015</td>\n",
       "      <td>November</td>\n",
       "      <td>47</td>\n",
       "      <td>20</td>\n",
       "      <td>1</td>\n",
       "      <td>2</td>\n",
       "      <td>0</td>\n",
       "      <td>...</td>\n",
       "      <td>C</td>\n",
       "      <td>0</td>\n",
       "      <td>No Deposit</td>\n",
       "      <td>0</td>\n",
       "      <td>Transient-Party</td>\n",
       "      <td>0.00</td>\n",
       "      <td>0</td>\n",
       "      <td>0</td>\n",
       "      <td>Check-Out</td>\n",
       "      <td>2015-11-23</td>\n",
       "    </tr>\n",
       "    <tr>\n",
       "      <th>3684</th>\n",
       "      <td>Resort Hotel</td>\n",
       "      <td>0</td>\n",
       "      <td>165</td>\n",
       "      <td>2015</td>\n",
       "      <td>December</td>\n",
       "      <td>53</td>\n",
       "      <td>30</td>\n",
       "      <td>1</td>\n",
       "      <td>4</td>\n",
       "      <td>0</td>\n",
       "      <td>...</td>\n",
       "      <td>A</td>\n",
       "      <td>1</td>\n",
       "      <td>No Deposit</td>\n",
       "      <td>122</td>\n",
       "      <td>Transient-Party</td>\n",
       "      <td>0.00</td>\n",
       "      <td>0</td>\n",
       "      <td>0</td>\n",
       "      <td>Check-Out</td>\n",
       "      <td>2016-01-04</td>\n",
       "    </tr>\n",
       "    <tr>\n",
       "      <th>3708</th>\n",
       "      <td>Resort Hotel</td>\n",
       "      <td>0</td>\n",
       "      <td>165</td>\n",
       "      <td>2015</td>\n",
       "      <td>December</td>\n",
       "      <td>53</td>\n",
       "      <td>30</td>\n",
       "      <td>2</td>\n",
       "      <td>4</td>\n",
       "      <td>0</td>\n",
       "      <td>...</td>\n",
       "      <td>C</td>\n",
       "      <td>1</td>\n",
       "      <td>No Deposit</td>\n",
       "      <td>122</td>\n",
       "      <td>Transient-Party</td>\n",
       "      <td>0.00</td>\n",
       "      <td>0</td>\n",
       "      <td>0</td>\n",
       "      <td>Check-Out</td>\n",
       "      <td>2016-01-05</td>\n",
       "    </tr>\n",
       "    <tr>\n",
       "      <th>...</th>\n",
       "      <td>...</td>\n",
       "      <td>...</td>\n",
       "      <td>...</td>\n",
       "      <td>...</td>\n",
       "      <td>...</td>\n",
       "      <td>...</td>\n",
       "      <td>...</td>\n",
       "      <td>...</td>\n",
       "      <td>...</td>\n",
       "      <td>...</td>\n",
       "      <td>...</td>\n",
       "      <td>...</td>\n",
       "      <td>...</td>\n",
       "      <td>...</td>\n",
       "      <td>...</td>\n",
       "      <td>...</td>\n",
       "      <td>...</td>\n",
       "      <td>...</td>\n",
       "      <td>...</td>\n",
       "      <td>...</td>\n",
       "      <td>...</td>\n",
       "    </tr>\n",
       "    <tr>\n",
       "      <th>115029</th>\n",
       "      <td>City Hotel</td>\n",
       "      <td>0</td>\n",
       "      <td>107</td>\n",
       "      <td>2017</td>\n",
       "      <td>June</td>\n",
       "      <td>26</td>\n",
       "      <td>27</td>\n",
       "      <td>0</td>\n",
       "      <td>3</td>\n",
       "      <td>0</td>\n",
       "      <td>...</td>\n",
       "      <td>A</td>\n",
       "      <td>1</td>\n",
       "      <td>No Deposit</td>\n",
       "      <td>0</td>\n",
       "      <td>Transient</td>\n",
       "      <td>100.80</td>\n",
       "      <td>0</td>\n",
       "      <td>0</td>\n",
       "      <td>Check-Out</td>\n",
       "      <td>2017-06-30</td>\n",
       "    </tr>\n",
       "    <tr>\n",
       "      <th>115091</th>\n",
       "      <td>City Hotel</td>\n",
       "      <td>0</td>\n",
       "      <td>1</td>\n",
       "      <td>2017</td>\n",
       "      <td>June</td>\n",
       "      <td>26</td>\n",
       "      <td>30</td>\n",
       "      <td>0</td>\n",
       "      <td>1</td>\n",
       "      <td>0</td>\n",
       "      <td>...</td>\n",
       "      <td>K</td>\n",
       "      <td>0</td>\n",
       "      <td>No Deposit</td>\n",
       "      <td>0</td>\n",
       "      <td>Transient</td>\n",
       "      <td>0.00</td>\n",
       "      <td>1</td>\n",
       "      <td>1</td>\n",
       "      <td>Check-Out</td>\n",
       "      <td>2017-07-01</td>\n",
       "    </tr>\n",
       "    <tr>\n",
       "      <th>116251</th>\n",
       "      <td>City Hotel</td>\n",
       "      <td>0</td>\n",
       "      <td>44</td>\n",
       "      <td>2017</td>\n",
       "      <td>July</td>\n",
       "      <td>28</td>\n",
       "      <td>15</td>\n",
       "      <td>1</td>\n",
       "      <td>1</td>\n",
       "      <td>0</td>\n",
       "      <td>...</td>\n",
       "      <td>K</td>\n",
       "      <td>2</td>\n",
       "      <td>No Deposit</td>\n",
       "      <td>0</td>\n",
       "      <td>Transient</td>\n",
       "      <td>73.80</td>\n",
       "      <td>0</td>\n",
       "      <td>0</td>\n",
       "      <td>Check-Out</td>\n",
       "      <td>2017-07-17</td>\n",
       "    </tr>\n",
       "    <tr>\n",
       "      <th>116534</th>\n",
       "      <td>City Hotel</td>\n",
       "      <td>0</td>\n",
       "      <td>2</td>\n",
       "      <td>2017</td>\n",
       "      <td>July</td>\n",
       "      <td>28</td>\n",
       "      <td>15</td>\n",
       "      <td>2</td>\n",
       "      <td>5</td>\n",
       "      <td>0</td>\n",
       "      <td>...</td>\n",
       "      <td>K</td>\n",
       "      <td>1</td>\n",
       "      <td>No Deposit</td>\n",
       "      <td>0</td>\n",
       "      <td>Transient-Party</td>\n",
       "      <td>22.86</td>\n",
       "      <td>0</td>\n",
       "      <td>1</td>\n",
       "      <td>Check-Out</td>\n",
       "      <td>2017-07-22</td>\n",
       "    </tr>\n",
       "    <tr>\n",
       "      <th>117087</th>\n",
       "      <td>City Hotel</td>\n",
       "      <td>0</td>\n",
       "      <td>170</td>\n",
       "      <td>2017</td>\n",
       "      <td>July</td>\n",
       "      <td>30</td>\n",
       "      <td>27</td>\n",
       "      <td>0</td>\n",
       "      <td>2</td>\n",
       "      <td>0</td>\n",
       "      <td>...</td>\n",
       "      <td>A</td>\n",
       "      <td>0</td>\n",
       "      <td>No Deposit</td>\n",
       "      <td>0</td>\n",
       "      <td>Transient</td>\n",
       "      <td>0.00</td>\n",
       "      <td>0</td>\n",
       "      <td>0</td>\n",
       "      <td>Check-Out</td>\n",
       "      <td>2017-07-29</td>\n",
       "    </tr>\n",
       "  </tbody>\n",
       "</table>\n",
       "<p>180 rows × 30 columns</p>\n",
       "</div>"
      ],
      "text/plain": [
       "               hotel  is_canceled  lead_time  arrival_date_year  \\\n",
       "2224    Resort Hotel            0          1               2015   \n",
       "2409    Resort Hotel            0          0               2015   \n",
       "3181    Resort Hotel            0         36               2015   \n",
       "3684    Resort Hotel            0        165               2015   \n",
       "3708    Resort Hotel            0        165               2015   \n",
       "...              ...          ...        ...                ...   \n",
       "115029    City Hotel            0        107               2017   \n",
       "115091    City Hotel            0          1               2017   \n",
       "116251    City Hotel            0         44               2017   \n",
       "116534    City Hotel            0          2               2017   \n",
       "117087    City Hotel            0        170               2017   \n",
       "\n",
       "       arrival_date_month  arrival_date_week_number  \\\n",
       "2224              October                        41   \n",
       "2409              October                        42   \n",
       "3181             November                        47   \n",
       "3684             December                        53   \n",
       "3708             December                        53   \n",
       "...                   ...                       ...   \n",
       "115029               June                        26   \n",
       "115091               June                        26   \n",
       "116251               July                        28   \n",
       "116534               July                        28   \n",
       "117087               July                        30   \n",
       "\n",
       "        arrival_date_day_of_month  stays_in_weekend_nights  \\\n",
       "2224                            6                        0   \n",
       "2409                           12                        0   \n",
       "3181                           20                        1   \n",
       "3684                           30                        1   \n",
       "3708                           30                        2   \n",
       "...                           ...                      ...   \n",
       "115029                         27                        0   \n",
       "115091                         30                        0   \n",
       "116251                         15                        1   \n",
       "116534                         15                        2   \n",
       "117087                         27                        0   \n",
       "\n",
       "        stays_in_week_nights  adults  ...  assigned_room_type  \\\n",
       "2224                       3       0  ...                   I   \n",
       "2409                       0       0  ...                   I   \n",
       "3181                       2       0  ...                   C   \n",
       "3684                       4       0  ...                   A   \n",
       "3708                       4       0  ...                   C   \n",
       "...                      ...     ...  ...                 ...   \n",
       "115029                     3       0  ...                   A   \n",
       "115091                     1       0  ...                   K   \n",
       "116251                     1       0  ...                   K   \n",
       "116534                     5       0  ...                   K   \n",
       "117087                     2       0  ...                   A   \n",
       "\n",
       "        booking_changes deposit_type days_in_waiting_list    customer_type  \\\n",
       "2224                  1   No Deposit                    0  Transient-Party   \n",
       "2409                  0   No Deposit                    0        Transient   \n",
       "3181                  0   No Deposit                    0  Transient-Party   \n",
       "3684                  1   No Deposit                  122  Transient-Party   \n",
       "3708                  1   No Deposit                  122  Transient-Party   \n",
       "...                 ...          ...                  ...              ...   \n",
       "115029                1   No Deposit                    0        Transient   \n",
       "115091                0   No Deposit                    0        Transient   \n",
       "116251                2   No Deposit                    0        Transient   \n",
       "116534                1   No Deposit                    0  Transient-Party   \n",
       "117087                0   No Deposit                    0        Transient   \n",
       "\n",
       "           adr  required_car_parking_spaces  total_of_special_requests  \\\n",
       "2224      0.00                            0                          0   \n",
       "2409      0.00                            0                          0   \n",
       "3181      0.00                            0                          0   \n",
       "3684      0.00                            0                          0   \n",
       "3708      0.00                            0                          0   \n",
       "...        ...                          ...                        ...   \n",
       "115029  100.80                            0                          0   \n",
       "115091    0.00                            1                          1   \n",
       "116251   73.80                            0                          0   \n",
       "116534   22.86                            0                          1   \n",
       "117087    0.00                            0                          0   \n",
       "\n",
       "        reservation_status reservation_status_date  \n",
       "2224             Check-Out              2015-10-06  \n",
       "2409             Check-Out              2015-10-12  \n",
       "3181             Check-Out              2015-11-23  \n",
       "3684             Check-Out              2016-01-04  \n",
       "3708             Check-Out              2016-01-05  \n",
       "...                    ...                     ...  \n",
       "115029           Check-Out              2017-06-30  \n",
       "115091           Check-Out              2017-07-01  \n",
       "116251           Check-Out              2017-07-17  \n",
       "116534           Check-Out              2017-07-22  \n",
       "117087           Check-Out              2017-07-29  \n",
       "\n",
       "[180 rows x 30 columns]"
      ]
     },
     "execution_count": 12,
     "metadata": {},
     "output_type": "execute_result"
    }
   ],
   "source": [
    "df[filter1]"
   ]
  },
  {
   "cell_type": "code",
   "execution_count": 13,
   "id": "1a0b1a3c",
   "metadata": {},
   "outputs": [],
   "source": [
    "data = df[~filter1]"
   ]
  },
  {
   "cell_type": "code",
   "execution_count": 14,
   "id": "7fe10482",
   "metadata": {},
   "outputs": [
    {
     "data": {
      "text/html": [
       "<div>\n",
       "<style scoped>\n",
       "    .dataframe tbody tr th:only-of-type {\n",
       "        vertical-align: middle;\n",
       "    }\n",
       "\n",
       "    .dataframe tbody tr th {\n",
       "        vertical-align: top;\n",
       "    }\n",
       "\n",
       "    .dataframe thead th {\n",
       "        text-align: right;\n",
       "    }\n",
       "</style>\n",
       "<table border=\"1\" class=\"dataframe\">\n",
       "  <thead>\n",
       "    <tr style=\"text-align: right;\">\n",
       "      <th></th>\n",
       "      <th>hotel</th>\n",
       "      <th>is_canceled</th>\n",
       "      <th>lead_time</th>\n",
       "      <th>arrival_date_year</th>\n",
       "      <th>arrival_date_month</th>\n",
       "      <th>arrival_date_week_number</th>\n",
       "      <th>arrival_date_day_of_month</th>\n",
       "      <th>stays_in_weekend_nights</th>\n",
       "      <th>stays_in_week_nights</th>\n",
       "      <th>adults</th>\n",
       "      <th>...</th>\n",
       "      <th>assigned_room_type</th>\n",
       "      <th>booking_changes</th>\n",
       "      <th>deposit_type</th>\n",
       "      <th>days_in_waiting_list</th>\n",
       "      <th>customer_type</th>\n",
       "      <th>adr</th>\n",
       "      <th>required_car_parking_spaces</th>\n",
       "      <th>total_of_special_requests</th>\n",
       "      <th>reservation_status</th>\n",
       "      <th>reservation_status_date</th>\n",
       "    </tr>\n",
       "  </thead>\n",
       "  <tbody>\n",
       "    <tr>\n",
       "      <th>0</th>\n",
       "      <td>Resort Hotel</td>\n",
       "      <td>0</td>\n",
       "      <td>342</td>\n",
       "      <td>2015</td>\n",
       "      <td>July</td>\n",
       "      <td>27</td>\n",
       "      <td>1</td>\n",
       "      <td>0</td>\n",
       "      <td>0</td>\n",
       "      <td>2</td>\n",
       "      <td>...</td>\n",
       "      <td>C</td>\n",
       "      <td>3</td>\n",
       "      <td>No Deposit</td>\n",
       "      <td>0</td>\n",
       "      <td>Transient</td>\n",
       "      <td>0.00</td>\n",
       "      <td>0</td>\n",
       "      <td>0</td>\n",
       "      <td>Check-Out</td>\n",
       "      <td>2015-07-01</td>\n",
       "    </tr>\n",
       "    <tr>\n",
       "      <th>1</th>\n",
       "      <td>Resort Hotel</td>\n",
       "      <td>0</td>\n",
       "      <td>737</td>\n",
       "      <td>2015</td>\n",
       "      <td>July</td>\n",
       "      <td>27</td>\n",
       "      <td>1</td>\n",
       "      <td>0</td>\n",
       "      <td>0</td>\n",
       "      <td>2</td>\n",
       "      <td>...</td>\n",
       "      <td>C</td>\n",
       "      <td>4</td>\n",
       "      <td>No Deposit</td>\n",
       "      <td>0</td>\n",
       "      <td>Transient</td>\n",
       "      <td>0.00</td>\n",
       "      <td>0</td>\n",
       "      <td>0</td>\n",
       "      <td>Check-Out</td>\n",
       "      <td>2015-07-01</td>\n",
       "    </tr>\n",
       "    <tr>\n",
       "      <th>2</th>\n",
       "      <td>Resort Hotel</td>\n",
       "      <td>0</td>\n",
       "      <td>7</td>\n",
       "      <td>2015</td>\n",
       "      <td>July</td>\n",
       "      <td>27</td>\n",
       "      <td>1</td>\n",
       "      <td>0</td>\n",
       "      <td>1</td>\n",
       "      <td>1</td>\n",
       "      <td>...</td>\n",
       "      <td>C</td>\n",
       "      <td>0</td>\n",
       "      <td>No Deposit</td>\n",
       "      <td>0</td>\n",
       "      <td>Transient</td>\n",
       "      <td>75.00</td>\n",
       "      <td>0</td>\n",
       "      <td>0</td>\n",
       "      <td>Check-Out</td>\n",
       "      <td>2015-07-02</td>\n",
       "    </tr>\n",
       "    <tr>\n",
       "      <th>3</th>\n",
       "      <td>Resort Hotel</td>\n",
       "      <td>0</td>\n",
       "      <td>13</td>\n",
       "      <td>2015</td>\n",
       "      <td>July</td>\n",
       "      <td>27</td>\n",
       "      <td>1</td>\n",
       "      <td>0</td>\n",
       "      <td>1</td>\n",
       "      <td>1</td>\n",
       "      <td>...</td>\n",
       "      <td>A</td>\n",
       "      <td>0</td>\n",
       "      <td>No Deposit</td>\n",
       "      <td>0</td>\n",
       "      <td>Transient</td>\n",
       "      <td>75.00</td>\n",
       "      <td>0</td>\n",
       "      <td>0</td>\n",
       "      <td>Check-Out</td>\n",
       "      <td>2015-07-02</td>\n",
       "    </tr>\n",
       "    <tr>\n",
       "      <th>4</th>\n",
       "      <td>Resort Hotel</td>\n",
       "      <td>0</td>\n",
       "      <td>14</td>\n",
       "      <td>2015</td>\n",
       "      <td>July</td>\n",
       "      <td>27</td>\n",
       "      <td>1</td>\n",
       "      <td>0</td>\n",
       "      <td>2</td>\n",
       "      <td>2</td>\n",
       "      <td>...</td>\n",
       "      <td>A</td>\n",
       "      <td>0</td>\n",
       "      <td>No Deposit</td>\n",
       "      <td>0</td>\n",
       "      <td>Transient</td>\n",
       "      <td>98.00</td>\n",
       "      <td>0</td>\n",
       "      <td>1</td>\n",
       "      <td>Check-Out</td>\n",
       "      <td>2015-07-03</td>\n",
       "    </tr>\n",
       "    <tr>\n",
       "      <th>...</th>\n",
       "      <td>...</td>\n",
       "      <td>...</td>\n",
       "      <td>...</td>\n",
       "      <td>...</td>\n",
       "      <td>...</td>\n",
       "      <td>...</td>\n",
       "      <td>...</td>\n",
       "      <td>...</td>\n",
       "      <td>...</td>\n",
       "      <td>...</td>\n",
       "      <td>...</td>\n",
       "      <td>...</td>\n",
       "      <td>...</td>\n",
       "      <td>...</td>\n",
       "      <td>...</td>\n",
       "      <td>...</td>\n",
       "      <td>...</td>\n",
       "      <td>...</td>\n",
       "      <td>...</td>\n",
       "      <td>...</td>\n",
       "      <td>...</td>\n",
       "    </tr>\n",
       "    <tr>\n",
       "      <th>119385</th>\n",
       "      <td>City Hotel</td>\n",
       "      <td>0</td>\n",
       "      <td>23</td>\n",
       "      <td>2017</td>\n",
       "      <td>August</td>\n",
       "      <td>35</td>\n",
       "      <td>30</td>\n",
       "      <td>2</td>\n",
       "      <td>5</td>\n",
       "      <td>2</td>\n",
       "      <td>...</td>\n",
       "      <td>A</td>\n",
       "      <td>0</td>\n",
       "      <td>No Deposit</td>\n",
       "      <td>0</td>\n",
       "      <td>Transient</td>\n",
       "      <td>96.14</td>\n",
       "      <td>0</td>\n",
       "      <td>0</td>\n",
       "      <td>Check-Out</td>\n",
       "      <td>2017-09-06</td>\n",
       "    </tr>\n",
       "    <tr>\n",
       "      <th>119386</th>\n",
       "      <td>City Hotel</td>\n",
       "      <td>0</td>\n",
       "      <td>102</td>\n",
       "      <td>2017</td>\n",
       "      <td>August</td>\n",
       "      <td>35</td>\n",
       "      <td>31</td>\n",
       "      <td>2</td>\n",
       "      <td>5</td>\n",
       "      <td>3</td>\n",
       "      <td>...</td>\n",
       "      <td>E</td>\n",
       "      <td>0</td>\n",
       "      <td>No Deposit</td>\n",
       "      <td>0</td>\n",
       "      <td>Transient</td>\n",
       "      <td>225.43</td>\n",
       "      <td>0</td>\n",
       "      <td>2</td>\n",
       "      <td>Check-Out</td>\n",
       "      <td>2017-09-07</td>\n",
       "    </tr>\n",
       "    <tr>\n",
       "      <th>119387</th>\n",
       "      <td>City Hotel</td>\n",
       "      <td>0</td>\n",
       "      <td>34</td>\n",
       "      <td>2017</td>\n",
       "      <td>August</td>\n",
       "      <td>35</td>\n",
       "      <td>31</td>\n",
       "      <td>2</td>\n",
       "      <td>5</td>\n",
       "      <td>2</td>\n",
       "      <td>...</td>\n",
       "      <td>D</td>\n",
       "      <td>0</td>\n",
       "      <td>No Deposit</td>\n",
       "      <td>0</td>\n",
       "      <td>Transient</td>\n",
       "      <td>157.71</td>\n",
       "      <td>0</td>\n",
       "      <td>4</td>\n",
       "      <td>Check-Out</td>\n",
       "      <td>2017-09-07</td>\n",
       "    </tr>\n",
       "    <tr>\n",
       "      <th>119388</th>\n",
       "      <td>City Hotel</td>\n",
       "      <td>0</td>\n",
       "      <td>109</td>\n",
       "      <td>2017</td>\n",
       "      <td>August</td>\n",
       "      <td>35</td>\n",
       "      <td>31</td>\n",
       "      <td>2</td>\n",
       "      <td>5</td>\n",
       "      <td>2</td>\n",
       "      <td>...</td>\n",
       "      <td>A</td>\n",
       "      <td>0</td>\n",
       "      <td>No Deposit</td>\n",
       "      <td>0</td>\n",
       "      <td>Transient</td>\n",
       "      <td>104.40</td>\n",
       "      <td>0</td>\n",
       "      <td>0</td>\n",
       "      <td>Check-Out</td>\n",
       "      <td>2017-09-07</td>\n",
       "    </tr>\n",
       "    <tr>\n",
       "      <th>119389</th>\n",
       "      <td>City Hotel</td>\n",
       "      <td>0</td>\n",
       "      <td>205</td>\n",
       "      <td>2017</td>\n",
       "      <td>August</td>\n",
       "      <td>35</td>\n",
       "      <td>29</td>\n",
       "      <td>2</td>\n",
       "      <td>7</td>\n",
       "      <td>2</td>\n",
       "      <td>...</td>\n",
       "      <td>A</td>\n",
       "      <td>0</td>\n",
       "      <td>No Deposit</td>\n",
       "      <td>0</td>\n",
       "      <td>Transient</td>\n",
       "      <td>151.20</td>\n",
       "      <td>0</td>\n",
       "      <td>2</td>\n",
       "      <td>Check-Out</td>\n",
       "      <td>2017-09-07</td>\n",
       "    </tr>\n",
       "  </tbody>\n",
       "</table>\n",
       "<p>119210 rows × 30 columns</p>\n",
       "</div>"
      ],
      "text/plain": [
       "               hotel  is_canceled  lead_time  arrival_date_year  \\\n",
       "0       Resort Hotel            0        342               2015   \n",
       "1       Resort Hotel            0        737               2015   \n",
       "2       Resort Hotel            0          7               2015   \n",
       "3       Resort Hotel            0         13               2015   \n",
       "4       Resort Hotel            0         14               2015   \n",
       "...              ...          ...        ...                ...   \n",
       "119385    City Hotel            0         23               2017   \n",
       "119386    City Hotel            0        102               2017   \n",
       "119387    City Hotel            0         34               2017   \n",
       "119388    City Hotel            0        109               2017   \n",
       "119389    City Hotel            0        205               2017   \n",
       "\n",
       "       arrival_date_month  arrival_date_week_number  \\\n",
       "0                    July                        27   \n",
       "1                    July                        27   \n",
       "2                    July                        27   \n",
       "3                    July                        27   \n",
       "4                    July                        27   \n",
       "...                   ...                       ...   \n",
       "119385             August                        35   \n",
       "119386             August                        35   \n",
       "119387             August                        35   \n",
       "119388             August                        35   \n",
       "119389             August                        35   \n",
       "\n",
       "        arrival_date_day_of_month  stays_in_weekend_nights  \\\n",
       "0                               1                        0   \n",
       "1                               1                        0   \n",
       "2                               1                        0   \n",
       "3                               1                        0   \n",
       "4                               1                        0   \n",
       "...                           ...                      ...   \n",
       "119385                         30                        2   \n",
       "119386                         31                        2   \n",
       "119387                         31                        2   \n",
       "119388                         31                        2   \n",
       "119389                         29                        2   \n",
       "\n",
       "        stays_in_week_nights  adults  ...  assigned_room_type  \\\n",
       "0                          0       2  ...                   C   \n",
       "1                          0       2  ...                   C   \n",
       "2                          1       1  ...                   C   \n",
       "3                          1       1  ...                   A   \n",
       "4                          2       2  ...                   A   \n",
       "...                      ...     ...  ...                 ...   \n",
       "119385                     5       2  ...                   A   \n",
       "119386                     5       3  ...                   E   \n",
       "119387                     5       2  ...                   D   \n",
       "119388                     5       2  ...                   A   \n",
       "119389                     7       2  ...                   A   \n",
       "\n",
       "        booking_changes deposit_type days_in_waiting_list customer_type  \\\n",
       "0                     3   No Deposit                    0     Transient   \n",
       "1                     4   No Deposit                    0     Transient   \n",
       "2                     0   No Deposit                    0     Transient   \n",
       "3                     0   No Deposit                    0     Transient   \n",
       "4                     0   No Deposit                    0     Transient   \n",
       "...                 ...          ...                  ...           ...   \n",
       "119385                0   No Deposit                    0     Transient   \n",
       "119386                0   No Deposit                    0     Transient   \n",
       "119387                0   No Deposit                    0     Transient   \n",
       "119388                0   No Deposit                    0     Transient   \n",
       "119389                0   No Deposit                    0     Transient   \n",
       "\n",
       "           adr  required_car_parking_spaces  total_of_special_requests  \\\n",
       "0         0.00                            0                          0   \n",
       "1         0.00                            0                          0   \n",
       "2        75.00                            0                          0   \n",
       "3        75.00                            0                          0   \n",
       "4        98.00                            0                          1   \n",
       "...        ...                          ...                        ...   \n",
       "119385   96.14                            0                          0   \n",
       "119386  225.43                            0                          2   \n",
       "119387  157.71                            0                          4   \n",
       "119388  104.40                            0                          0   \n",
       "119389  151.20                            0                          2   \n",
       "\n",
       "        reservation_status reservation_status_date  \n",
       "0                Check-Out              2015-07-01  \n",
       "1                Check-Out              2015-07-01  \n",
       "2                Check-Out              2015-07-02  \n",
       "3                Check-Out              2015-07-02  \n",
       "4                Check-Out              2015-07-03  \n",
       "...                    ...                     ...  \n",
       "119385           Check-Out              2017-09-06  \n",
       "119386           Check-Out              2017-09-07  \n",
       "119387           Check-Out              2017-09-07  \n",
       "119388           Check-Out              2017-09-07  \n",
       "119389           Check-Out              2017-09-07  \n",
       "\n",
       "[119210 rows x 30 columns]"
      ]
     },
     "execution_count": 14,
     "metadata": {},
     "output_type": "execute_result"
    }
   ],
   "source": [
    "data"
   ]
  },
  {
   "cell_type": "code",
   "execution_count": 15,
   "id": "9b54931f",
   "metadata": {},
   "outputs": [
    {
     "data": {
      "text/plain": [
       "(119210, 30)"
      ]
     },
     "execution_count": 15,
     "metadata": {},
     "output_type": "execute_result"
    }
   ],
   "source": [
    "data.shape"
   ]
  },
  {
   "cell_type": "code",
   "execution_count": 16,
   "id": "6e726f3a",
   "metadata": {},
   "outputs": [
    {
     "data": {
      "text/plain": [
       "(119390, 30)"
      ]
     },
     "execution_count": 16,
     "metadata": {},
     "output_type": "execute_result"
    }
   ],
   "source": [
    "df.shape"
   ]
  },
  {
   "cell_type": "markdown",
   "id": "bd90300f",
   "metadata": {},
   "source": [
    "# 3. where do the guests come from?"
   ]
  },
  {
   "cell_type": "code",
   "execution_count": 17,
   "id": "08040905",
   "metadata": {},
   "outputs": [
    {
     "data": {
      "text/plain": [
       "array([0, 1], dtype=int64)"
      ]
     },
     "execution_count": 17,
     "metadata": {},
     "output_type": "execute_result"
    }
   ],
   "source": [
    "data['is_canceled'].unique()"
   ]
  },
  {
   "cell_type": "code",
   "execution_count": 18,
   "id": "a3cf9c9b",
   "metadata": {},
   "outputs": [
    {
     "data": {
      "text/plain": [
       "PRT    0.285265\n",
       "GBR    0.128888\n",
       "FRA    0.112890\n",
       "ESP    0.085094\n",
       "DEU    0.080881\n",
       "         ...   \n",
       "NCL    0.000013\n",
       "LCA    0.000013\n",
       "CYM    0.000013\n",
       "BHR    0.000013\n",
       "SYC    0.000013\n",
       "Name: country, Length: 165, dtype: float64"
      ]
     },
     "execution_count": 18,
     "metadata": {},
     "output_type": "execute_result"
    }
   ],
   "source": [
    "data[data['is_canceled']==0]['country'].value_counts()/len(data[data['is_canceled']==0])\n"
   ]
  },
  {
   "cell_type": "code",
   "execution_count": 19,
   "id": "7b5bf866",
   "metadata": {},
   "outputs": [
    {
     "data": {
      "text/plain": [
       "75011"
      ]
     },
     "execution_count": 19,
     "metadata": {},
     "output_type": "execute_result"
    }
   ],
   "source": [
    "len(data[data['is_canceled']==0])"
   ]
  },
  {
   "cell_type": "code",
   "execution_count": 20,
   "id": "15f6f020",
   "metadata": {},
   "outputs": [],
   "source": [
    "country_wise_data = data[data['is_canceled']==0]['country'].value_counts().reset_index()\n",
    "country_wise_data.columns = ['country','no_of_guests']"
   ]
  },
  {
   "cell_type": "code",
   "execution_count": 21,
   "id": "977d95b1",
   "metadata": {},
   "outputs": [
    {
     "data": {
      "text/html": [
       "<div>\n",
       "<style scoped>\n",
       "    .dataframe tbody tr th:only-of-type {\n",
       "        vertical-align: middle;\n",
       "    }\n",
       "\n",
       "    .dataframe tbody tr th {\n",
       "        vertical-align: top;\n",
       "    }\n",
       "\n",
       "    .dataframe thead th {\n",
       "        text-align: right;\n",
       "    }\n",
       "</style>\n",
       "<table border=\"1\" class=\"dataframe\">\n",
       "  <thead>\n",
       "    <tr style=\"text-align: right;\">\n",
       "      <th></th>\n",
       "      <th>country</th>\n",
       "      <th>no_of_guests</th>\n",
       "    </tr>\n",
       "  </thead>\n",
       "  <tbody>\n",
       "    <tr>\n",
       "      <th>0</th>\n",
       "      <td>PRT</td>\n",
       "      <td>21398</td>\n",
       "    </tr>\n",
       "    <tr>\n",
       "      <th>1</th>\n",
       "      <td>GBR</td>\n",
       "      <td>9668</td>\n",
       "    </tr>\n",
       "    <tr>\n",
       "      <th>2</th>\n",
       "      <td>FRA</td>\n",
       "      <td>8468</td>\n",
       "    </tr>\n",
       "    <tr>\n",
       "      <th>3</th>\n",
       "      <td>ESP</td>\n",
       "      <td>6383</td>\n",
       "    </tr>\n",
       "    <tr>\n",
       "      <th>4</th>\n",
       "      <td>DEU</td>\n",
       "      <td>6067</td>\n",
       "    </tr>\n",
       "    <tr>\n",
       "      <th>...</th>\n",
       "      <td>...</td>\n",
       "      <td>...</td>\n",
       "    </tr>\n",
       "    <tr>\n",
       "      <th>160</th>\n",
       "      <td>NCL</td>\n",
       "      <td>1</td>\n",
       "    </tr>\n",
       "    <tr>\n",
       "      <th>161</th>\n",
       "      <td>LCA</td>\n",
       "      <td>1</td>\n",
       "    </tr>\n",
       "    <tr>\n",
       "      <th>162</th>\n",
       "      <td>CYM</td>\n",
       "      <td>1</td>\n",
       "    </tr>\n",
       "    <tr>\n",
       "      <th>163</th>\n",
       "      <td>BHR</td>\n",
       "      <td>1</td>\n",
       "    </tr>\n",
       "    <tr>\n",
       "      <th>164</th>\n",
       "      <td>SYC</td>\n",
       "      <td>1</td>\n",
       "    </tr>\n",
       "  </tbody>\n",
       "</table>\n",
       "<p>165 rows × 2 columns</p>\n",
       "</div>"
      ],
      "text/plain": [
       "    country  no_of_guests\n",
       "0       PRT         21398\n",
       "1       GBR          9668\n",
       "2       FRA          8468\n",
       "3       ESP          6383\n",
       "4       DEU          6067\n",
       "..      ...           ...\n",
       "160     NCL             1\n",
       "161     LCA             1\n",
       "162     CYM             1\n",
       "163     BHR             1\n",
       "164     SYC             1\n",
       "\n",
       "[165 rows x 2 columns]"
      ]
     },
     "execution_count": 21,
     "metadata": {},
     "output_type": "execute_result"
    }
   ],
   "source": [
    "country_wise_data\n"
   ]
  },
  {
   "cell_type": "code",
   "execution_count": 22,
   "id": "95fa15a6",
   "metadata": {},
   "outputs": [
    {
     "name": "stdout",
     "output_type": "stream",
     "text": [
      "Requirement already satisfied: plotly in c:\\users\\hp\\anaconda3\\lib\\site-packages (5.13.1)\n",
      "Requirement already satisfied: tenacity>=6.2.0 in c:\\users\\hp\\anaconda3\\lib\\site-packages (from plotly) (8.2.2)\n"
     ]
    }
   ],
   "source": [
    "\n",
    "!pip install plotly"
   ]
  },
  {
   "cell_type": "code",
   "execution_count": 23,
   "id": "b477fdcd",
   "metadata": {},
   "outputs": [
    {
     "name": "stdout",
     "output_type": "stream",
     "text": [
      "Requirement already satisfied: chart_studio in c:\\users\\hp\\anaconda3\\lib\\site-packages (1.1.0)\n",
      "Requirement already satisfied: requests in c:\\users\\hp\\anaconda3\\lib\\site-packages (from chart_studio) (2.25.1)\n",
      "Requirement already satisfied: plotly in c:\\users\\hp\\anaconda3\\lib\\site-packages (from chart_studio) (5.13.1)\n",
      "Requirement already satisfied: retrying>=1.3.3 in c:\\users\\hp\\anaconda3\\lib\\site-packages (from chart_studio) (1.3.4)\n",
      "Requirement already satisfied: six in c:\\users\\hp\\anaconda3\\lib\\site-packages (from chart_studio) (1.15.0)\n",
      "Requirement already satisfied: tenacity>=6.2.0 in c:\\users\\hp\\anaconda3\\lib\\site-packages (from plotly->chart_studio) (8.2.2)\n",
      "Requirement already satisfied: certifi>=2017.4.17 in c:\\users\\hp\\anaconda3\\lib\\site-packages (from requests->chart_studio) (2020.12.5)\n",
      "Requirement already satisfied: urllib3<1.27,>=1.21.1 in c:\\users\\hp\\anaconda3\\lib\\site-packages (from requests->chart_studio) (1.26.4)\n",
      "Requirement already satisfied: chardet<5,>=3.0.2 in c:\\users\\hp\\anaconda3\\lib\\site-packages (from requests->chart_studio) (4.0.0)\n",
      "Requirement already satisfied: idna<3,>=2.5 in c:\\users\\hp\\anaconda3\\lib\\site-packages (from requests->chart_studio) (2.10)\n"
     ]
    }
   ],
   "source": [
    "!pip install chart_studio"
   ]
  },
  {
   "cell_type": "code",
   "execution_count": 24,
   "id": "5c2263cf",
   "metadata": {},
   "outputs": [
    {
     "data": {
      "text/html": [
       "        <script type=\"text/javascript\">\n",
       "        window.PlotlyConfig = {MathJaxConfig: 'local'};\n",
       "        if (window.MathJax && window.MathJax.Hub && window.MathJax.Hub.Config) {window.MathJax.Hub.Config({SVG: {font: \"STIX-Web\"}});}\n",
       "        if (typeof require !== 'undefined') {\n",
       "        require.undef(\"plotly\");\n",
       "        requirejs.config({\n",
       "            paths: {\n",
       "                'plotly': ['https://cdn.plot.ly/plotly-2.18.2.min']\n",
       "            }\n",
       "        });\n",
       "        require(['plotly'], function(Plotly) {\n",
       "            window._Plotly = Plotly;\n",
       "        });\n",
       "        }\n",
       "        </script>\n",
       "        "
      ]
     },
     "metadata": {},
     "output_type": "display_data"
    }
   ],
   "source": [
    "import plotly\n",
    "import chart_studio.plotly as py\n",
    "from plotly.offline import download_plotlyjs, init_notebook_mode, plot, iplot\n",
    "init_notebook_mode(connected = True)"
   ]
  },
  {
   "cell_type": "code",
   "execution_count": 25,
   "id": "d41bb749",
   "metadata": {},
   "outputs": [],
   "source": [
    "import plotly.express as px"
   ]
  },
  {
   "cell_type": "code",
   "execution_count": 26,
   "id": "c6b07538",
   "metadata": {},
   "outputs": [],
   "source": [
    "map_guest = px.choropleth(country_wise_data, locations = country_wise_data['country'], color = country_wise_data\n",
    "                          ['no_of_guests'], hover_name = country_wise_data['country'], title= 'home country of guests')"
   ]
  },
  {
   "cell_type": "code",
   "execution_count": 27,
   "id": "cc0647d1",
   "metadata": {},
   "outputs": [
    {
     "data": {
      "application/vnd.plotly.v1+json": {
       "config": {
        "plotlyServerURL": "https://plot.ly"
       },
       "data": [
        {
         "coloraxis": "coloraxis",
         "geo": "geo",
         "hovertemplate": "<b>%{hovertext}</b><br><br>country=%{location}<br>no_of_guests=%{z}<extra></extra>",
         "hovertext": [
          "PRT",
          "GBR",
          "FRA",
          "ESP",
          "DEU",
          "IRL",
          "ITA",
          "BEL",
          "NLD",
          "USA",
          "BRA",
          "CHE",
          "AUT",
          "CN",
          "SWE",
          "POL",
          "CHN",
          "ISR",
          "NOR",
          "RUS",
          "FIN",
          "ROU",
          "DNK",
          "AUS",
          "LUX",
          "JPN",
          "ARG",
          "AGO",
          "HUN",
          "MAR",
          "TUR",
          "CZE",
          "IND",
          "SRB",
          "GRC",
          "DZA",
          "KOR",
          "MEX",
          "HRV",
          "LTU",
          "NZL",
          "EST",
          "BGR",
          "IRN",
          "ISL",
          "CHL",
          "ZAF",
          "MOZ",
          "UKR",
          "COL",
          "LVA",
          "SVK",
          "THA",
          "SVN",
          "CYP",
          "TWN",
          "MYS",
          "URY",
          "PER",
          "SGP",
          "LBN",
          "EGY",
          "TUN",
          "ECU",
          "JOR",
          "CRI",
          "BLR",
          "SAU",
          "PHL",
          "VEN",
          "IRQ",
          "KAZ",
          "OMN",
          "MLT",
          "NGA",
          "CPV",
          "IDN",
          "PRI",
          "CMR",
          "BIH",
          "KWT",
          "BOL",
          "ALB",
          "PAN",
          "LBY",
          "ARE",
          "AZE",
          "MKD",
          "GNB",
          "CUB",
          "LKA",
          "GEO",
          "GIB",
          "MUS",
          "JAM",
          "DOM",
          "ARM",
          "VNM",
          "SUR",
          "CAF",
          "PAK",
          "GTM",
          "BRB",
          "QAT",
          "KEN",
          "PRY",
          "CIV",
          "HKG",
          "MNE",
          "SEN",
          "MDV",
          "BGD",
          "SYR",
          "MCO",
          "ABW",
          "LAO",
          "KNA",
          "GHA",
          "LIE",
          "TZA",
          "GAB",
          "MWI",
          "TGO",
          "RWA",
          "UGA",
          "STP",
          "TMP",
          "UZB",
          "SLV",
          "ETH",
          "ZWE",
          "AND",
          "ATA",
          "COM",
          "FRO",
          "MAC",
          "SLE",
          "KIR",
          "SDN",
          "DMA",
          "MDG",
          "BHS",
          "MMR",
          "TJK",
          "ATF",
          "DJI",
          "ZMB",
          "GUY",
          "PLW",
          "BDI",
          "AIA",
          "BFA",
          "ASM",
          "NAM",
          "PYF",
          "NPL",
          "BWA",
          "MRT",
          "MLI",
          "SMR",
          "NCL",
          "LCA",
          "CYM",
          "BHR",
          "SYC"
         ],
         "locations": [
          "PRT",
          "GBR",
          "FRA",
          "ESP",
          "DEU",
          "IRL",
          "ITA",
          "BEL",
          "NLD",
          "USA",
          "BRA",
          "CHE",
          "AUT",
          "CN",
          "SWE",
          "POL",
          "CHN",
          "ISR",
          "NOR",
          "RUS",
          "FIN",
          "ROU",
          "DNK",
          "AUS",
          "LUX",
          "JPN",
          "ARG",
          "AGO",
          "HUN",
          "MAR",
          "TUR",
          "CZE",
          "IND",
          "SRB",
          "GRC",
          "DZA",
          "KOR",
          "MEX",
          "HRV",
          "LTU",
          "NZL",
          "EST",
          "BGR",
          "IRN",
          "ISL",
          "CHL",
          "ZAF",
          "MOZ",
          "UKR",
          "COL",
          "LVA",
          "SVK",
          "THA",
          "SVN",
          "CYP",
          "TWN",
          "MYS",
          "URY",
          "PER",
          "SGP",
          "LBN",
          "EGY",
          "TUN",
          "ECU",
          "JOR",
          "CRI",
          "BLR",
          "SAU",
          "PHL",
          "VEN",
          "IRQ",
          "KAZ",
          "OMN",
          "MLT",
          "NGA",
          "CPV",
          "IDN",
          "PRI",
          "CMR",
          "BIH",
          "KWT",
          "BOL",
          "ALB",
          "PAN",
          "LBY",
          "ARE",
          "AZE",
          "MKD",
          "GNB",
          "CUB",
          "LKA",
          "GEO",
          "GIB",
          "MUS",
          "JAM",
          "DOM",
          "ARM",
          "VNM",
          "SUR",
          "CAF",
          "PAK",
          "GTM",
          "BRB",
          "QAT",
          "KEN",
          "PRY",
          "CIV",
          "HKG",
          "MNE",
          "SEN",
          "MDV",
          "BGD",
          "SYR",
          "MCO",
          "ABW",
          "LAO",
          "KNA",
          "GHA",
          "LIE",
          "TZA",
          "GAB",
          "MWI",
          "TGO",
          "RWA",
          "UGA",
          "STP",
          "TMP",
          "UZB",
          "SLV",
          "ETH",
          "ZWE",
          "AND",
          "ATA",
          "COM",
          "FRO",
          "MAC",
          "SLE",
          "KIR",
          "SDN",
          "DMA",
          "MDG",
          "BHS",
          "MMR",
          "TJK",
          "ATF",
          "DJI",
          "ZMB",
          "GUY",
          "PLW",
          "BDI",
          "AIA",
          "BFA",
          "ASM",
          "NAM",
          "PYF",
          "NPL",
          "BWA",
          "MRT",
          "MLI",
          "SMR",
          "NCL",
          "LCA",
          "CYM",
          "BHR",
          "SYC"
         ],
         "name": "",
         "type": "choropleth",
         "z": [
          21398,
          9668,
          8468,
          6383,
          6067,
          2542,
          2428,
          1868,
          1716,
          1592,
          1392,
          1298,
          1033,
          1025,
          793,
          703,
          537,
          500,
          426,
          391,
          377,
          366,
          326,
          319,
          177,
          169,
          160,
          157,
          153,
          150,
          146,
          134,
          116,
          98,
          93,
          82,
          78,
          75,
          75,
          74,
          68,
          65,
          63,
          59,
          53,
          49,
          49,
          48,
          48,
          48,
          46,
          41,
          41,
          41,
          40,
          37,
          25,
          23,
          23,
          22,
          22,
          21,
          20,
          19,
          18,
          18,
          17,
          15,
          15,
          14,
          14,
          14,
          14,
          13,
          13,
          12,
          11,
          10,
          10,
          10,
          10,
          10,
          10,
          9,
          8,
          8,
          8,
          8,
          8,
          8,
          7,
          7,
          7,
          6,
          6,
          6,
          6,
          6,
          5,
          5,
          5,
          4,
          4,
          4,
          4,
          4,
          4,
          3,
          3,
          3,
          3,
          3,
          3,
          3,
          2,
          2,
          2,
          2,
          2,
          2,
          2,
          2,
          2,
          2,
          2,
          2,
          2,
          2,
          2,
          2,
          2,
          2,
          2,
          2,
          1,
          1,
          1,
          1,
          1,
          1,
          1,
          1,
          1,
          1,
          1,
          1,
          1,
          1,
          1,
          1,
          1,
          1,
          1,
          1,
          1,
          1,
          1,
          1,
          1,
          1,
          1,
          1,
          1,
          1,
          1
         ]
        }
       ],
       "layout": {
        "coloraxis": {
         "colorbar": {
          "title": {
           "text": "no_of_guests"
          }
         },
         "colorscale": [
          [
           0,
           "#0d0887"
          ],
          [
           0.1111111111111111,
           "#46039f"
          ],
          [
           0.2222222222222222,
           "#7201a8"
          ],
          [
           0.3333333333333333,
           "#9c179e"
          ],
          [
           0.4444444444444444,
           "#bd3786"
          ],
          [
           0.5555555555555556,
           "#d8576b"
          ],
          [
           0.6666666666666666,
           "#ed7953"
          ],
          [
           0.7777777777777778,
           "#fb9f3a"
          ],
          [
           0.8888888888888888,
           "#fdca26"
          ],
          [
           1,
           "#f0f921"
          ]
         ]
        },
        "geo": {
         "center": {},
         "domain": {
          "x": [
           0,
           1
          ],
          "y": [
           0,
           1
          ]
         }
        },
        "legend": {
         "tracegroupgap": 0
        },
        "template": {
         "data": {
          "bar": [
           {
            "error_x": {
             "color": "#2a3f5f"
            },
            "error_y": {
             "color": "#2a3f5f"
            },
            "marker": {
             "line": {
              "color": "#E5ECF6",
              "width": 0.5
             },
             "pattern": {
              "fillmode": "overlay",
              "size": 10,
              "solidity": 0.2
             }
            },
            "type": "bar"
           }
          ],
          "barpolar": [
           {
            "marker": {
             "line": {
              "color": "#E5ECF6",
              "width": 0.5
             },
             "pattern": {
              "fillmode": "overlay",
              "size": 10,
              "solidity": 0.2
             }
            },
            "type": "barpolar"
           }
          ],
          "carpet": [
           {
            "aaxis": {
             "endlinecolor": "#2a3f5f",
             "gridcolor": "white",
             "linecolor": "white",
             "minorgridcolor": "white",
             "startlinecolor": "#2a3f5f"
            },
            "baxis": {
             "endlinecolor": "#2a3f5f",
             "gridcolor": "white",
             "linecolor": "white",
             "minorgridcolor": "white",
             "startlinecolor": "#2a3f5f"
            },
            "type": "carpet"
           }
          ],
          "choropleth": [
           {
            "colorbar": {
             "outlinewidth": 0,
             "ticks": ""
            },
            "type": "choropleth"
           }
          ],
          "contour": [
           {
            "colorbar": {
             "outlinewidth": 0,
             "ticks": ""
            },
            "colorscale": [
             [
              0,
              "#0d0887"
             ],
             [
              0.1111111111111111,
              "#46039f"
             ],
             [
              0.2222222222222222,
              "#7201a8"
             ],
             [
              0.3333333333333333,
              "#9c179e"
             ],
             [
              0.4444444444444444,
              "#bd3786"
             ],
             [
              0.5555555555555556,
              "#d8576b"
             ],
             [
              0.6666666666666666,
              "#ed7953"
             ],
             [
              0.7777777777777778,
              "#fb9f3a"
             ],
             [
              0.8888888888888888,
              "#fdca26"
             ],
             [
              1,
              "#f0f921"
             ]
            ],
            "type": "contour"
           }
          ],
          "contourcarpet": [
           {
            "colorbar": {
             "outlinewidth": 0,
             "ticks": ""
            },
            "type": "contourcarpet"
           }
          ],
          "heatmap": [
           {
            "colorbar": {
             "outlinewidth": 0,
             "ticks": ""
            },
            "colorscale": [
             [
              0,
              "#0d0887"
             ],
             [
              0.1111111111111111,
              "#46039f"
             ],
             [
              0.2222222222222222,
              "#7201a8"
             ],
             [
              0.3333333333333333,
              "#9c179e"
             ],
             [
              0.4444444444444444,
              "#bd3786"
             ],
             [
              0.5555555555555556,
              "#d8576b"
             ],
             [
              0.6666666666666666,
              "#ed7953"
             ],
             [
              0.7777777777777778,
              "#fb9f3a"
             ],
             [
              0.8888888888888888,
              "#fdca26"
             ],
             [
              1,
              "#f0f921"
             ]
            ],
            "type": "heatmap"
           }
          ],
          "heatmapgl": [
           {
            "colorbar": {
             "outlinewidth": 0,
             "ticks": ""
            },
            "colorscale": [
             [
              0,
              "#0d0887"
             ],
             [
              0.1111111111111111,
              "#46039f"
             ],
             [
              0.2222222222222222,
              "#7201a8"
             ],
             [
              0.3333333333333333,
              "#9c179e"
             ],
             [
              0.4444444444444444,
              "#bd3786"
             ],
             [
              0.5555555555555556,
              "#d8576b"
             ],
             [
              0.6666666666666666,
              "#ed7953"
             ],
             [
              0.7777777777777778,
              "#fb9f3a"
             ],
             [
              0.8888888888888888,
              "#fdca26"
             ],
             [
              1,
              "#f0f921"
             ]
            ],
            "type": "heatmapgl"
           }
          ],
          "histogram": [
           {
            "marker": {
             "pattern": {
              "fillmode": "overlay",
              "size": 10,
              "solidity": 0.2
             }
            },
            "type": "histogram"
           }
          ],
          "histogram2d": [
           {
            "colorbar": {
             "outlinewidth": 0,
             "ticks": ""
            },
            "colorscale": [
             [
              0,
              "#0d0887"
             ],
             [
              0.1111111111111111,
              "#46039f"
             ],
             [
              0.2222222222222222,
              "#7201a8"
             ],
             [
              0.3333333333333333,
              "#9c179e"
             ],
             [
              0.4444444444444444,
              "#bd3786"
             ],
             [
              0.5555555555555556,
              "#d8576b"
             ],
             [
              0.6666666666666666,
              "#ed7953"
             ],
             [
              0.7777777777777778,
              "#fb9f3a"
             ],
             [
              0.8888888888888888,
              "#fdca26"
             ],
             [
              1,
              "#f0f921"
             ]
            ],
            "type": "histogram2d"
           }
          ],
          "histogram2dcontour": [
           {
            "colorbar": {
             "outlinewidth": 0,
             "ticks": ""
            },
            "colorscale": [
             [
              0,
              "#0d0887"
             ],
             [
              0.1111111111111111,
              "#46039f"
             ],
             [
              0.2222222222222222,
              "#7201a8"
             ],
             [
              0.3333333333333333,
              "#9c179e"
             ],
             [
              0.4444444444444444,
              "#bd3786"
             ],
             [
              0.5555555555555556,
              "#d8576b"
             ],
             [
              0.6666666666666666,
              "#ed7953"
             ],
             [
              0.7777777777777778,
              "#fb9f3a"
             ],
             [
              0.8888888888888888,
              "#fdca26"
             ],
             [
              1,
              "#f0f921"
             ]
            ],
            "type": "histogram2dcontour"
           }
          ],
          "mesh3d": [
           {
            "colorbar": {
             "outlinewidth": 0,
             "ticks": ""
            },
            "type": "mesh3d"
           }
          ],
          "parcoords": [
           {
            "line": {
             "colorbar": {
              "outlinewidth": 0,
              "ticks": ""
             }
            },
            "type": "parcoords"
           }
          ],
          "pie": [
           {
            "automargin": true,
            "type": "pie"
           }
          ],
          "scatter": [
           {
            "fillpattern": {
             "fillmode": "overlay",
             "size": 10,
             "solidity": 0.2
            },
            "type": "scatter"
           }
          ],
          "scatter3d": [
           {
            "line": {
             "colorbar": {
              "outlinewidth": 0,
              "ticks": ""
             }
            },
            "marker": {
             "colorbar": {
              "outlinewidth": 0,
              "ticks": ""
             }
            },
            "type": "scatter3d"
           }
          ],
          "scattercarpet": [
           {
            "marker": {
             "colorbar": {
              "outlinewidth": 0,
              "ticks": ""
             }
            },
            "type": "scattercarpet"
           }
          ],
          "scattergeo": [
           {
            "marker": {
             "colorbar": {
              "outlinewidth": 0,
              "ticks": ""
             }
            },
            "type": "scattergeo"
           }
          ],
          "scattergl": [
           {
            "marker": {
             "colorbar": {
              "outlinewidth": 0,
              "ticks": ""
             }
            },
            "type": "scattergl"
           }
          ],
          "scattermapbox": [
           {
            "marker": {
             "colorbar": {
              "outlinewidth": 0,
              "ticks": ""
             }
            },
            "type": "scattermapbox"
           }
          ],
          "scatterpolar": [
           {
            "marker": {
             "colorbar": {
              "outlinewidth": 0,
              "ticks": ""
             }
            },
            "type": "scatterpolar"
           }
          ],
          "scatterpolargl": [
           {
            "marker": {
             "colorbar": {
              "outlinewidth": 0,
              "ticks": ""
             }
            },
            "type": "scatterpolargl"
           }
          ],
          "scatterternary": [
           {
            "marker": {
             "colorbar": {
              "outlinewidth": 0,
              "ticks": ""
             }
            },
            "type": "scatterternary"
           }
          ],
          "surface": [
           {
            "colorbar": {
             "outlinewidth": 0,
             "ticks": ""
            },
            "colorscale": [
             [
              0,
              "#0d0887"
             ],
             [
              0.1111111111111111,
              "#46039f"
             ],
             [
              0.2222222222222222,
              "#7201a8"
             ],
             [
              0.3333333333333333,
              "#9c179e"
             ],
             [
              0.4444444444444444,
              "#bd3786"
             ],
             [
              0.5555555555555556,
              "#d8576b"
             ],
             [
              0.6666666666666666,
              "#ed7953"
             ],
             [
              0.7777777777777778,
              "#fb9f3a"
             ],
             [
              0.8888888888888888,
              "#fdca26"
             ],
             [
              1,
              "#f0f921"
             ]
            ],
            "type": "surface"
           }
          ],
          "table": [
           {
            "cells": {
             "fill": {
              "color": "#EBF0F8"
             },
             "line": {
              "color": "white"
             }
            },
            "header": {
             "fill": {
              "color": "#C8D4E3"
             },
             "line": {
              "color": "white"
             }
            },
            "type": "table"
           }
          ]
         },
         "layout": {
          "annotationdefaults": {
           "arrowcolor": "#2a3f5f",
           "arrowhead": 0,
           "arrowwidth": 1
          },
          "autotypenumbers": "strict",
          "coloraxis": {
           "colorbar": {
            "outlinewidth": 0,
            "ticks": ""
           }
          },
          "colorscale": {
           "diverging": [
            [
             0,
             "#8e0152"
            ],
            [
             0.1,
             "#c51b7d"
            ],
            [
             0.2,
             "#de77ae"
            ],
            [
             0.3,
             "#f1b6da"
            ],
            [
             0.4,
             "#fde0ef"
            ],
            [
             0.5,
             "#f7f7f7"
            ],
            [
             0.6,
             "#e6f5d0"
            ],
            [
             0.7,
             "#b8e186"
            ],
            [
             0.8,
             "#7fbc41"
            ],
            [
             0.9,
             "#4d9221"
            ],
            [
             1,
             "#276419"
            ]
           ],
           "sequential": [
            [
             0,
             "#0d0887"
            ],
            [
             0.1111111111111111,
             "#46039f"
            ],
            [
             0.2222222222222222,
             "#7201a8"
            ],
            [
             0.3333333333333333,
             "#9c179e"
            ],
            [
             0.4444444444444444,
             "#bd3786"
            ],
            [
             0.5555555555555556,
             "#d8576b"
            ],
            [
             0.6666666666666666,
             "#ed7953"
            ],
            [
             0.7777777777777778,
             "#fb9f3a"
            ],
            [
             0.8888888888888888,
             "#fdca26"
            ],
            [
             1,
             "#f0f921"
            ]
           ],
           "sequentialminus": [
            [
             0,
             "#0d0887"
            ],
            [
             0.1111111111111111,
             "#46039f"
            ],
            [
             0.2222222222222222,
             "#7201a8"
            ],
            [
             0.3333333333333333,
             "#9c179e"
            ],
            [
             0.4444444444444444,
             "#bd3786"
            ],
            [
             0.5555555555555556,
             "#d8576b"
            ],
            [
             0.6666666666666666,
             "#ed7953"
            ],
            [
             0.7777777777777778,
             "#fb9f3a"
            ],
            [
             0.8888888888888888,
             "#fdca26"
            ],
            [
             1,
             "#f0f921"
            ]
           ]
          },
          "colorway": [
           "#636efa",
           "#EF553B",
           "#00cc96",
           "#ab63fa",
           "#FFA15A",
           "#19d3f3",
           "#FF6692",
           "#B6E880",
           "#FF97FF",
           "#FECB52"
          ],
          "font": {
           "color": "#2a3f5f"
          },
          "geo": {
           "bgcolor": "white",
           "lakecolor": "white",
           "landcolor": "#E5ECF6",
           "showlakes": true,
           "showland": true,
           "subunitcolor": "white"
          },
          "hoverlabel": {
           "align": "left"
          },
          "hovermode": "closest",
          "mapbox": {
           "style": "light"
          },
          "paper_bgcolor": "white",
          "plot_bgcolor": "#E5ECF6",
          "polar": {
           "angularaxis": {
            "gridcolor": "white",
            "linecolor": "white",
            "ticks": ""
           },
           "bgcolor": "#E5ECF6",
           "radialaxis": {
            "gridcolor": "white",
            "linecolor": "white",
            "ticks": ""
           }
          },
          "scene": {
           "xaxis": {
            "backgroundcolor": "#E5ECF6",
            "gridcolor": "white",
            "gridwidth": 2,
            "linecolor": "white",
            "showbackground": true,
            "ticks": "",
            "zerolinecolor": "white"
           },
           "yaxis": {
            "backgroundcolor": "#E5ECF6",
            "gridcolor": "white",
            "gridwidth": 2,
            "linecolor": "white",
            "showbackground": true,
            "ticks": "",
            "zerolinecolor": "white"
           },
           "zaxis": {
            "backgroundcolor": "#E5ECF6",
            "gridcolor": "white",
            "gridwidth": 2,
            "linecolor": "white",
            "showbackground": true,
            "ticks": "",
            "zerolinecolor": "white"
           }
          },
          "shapedefaults": {
           "line": {
            "color": "#2a3f5f"
           }
          },
          "ternary": {
           "aaxis": {
            "gridcolor": "white",
            "linecolor": "white",
            "ticks": ""
           },
           "baxis": {
            "gridcolor": "white",
            "linecolor": "white",
            "ticks": ""
           },
           "bgcolor": "#E5ECF6",
           "caxis": {
            "gridcolor": "white",
            "linecolor": "white",
            "ticks": ""
           }
          },
          "title": {
           "x": 0.05
          },
          "xaxis": {
           "automargin": true,
           "gridcolor": "white",
           "linecolor": "white",
           "ticks": "",
           "title": {
            "standoff": 15
           },
           "zerolinecolor": "white",
           "zerolinewidth": 2
          },
          "yaxis": {
           "automargin": true,
           "gridcolor": "white",
           "linecolor": "white",
           "ticks": "",
           "title": {
            "standoff": 15
           },
           "zerolinecolor": "white",
           "zerolinewidth": 2
          }
         }
        },
        "title": {
         "text": "home country of guests"
        }
       }
      },
      "text/html": [
       "<div>                            <div id=\"17ff666e-cb4f-43fc-8ae4-a6225bf34e62\" class=\"plotly-graph-div\" style=\"height:525px; width:100%;\"></div>            <script type=\"text/javascript\">                require([\"plotly\"], function(Plotly) {                    window.PLOTLYENV=window.PLOTLYENV || {};                                    if (document.getElementById(\"17ff666e-cb4f-43fc-8ae4-a6225bf34e62\")) {                    Plotly.newPlot(                        \"17ff666e-cb4f-43fc-8ae4-a6225bf34e62\",                        [{\"coloraxis\":\"coloraxis\",\"geo\":\"geo\",\"hovertemplate\":\"<b>%{hovertext}</b><br><br>country=%{location}<br>no_of_guests=%{z}<extra></extra>\",\"hovertext\":[\"PRT\",\"GBR\",\"FRA\",\"ESP\",\"DEU\",\"IRL\",\"ITA\",\"BEL\",\"NLD\",\"USA\",\"BRA\",\"CHE\",\"AUT\",\"CN\",\"SWE\",\"POL\",\"CHN\",\"ISR\",\"NOR\",\"RUS\",\"FIN\",\"ROU\",\"DNK\",\"AUS\",\"LUX\",\"JPN\",\"ARG\",\"AGO\",\"HUN\",\"MAR\",\"TUR\",\"CZE\",\"IND\",\"SRB\",\"GRC\",\"DZA\",\"KOR\",\"MEX\",\"HRV\",\"LTU\",\"NZL\",\"EST\",\"BGR\",\"IRN\",\"ISL\",\"CHL\",\"ZAF\",\"MOZ\",\"UKR\",\"COL\",\"LVA\",\"SVK\",\"THA\",\"SVN\",\"CYP\",\"TWN\",\"MYS\",\"URY\",\"PER\",\"SGP\",\"LBN\",\"EGY\",\"TUN\",\"ECU\",\"JOR\",\"CRI\",\"BLR\",\"SAU\",\"PHL\",\"VEN\",\"IRQ\",\"KAZ\",\"OMN\",\"MLT\",\"NGA\",\"CPV\",\"IDN\",\"PRI\",\"CMR\",\"BIH\",\"KWT\",\"BOL\",\"ALB\",\"PAN\",\"LBY\",\"ARE\",\"AZE\",\"MKD\",\"GNB\",\"CUB\",\"LKA\",\"GEO\",\"GIB\",\"MUS\",\"JAM\",\"DOM\",\"ARM\",\"VNM\",\"SUR\",\"CAF\",\"PAK\",\"GTM\",\"BRB\",\"QAT\",\"KEN\",\"PRY\",\"CIV\",\"HKG\",\"MNE\",\"SEN\",\"MDV\",\"BGD\",\"SYR\",\"MCO\",\"ABW\",\"LAO\",\"KNA\",\"GHA\",\"LIE\",\"TZA\",\"GAB\",\"MWI\",\"TGO\",\"RWA\",\"UGA\",\"STP\",\"TMP\",\"UZB\",\"SLV\",\"ETH\",\"ZWE\",\"AND\",\"ATA\",\"COM\",\"FRO\",\"MAC\",\"SLE\",\"KIR\",\"SDN\",\"DMA\",\"MDG\",\"BHS\",\"MMR\",\"TJK\",\"ATF\",\"DJI\",\"ZMB\",\"GUY\",\"PLW\",\"BDI\",\"AIA\",\"BFA\",\"ASM\",\"NAM\",\"PYF\",\"NPL\",\"BWA\",\"MRT\",\"MLI\",\"SMR\",\"NCL\",\"LCA\",\"CYM\",\"BHR\",\"SYC\"],\"locations\":[\"PRT\",\"GBR\",\"FRA\",\"ESP\",\"DEU\",\"IRL\",\"ITA\",\"BEL\",\"NLD\",\"USA\",\"BRA\",\"CHE\",\"AUT\",\"CN\",\"SWE\",\"POL\",\"CHN\",\"ISR\",\"NOR\",\"RUS\",\"FIN\",\"ROU\",\"DNK\",\"AUS\",\"LUX\",\"JPN\",\"ARG\",\"AGO\",\"HUN\",\"MAR\",\"TUR\",\"CZE\",\"IND\",\"SRB\",\"GRC\",\"DZA\",\"KOR\",\"MEX\",\"HRV\",\"LTU\",\"NZL\",\"EST\",\"BGR\",\"IRN\",\"ISL\",\"CHL\",\"ZAF\",\"MOZ\",\"UKR\",\"COL\",\"LVA\",\"SVK\",\"THA\",\"SVN\",\"CYP\",\"TWN\",\"MYS\",\"URY\",\"PER\",\"SGP\",\"LBN\",\"EGY\",\"TUN\",\"ECU\",\"JOR\",\"CRI\",\"BLR\",\"SAU\",\"PHL\",\"VEN\",\"IRQ\",\"KAZ\",\"OMN\",\"MLT\",\"NGA\",\"CPV\",\"IDN\",\"PRI\",\"CMR\",\"BIH\",\"KWT\",\"BOL\",\"ALB\",\"PAN\",\"LBY\",\"ARE\",\"AZE\",\"MKD\",\"GNB\",\"CUB\",\"LKA\",\"GEO\",\"GIB\",\"MUS\",\"JAM\",\"DOM\",\"ARM\",\"VNM\",\"SUR\",\"CAF\",\"PAK\",\"GTM\",\"BRB\",\"QAT\",\"KEN\",\"PRY\",\"CIV\",\"HKG\",\"MNE\",\"SEN\",\"MDV\",\"BGD\",\"SYR\",\"MCO\",\"ABW\",\"LAO\",\"KNA\",\"GHA\",\"LIE\",\"TZA\",\"GAB\",\"MWI\",\"TGO\",\"RWA\",\"UGA\",\"STP\",\"TMP\",\"UZB\",\"SLV\",\"ETH\",\"ZWE\",\"AND\",\"ATA\",\"COM\",\"FRO\",\"MAC\",\"SLE\",\"KIR\",\"SDN\",\"DMA\",\"MDG\",\"BHS\",\"MMR\",\"TJK\",\"ATF\",\"DJI\",\"ZMB\",\"GUY\",\"PLW\",\"BDI\",\"AIA\",\"BFA\",\"ASM\",\"NAM\",\"PYF\",\"NPL\",\"BWA\",\"MRT\",\"MLI\",\"SMR\",\"NCL\",\"LCA\",\"CYM\",\"BHR\",\"SYC\"],\"name\":\"\",\"z\":[21398,9668,8468,6383,6067,2542,2428,1868,1716,1592,1392,1298,1033,1025,793,703,537,500,426,391,377,366,326,319,177,169,160,157,153,150,146,134,116,98,93,82,78,75,75,74,68,65,63,59,53,49,49,48,48,48,46,41,41,41,40,37,25,23,23,22,22,21,20,19,18,18,17,15,15,14,14,14,14,13,13,12,11,10,10,10,10,10,10,9,8,8,8,8,8,8,7,7,7,6,6,6,6,6,5,5,5,4,4,4,4,4,4,3,3,3,3,3,3,3,2,2,2,2,2,2,2,2,2,2,2,2,2,2,2,2,2,2,2,2,1,1,1,1,1,1,1,1,1,1,1,1,1,1,1,1,1,1,1,1,1,1,1,1,1,1,1,1,1,1,1],\"type\":\"choropleth\"}],                        {\"template\":{\"data\":{\"histogram2dcontour\":[{\"type\":\"histogram2dcontour\",\"colorbar\":{\"outlinewidth\":0,\"ticks\":\"\"},\"colorscale\":[[0.0,\"#0d0887\"],[0.1111111111111111,\"#46039f\"],[0.2222222222222222,\"#7201a8\"],[0.3333333333333333,\"#9c179e\"],[0.4444444444444444,\"#bd3786\"],[0.5555555555555556,\"#d8576b\"],[0.6666666666666666,\"#ed7953\"],[0.7777777777777778,\"#fb9f3a\"],[0.8888888888888888,\"#fdca26\"],[1.0,\"#f0f921\"]]}],\"choropleth\":[{\"type\":\"choropleth\",\"colorbar\":{\"outlinewidth\":0,\"ticks\":\"\"}}],\"histogram2d\":[{\"type\":\"histogram2d\",\"colorbar\":{\"outlinewidth\":0,\"ticks\":\"\"},\"colorscale\":[[0.0,\"#0d0887\"],[0.1111111111111111,\"#46039f\"],[0.2222222222222222,\"#7201a8\"],[0.3333333333333333,\"#9c179e\"],[0.4444444444444444,\"#bd3786\"],[0.5555555555555556,\"#d8576b\"],[0.6666666666666666,\"#ed7953\"],[0.7777777777777778,\"#fb9f3a\"],[0.8888888888888888,\"#fdca26\"],[1.0,\"#f0f921\"]]}],\"heatmap\":[{\"type\":\"heatmap\",\"colorbar\":{\"outlinewidth\":0,\"ticks\":\"\"},\"colorscale\":[[0.0,\"#0d0887\"],[0.1111111111111111,\"#46039f\"],[0.2222222222222222,\"#7201a8\"],[0.3333333333333333,\"#9c179e\"],[0.4444444444444444,\"#bd3786\"],[0.5555555555555556,\"#d8576b\"],[0.6666666666666666,\"#ed7953\"],[0.7777777777777778,\"#fb9f3a\"],[0.8888888888888888,\"#fdca26\"],[1.0,\"#f0f921\"]]}],\"heatmapgl\":[{\"type\":\"heatmapgl\",\"colorbar\":{\"outlinewidth\":0,\"ticks\":\"\"},\"colorscale\":[[0.0,\"#0d0887\"],[0.1111111111111111,\"#46039f\"],[0.2222222222222222,\"#7201a8\"],[0.3333333333333333,\"#9c179e\"],[0.4444444444444444,\"#bd3786\"],[0.5555555555555556,\"#d8576b\"],[0.6666666666666666,\"#ed7953\"],[0.7777777777777778,\"#fb9f3a\"],[0.8888888888888888,\"#fdca26\"],[1.0,\"#f0f921\"]]}],\"contourcarpet\":[{\"type\":\"contourcarpet\",\"colorbar\":{\"outlinewidth\":0,\"ticks\":\"\"}}],\"contour\":[{\"type\":\"contour\",\"colorbar\":{\"outlinewidth\":0,\"ticks\":\"\"},\"colorscale\":[[0.0,\"#0d0887\"],[0.1111111111111111,\"#46039f\"],[0.2222222222222222,\"#7201a8\"],[0.3333333333333333,\"#9c179e\"],[0.4444444444444444,\"#bd3786\"],[0.5555555555555556,\"#d8576b\"],[0.6666666666666666,\"#ed7953\"],[0.7777777777777778,\"#fb9f3a\"],[0.8888888888888888,\"#fdca26\"],[1.0,\"#f0f921\"]]}],\"surface\":[{\"type\":\"surface\",\"colorbar\":{\"outlinewidth\":0,\"ticks\":\"\"},\"colorscale\":[[0.0,\"#0d0887\"],[0.1111111111111111,\"#46039f\"],[0.2222222222222222,\"#7201a8\"],[0.3333333333333333,\"#9c179e\"],[0.4444444444444444,\"#bd3786\"],[0.5555555555555556,\"#d8576b\"],[0.6666666666666666,\"#ed7953\"],[0.7777777777777778,\"#fb9f3a\"],[0.8888888888888888,\"#fdca26\"],[1.0,\"#f0f921\"]]}],\"mesh3d\":[{\"type\":\"mesh3d\",\"colorbar\":{\"outlinewidth\":0,\"ticks\":\"\"}}],\"scatter\":[{\"fillpattern\":{\"fillmode\":\"overlay\",\"size\":10,\"solidity\":0.2},\"type\":\"scatter\"}],\"parcoords\":[{\"type\":\"parcoords\",\"line\":{\"colorbar\":{\"outlinewidth\":0,\"ticks\":\"\"}}}],\"scatterpolargl\":[{\"type\":\"scatterpolargl\",\"marker\":{\"colorbar\":{\"outlinewidth\":0,\"ticks\":\"\"}}}],\"bar\":[{\"error_x\":{\"color\":\"#2a3f5f\"},\"error_y\":{\"color\":\"#2a3f5f\"},\"marker\":{\"line\":{\"color\":\"#E5ECF6\",\"width\":0.5},\"pattern\":{\"fillmode\":\"overlay\",\"size\":10,\"solidity\":0.2}},\"type\":\"bar\"}],\"scattergeo\":[{\"type\":\"scattergeo\",\"marker\":{\"colorbar\":{\"outlinewidth\":0,\"ticks\":\"\"}}}],\"scatterpolar\":[{\"type\":\"scatterpolar\",\"marker\":{\"colorbar\":{\"outlinewidth\":0,\"ticks\":\"\"}}}],\"histogram\":[{\"marker\":{\"pattern\":{\"fillmode\":\"overlay\",\"size\":10,\"solidity\":0.2}},\"type\":\"histogram\"}],\"scattergl\":[{\"type\":\"scattergl\",\"marker\":{\"colorbar\":{\"outlinewidth\":0,\"ticks\":\"\"}}}],\"scatter3d\":[{\"type\":\"scatter3d\",\"line\":{\"colorbar\":{\"outlinewidth\":0,\"ticks\":\"\"}},\"marker\":{\"colorbar\":{\"outlinewidth\":0,\"ticks\":\"\"}}}],\"scattermapbox\":[{\"type\":\"scattermapbox\",\"marker\":{\"colorbar\":{\"outlinewidth\":0,\"ticks\":\"\"}}}],\"scatterternary\":[{\"type\":\"scatterternary\",\"marker\":{\"colorbar\":{\"outlinewidth\":0,\"ticks\":\"\"}}}],\"scattercarpet\":[{\"type\":\"scattercarpet\",\"marker\":{\"colorbar\":{\"outlinewidth\":0,\"ticks\":\"\"}}}],\"carpet\":[{\"aaxis\":{\"endlinecolor\":\"#2a3f5f\",\"gridcolor\":\"white\",\"linecolor\":\"white\",\"minorgridcolor\":\"white\",\"startlinecolor\":\"#2a3f5f\"},\"baxis\":{\"endlinecolor\":\"#2a3f5f\",\"gridcolor\":\"white\",\"linecolor\":\"white\",\"minorgridcolor\":\"white\",\"startlinecolor\":\"#2a3f5f\"},\"type\":\"carpet\"}],\"table\":[{\"cells\":{\"fill\":{\"color\":\"#EBF0F8\"},\"line\":{\"color\":\"white\"}},\"header\":{\"fill\":{\"color\":\"#C8D4E3\"},\"line\":{\"color\":\"white\"}},\"type\":\"table\"}],\"barpolar\":[{\"marker\":{\"line\":{\"color\":\"#E5ECF6\",\"width\":0.5},\"pattern\":{\"fillmode\":\"overlay\",\"size\":10,\"solidity\":0.2}},\"type\":\"barpolar\"}],\"pie\":[{\"automargin\":true,\"type\":\"pie\"}]},\"layout\":{\"autotypenumbers\":\"strict\",\"colorway\":[\"#636efa\",\"#EF553B\",\"#00cc96\",\"#ab63fa\",\"#FFA15A\",\"#19d3f3\",\"#FF6692\",\"#B6E880\",\"#FF97FF\",\"#FECB52\"],\"font\":{\"color\":\"#2a3f5f\"},\"hovermode\":\"closest\",\"hoverlabel\":{\"align\":\"left\"},\"paper_bgcolor\":\"white\",\"plot_bgcolor\":\"#E5ECF6\",\"polar\":{\"bgcolor\":\"#E5ECF6\",\"angularaxis\":{\"gridcolor\":\"white\",\"linecolor\":\"white\",\"ticks\":\"\"},\"radialaxis\":{\"gridcolor\":\"white\",\"linecolor\":\"white\",\"ticks\":\"\"}},\"ternary\":{\"bgcolor\":\"#E5ECF6\",\"aaxis\":{\"gridcolor\":\"white\",\"linecolor\":\"white\",\"ticks\":\"\"},\"baxis\":{\"gridcolor\":\"white\",\"linecolor\":\"white\",\"ticks\":\"\"},\"caxis\":{\"gridcolor\":\"white\",\"linecolor\":\"white\",\"ticks\":\"\"}},\"coloraxis\":{\"colorbar\":{\"outlinewidth\":0,\"ticks\":\"\"}},\"colorscale\":{\"sequential\":[[0.0,\"#0d0887\"],[0.1111111111111111,\"#46039f\"],[0.2222222222222222,\"#7201a8\"],[0.3333333333333333,\"#9c179e\"],[0.4444444444444444,\"#bd3786\"],[0.5555555555555556,\"#d8576b\"],[0.6666666666666666,\"#ed7953\"],[0.7777777777777778,\"#fb9f3a\"],[0.8888888888888888,\"#fdca26\"],[1.0,\"#f0f921\"]],\"sequentialminus\":[[0.0,\"#0d0887\"],[0.1111111111111111,\"#46039f\"],[0.2222222222222222,\"#7201a8\"],[0.3333333333333333,\"#9c179e\"],[0.4444444444444444,\"#bd3786\"],[0.5555555555555556,\"#d8576b\"],[0.6666666666666666,\"#ed7953\"],[0.7777777777777778,\"#fb9f3a\"],[0.8888888888888888,\"#fdca26\"],[1.0,\"#f0f921\"]],\"diverging\":[[0,\"#8e0152\"],[0.1,\"#c51b7d\"],[0.2,\"#de77ae\"],[0.3,\"#f1b6da\"],[0.4,\"#fde0ef\"],[0.5,\"#f7f7f7\"],[0.6,\"#e6f5d0\"],[0.7,\"#b8e186\"],[0.8,\"#7fbc41\"],[0.9,\"#4d9221\"],[1,\"#276419\"]]},\"xaxis\":{\"gridcolor\":\"white\",\"linecolor\":\"white\",\"ticks\":\"\",\"title\":{\"standoff\":15},\"zerolinecolor\":\"white\",\"automargin\":true,\"zerolinewidth\":2},\"yaxis\":{\"gridcolor\":\"white\",\"linecolor\":\"white\",\"ticks\":\"\",\"title\":{\"standoff\":15},\"zerolinecolor\":\"white\",\"automargin\":true,\"zerolinewidth\":2},\"scene\":{\"xaxis\":{\"backgroundcolor\":\"#E5ECF6\",\"gridcolor\":\"white\",\"linecolor\":\"white\",\"showbackground\":true,\"ticks\":\"\",\"zerolinecolor\":\"white\",\"gridwidth\":2},\"yaxis\":{\"backgroundcolor\":\"#E5ECF6\",\"gridcolor\":\"white\",\"linecolor\":\"white\",\"showbackground\":true,\"ticks\":\"\",\"zerolinecolor\":\"white\",\"gridwidth\":2},\"zaxis\":{\"backgroundcolor\":\"#E5ECF6\",\"gridcolor\":\"white\",\"linecolor\":\"white\",\"showbackground\":true,\"ticks\":\"\",\"zerolinecolor\":\"white\",\"gridwidth\":2}},\"shapedefaults\":{\"line\":{\"color\":\"#2a3f5f\"}},\"annotationdefaults\":{\"arrowcolor\":\"#2a3f5f\",\"arrowhead\":0,\"arrowwidth\":1},\"geo\":{\"bgcolor\":\"white\",\"landcolor\":\"#E5ECF6\",\"subunitcolor\":\"white\",\"showland\":true,\"showlakes\":true,\"lakecolor\":\"white\"},\"title\":{\"x\":0.05},\"mapbox\":{\"style\":\"light\"}}},\"geo\":{\"domain\":{\"x\":[0.0,1.0],\"y\":[0.0,1.0]},\"center\":{}},\"coloraxis\":{\"colorbar\":{\"title\":{\"text\":\"no_of_guests\"}},\"colorscale\":[[0.0,\"#0d0887\"],[0.1111111111111111,\"#46039f\"],[0.2222222222222222,\"#7201a8\"],[0.3333333333333333,\"#9c179e\"],[0.4444444444444444,\"#bd3786\"],[0.5555555555555556,\"#d8576b\"],[0.6666666666666666,\"#ed7953\"],[0.7777777777777778,\"#fb9f3a\"],[0.8888888888888888,\"#fdca26\"],[1.0,\"#f0f921\"]]},\"legend\":{\"tracegroupgap\":0},\"title\":{\"text\":\"home country of guests\"}},                        {\"responsive\": true}                    ).then(function(){\n",
       "                            \n",
       "var gd = document.getElementById('17ff666e-cb4f-43fc-8ae4-a6225bf34e62');\n",
       "var x = new MutationObserver(function (mutations, observer) {{\n",
       "        var display = window.getComputedStyle(gd).display;\n",
       "        if (!display || display === 'none') {{\n",
       "            console.log([gd, 'removed!']);\n",
       "            Plotly.purge(gd);\n",
       "            observer.disconnect();\n",
       "        }}\n",
       "}});\n",
       "\n",
       "// Listen for the removal of the full notebook cells\n",
       "var notebookContainer = gd.closest('#notebook-container');\n",
       "if (notebookContainer) {{\n",
       "    x.observe(notebookContainer, {childList: true});\n",
       "}}\n",
       "\n",
       "// Listen for the clearing of the current output cell\n",
       "var outputEl = gd.closest('.output');\n",
       "if (outputEl) {{\n",
       "    x.observe(outputEl, {childList: true});\n",
       "}}\n",
       "\n",
       "                        })                };                });            </script>        </div>"
      ]
     },
     "metadata": {},
     "output_type": "display_data"
    }
   ],
   "source": [
    "map_guest.show()"
   ]
  },
  {
   "cell_type": "code",
   "execution_count": null,
   "id": "5af3eb68",
   "metadata": {},
   "outputs": [],
   "source": []
  },
  {
   "cell_type": "code",
   "execution_count": null,
   "id": "1cbf69d7",
   "metadata": {},
   "outputs": [],
   "source": []
  },
  {
   "cell_type": "markdown",
   "id": "2a9920d9",
   "metadata": {},
   "source": [
    "# 4. How much do guests pay for a room per night?"
   ]
  },
  {
   "cell_type": "code",
   "execution_count": 28,
   "id": "4bf24c4c",
   "metadata": {},
   "outputs": [],
   "source": [
    "data2 = data[data['is_canceled']==0]"
   ]
  },
  {
   "cell_type": "code",
   "execution_count": 29,
   "id": "1b3f5d47",
   "metadata": {},
   "outputs": [
    {
     "data": {
      "text/plain": [
       "Index(['hotel', 'is_canceled', 'lead_time', 'arrival_date_year',\n",
       "       'arrival_date_month', 'arrival_date_week_number',\n",
       "       'arrival_date_day_of_month', 'stays_in_weekend_nights',\n",
       "       'stays_in_week_nights', 'adults', 'children', 'babies', 'meal',\n",
       "       'country', 'market_segment', 'distribution_channel',\n",
       "       'is_repeated_guest', 'previous_cancellations',\n",
       "       'previous_bookings_not_canceled', 'reserved_room_type',\n",
       "       'assigned_room_type', 'booking_changes', 'deposit_type',\n",
       "       'days_in_waiting_list', 'customer_type', 'adr',\n",
       "       'required_car_parking_spaces', 'total_of_special_requests',\n",
       "       'reservation_status', 'reservation_status_date'],\n",
       "      dtype='object')"
      ]
     },
     "execution_count": 29,
     "metadata": {},
     "output_type": "execute_result"
    }
   ],
   "source": [
    "data2.columns"
   ]
  },
  {
   "cell_type": "code",
   "execution_count": 30,
   "id": "b176a77f",
   "metadata": {},
   "outputs": [
    {
     "data": {
      "text/plain": [
       "Text(0, 0.5, 'price( EUR)')"
      ]
     },
     "execution_count": 30,
     "metadata": {},
     "output_type": "execute_result"
    },
    {
     "data": {
      "image/png": "[encoded data removed]",
      "text/plain": [
       "<Figure size 864x576 with 1 Axes>"
      ]
     },
     "metadata": {
      "needs_background": "light"
     },
     "output_type": "display_data"
    }
   ],
   "source": [
    "\n",
    "#seaborn boxplot:\n",
    "\n",
    "plt.figure(figsize=(12,8))\n",
    "sns.boxplot(x='reserved_room_type',y='adr',hue ='hotel',data = data2)\n",
    "plt.title('Price of room types per night and person')\n",
    "plt.xlabel('room types')\n",
    "plt.ylabel('price( EUR)')"
   ]
  },
  {
   "cell_type": "markdown",
   "id": "2f5b9ac4",
   "metadata": {},
   "source": [
    "# 5. which are the most busy month?"
   ]
  },
  {
   "cell_type": "code",
   "execution_count": 31,
   "id": "3929fe58",
   "metadata": {},
   "outputs": [
    {
     "data": {
      "text/plain": [
       "array(['Resort Hotel', 'City Hotel'], dtype=object)"
      ]
     },
     "execution_count": 31,
     "metadata": {},
     "output_type": "execute_result"
    }
   ],
   "source": [
    "data['hotel'].unique()"
   ]
  },
  {
   "cell_type": "code",
   "execution_count": 32,
   "id": "a86d0778",
   "metadata": {},
   "outputs": [],
   "source": [
    "data_resort =data[(data['hotel']== 'Resort Hotel')& (data['is_canceled']==0)]\n",
    "data_city = data[(data['hotel']== 'City Hotel')& (data['is_canceled']==0)]"
   ]
  },
  {
   "cell_type": "code",
   "execution_count": 33,
   "id": "a28115a5",
   "metadata": {},
   "outputs": [
    {
     "data": {
      "text/html": [
       "<div>\n",
       "<style scoped>\n",
       "    .dataframe tbody tr th:only-of-type {\n",
       "        vertical-align: middle;\n",
       "    }\n",
       "\n",
       "    .dataframe tbody tr th {\n",
       "        vertical-align: top;\n",
       "    }\n",
       "\n",
       "    .dataframe thead th {\n",
       "        text-align: right;\n",
       "    }\n",
       "</style>\n",
       "<table border=\"1\" class=\"dataframe\">\n",
       "  <thead>\n",
       "    <tr style=\"text-align: right;\">\n",
       "      <th></th>\n",
       "      <th>hotel</th>\n",
       "      <th>is_canceled</th>\n",
       "      <th>lead_time</th>\n",
       "      <th>arrival_date_year</th>\n",
       "      <th>arrival_date_month</th>\n",
       "      <th>arrival_date_week_number</th>\n",
       "      <th>arrival_date_day_of_month</th>\n",
       "      <th>stays_in_weekend_nights</th>\n",
       "      <th>stays_in_week_nights</th>\n",
       "      <th>adults</th>\n",
       "      <th>...</th>\n",
       "      <th>assigned_room_type</th>\n",
       "      <th>booking_changes</th>\n",
       "      <th>deposit_type</th>\n",
       "      <th>days_in_waiting_list</th>\n",
       "      <th>customer_type</th>\n",
       "      <th>adr</th>\n",
       "      <th>required_car_parking_spaces</th>\n",
       "      <th>total_of_special_requests</th>\n",
       "      <th>reservation_status</th>\n",
       "      <th>reservation_status_date</th>\n",
       "    </tr>\n",
       "  </thead>\n",
       "  <tbody>\n",
       "    <tr>\n",
       "      <th>0</th>\n",
       "      <td>Resort Hotel</td>\n",
       "      <td>0</td>\n",
       "      <td>342</td>\n",
       "      <td>2015</td>\n",
       "      <td>July</td>\n",
       "      <td>27</td>\n",
       "      <td>1</td>\n",
       "      <td>0</td>\n",
       "      <td>0</td>\n",
       "      <td>2</td>\n",
       "      <td>...</td>\n",
       "      <td>C</td>\n",
       "      <td>3</td>\n",
       "      <td>No Deposit</td>\n",
       "      <td>0</td>\n",
       "      <td>Transient</td>\n",
       "      <td>0.0</td>\n",
       "      <td>0</td>\n",
       "      <td>0</td>\n",
       "      <td>Check-Out</td>\n",
       "      <td>2015-07-01</td>\n",
       "    </tr>\n",
       "    <tr>\n",
       "      <th>1</th>\n",
       "      <td>Resort Hotel</td>\n",
       "      <td>0</td>\n",
       "      <td>737</td>\n",
       "      <td>2015</td>\n",
       "      <td>July</td>\n",
       "      <td>27</td>\n",
       "      <td>1</td>\n",
       "      <td>0</td>\n",
       "      <td>0</td>\n",
       "      <td>2</td>\n",
       "      <td>...</td>\n",
       "      <td>C</td>\n",
       "      <td>4</td>\n",
       "      <td>No Deposit</td>\n",
       "      <td>0</td>\n",
       "      <td>Transient</td>\n",
       "      <td>0.0</td>\n",
       "      <td>0</td>\n",
       "      <td>0</td>\n",
       "      <td>Check-Out</td>\n",
       "      <td>2015-07-01</td>\n",
       "    </tr>\n",
       "    <tr>\n",
       "      <th>2</th>\n",
       "      <td>Resort Hotel</td>\n",
       "      <td>0</td>\n",
       "      <td>7</td>\n",
       "      <td>2015</td>\n",
       "      <td>July</td>\n",
       "      <td>27</td>\n",
       "      <td>1</td>\n",
       "      <td>0</td>\n",
       "      <td>1</td>\n",
       "      <td>1</td>\n",
       "      <td>...</td>\n",
       "      <td>C</td>\n",
       "      <td>0</td>\n",
       "      <td>No Deposit</td>\n",
       "      <td>0</td>\n",
       "      <td>Transient</td>\n",
       "      <td>75.0</td>\n",
       "      <td>0</td>\n",
       "      <td>0</td>\n",
       "      <td>Check-Out</td>\n",
       "      <td>2015-07-02</td>\n",
       "    </tr>\n",
       "  </tbody>\n",
       "</table>\n",
       "<p>3 rows × 30 columns</p>\n",
       "</div>"
      ],
      "text/plain": [
       "          hotel  is_canceled  lead_time  arrival_date_year arrival_date_month  \\\n",
       "0  Resort Hotel            0        342               2015               July   \n",
       "1  Resort Hotel            0        737               2015               July   \n",
       "2  Resort Hotel            0          7               2015               July   \n",
       "\n",
       "   arrival_date_week_number  arrival_date_day_of_month  \\\n",
       "0                        27                          1   \n",
       "1                        27                          1   \n",
       "2                        27                          1   \n",
       "\n",
       "   stays_in_weekend_nights  stays_in_week_nights  adults  ...  \\\n",
       "0                        0                     0       2  ...   \n",
       "1                        0                     0       2  ...   \n",
       "2                        0                     1       1  ...   \n",
       "\n",
       "   assigned_room_type  booking_changes deposit_type days_in_waiting_list  \\\n",
       "0                   C                3   No Deposit                    0   \n",
       "1                   C                4   No Deposit                    0   \n",
       "2                   C                0   No Deposit                    0   \n",
       "\n",
       "  customer_type   adr  required_car_parking_spaces  total_of_special_requests  \\\n",
       "0     Transient   0.0                            0                          0   \n",
       "1     Transient   0.0                            0                          0   \n",
       "2     Transient  75.0                            0                          0   \n",
       "\n",
       "   reservation_status reservation_status_date  \n",
       "0           Check-Out              2015-07-01  \n",
       "1           Check-Out              2015-07-01  \n",
       "2           Check-Out              2015-07-02  \n",
       "\n",
       "[3 rows x 30 columns]"
      ]
     },
     "execution_count": 33,
     "metadata": {},
     "output_type": "execute_result"
    }
   ],
   "source": [
    "data_resort.head(3)\n"
   ]
  },
  {
   "cell_type": "code",
   "execution_count": 34,
   "id": "1496e93a",
   "metadata": {},
   "outputs": [
    {
     "data": {
      "text/html": [
       "<div>\n",
       "<style scoped>\n",
       "    .dataframe tbody tr th:only-of-type {\n",
       "        vertical-align: middle;\n",
       "    }\n",
       "\n",
       "    .dataframe tbody tr th {\n",
       "        vertical-align: top;\n",
       "    }\n",
       "\n",
       "    .dataframe thead th {\n",
       "        text-align: right;\n",
       "    }\n",
       "</style>\n",
       "<table border=\"1\" class=\"dataframe\">\n",
       "  <thead>\n",
       "    <tr style=\"text-align: right;\">\n",
       "      <th></th>\n",
       "      <th>hotel</th>\n",
       "      <th>is_canceled</th>\n",
       "      <th>lead_time</th>\n",
       "      <th>arrival_date_year</th>\n",
       "      <th>arrival_date_month</th>\n",
       "      <th>arrival_date_week_number</th>\n",
       "      <th>arrival_date_day_of_month</th>\n",
       "      <th>stays_in_weekend_nights</th>\n",
       "      <th>stays_in_week_nights</th>\n",
       "      <th>adults</th>\n",
       "      <th>...</th>\n",
       "      <th>assigned_room_type</th>\n",
       "      <th>booking_changes</th>\n",
       "      <th>deposit_type</th>\n",
       "      <th>days_in_waiting_list</th>\n",
       "      <th>customer_type</th>\n",
       "      <th>adr</th>\n",
       "      <th>required_car_parking_spaces</th>\n",
       "      <th>total_of_special_requests</th>\n",
       "      <th>reservation_status</th>\n",
       "      <th>reservation_status_date</th>\n",
       "    </tr>\n",
       "  </thead>\n",
       "  <tbody>\n",
       "    <tr>\n",
       "      <th>40060</th>\n",
       "      <td>City Hotel</td>\n",
       "      <td>0</td>\n",
       "      <td>6</td>\n",
       "      <td>2015</td>\n",
       "      <td>July</td>\n",
       "      <td>27</td>\n",
       "      <td>1</td>\n",
       "      <td>0</td>\n",
       "      <td>2</td>\n",
       "      <td>1</td>\n",
       "      <td>...</td>\n",
       "      <td>A</td>\n",
       "      <td>0</td>\n",
       "      <td>No Deposit</td>\n",
       "      <td>0</td>\n",
       "      <td>Transient</td>\n",
       "      <td>0.00</td>\n",
       "      <td>0</td>\n",
       "      <td>0</td>\n",
       "      <td>Check-Out</td>\n",
       "      <td>2015-07-03</td>\n",
       "    </tr>\n",
       "    <tr>\n",
       "      <th>40066</th>\n",
       "      <td>City Hotel</td>\n",
       "      <td>0</td>\n",
       "      <td>3</td>\n",
       "      <td>2015</td>\n",
       "      <td>July</td>\n",
       "      <td>27</td>\n",
       "      <td>2</td>\n",
       "      <td>0</td>\n",
       "      <td>3</td>\n",
       "      <td>1</td>\n",
       "      <td>...</td>\n",
       "      <td>A</td>\n",
       "      <td>1</td>\n",
       "      <td>No Deposit</td>\n",
       "      <td>0</td>\n",
       "      <td>Transient-Party</td>\n",
       "      <td>58.67</td>\n",
       "      <td>0</td>\n",
       "      <td>0</td>\n",
       "      <td>Check-Out</td>\n",
       "      <td>2015-07-05</td>\n",
       "    </tr>\n",
       "    <tr>\n",
       "      <th>40070</th>\n",
       "      <td>City Hotel</td>\n",
       "      <td>0</td>\n",
       "      <td>43</td>\n",
       "      <td>2015</td>\n",
       "      <td>July</td>\n",
       "      <td>27</td>\n",
       "      <td>3</td>\n",
       "      <td>0</td>\n",
       "      <td>2</td>\n",
       "      <td>2</td>\n",
       "      <td>...</td>\n",
       "      <td>A</td>\n",
       "      <td>0</td>\n",
       "      <td>No Deposit</td>\n",
       "      <td>0</td>\n",
       "      <td>Transient-Party</td>\n",
       "      <td>86.00</td>\n",
       "      <td>0</td>\n",
       "      <td>0</td>\n",
       "      <td>Check-Out</td>\n",
       "      <td>2015-07-05</td>\n",
       "    </tr>\n",
       "  </tbody>\n",
       "</table>\n",
       "<p>3 rows × 30 columns</p>\n",
       "</div>"
      ],
      "text/plain": [
       "            hotel  is_canceled  lead_time  arrival_date_year  \\\n",
       "40060  City Hotel            0          6               2015   \n",
       "40066  City Hotel            0          3               2015   \n",
       "40070  City Hotel            0         43               2015   \n",
       "\n",
       "      arrival_date_month  arrival_date_week_number  arrival_date_day_of_month  \\\n",
       "40060               July                        27                          1   \n",
       "40066               July                        27                          2   \n",
       "40070               July                        27                          3   \n",
       "\n",
       "       stays_in_weekend_nights  stays_in_week_nights  adults  ...  \\\n",
       "40060                        0                     2       1  ...   \n",
       "40066                        0                     3       1  ...   \n",
       "40070                        0                     2       2  ...   \n",
       "\n",
       "       assigned_room_type  booking_changes deposit_type days_in_waiting_list  \\\n",
       "40060                   A                0   No Deposit                    0   \n",
       "40066                   A                1   No Deposit                    0   \n",
       "40070                   A                0   No Deposit                    0   \n",
       "\n",
       "         customer_type    adr  required_car_parking_spaces  \\\n",
       "40060        Transient   0.00                            0   \n",
       "40066  Transient-Party  58.67                            0   \n",
       "40070  Transient-Party  86.00                            0   \n",
       "\n",
       "       total_of_special_requests  reservation_status reservation_status_date  \n",
       "40060                          0           Check-Out              2015-07-03  \n",
       "40066                          0           Check-Out              2015-07-05  \n",
       "40070                          0           Check-Out              2015-07-05  \n",
       "\n",
       "[3 rows x 30 columns]"
      ]
     },
     "execution_count": 34,
     "metadata": {},
     "output_type": "execute_result"
    }
   ],
   "source": [
    "data_city.head(3)"
   ]
  },
  {
   "cell_type": "code",
   "execution_count": 35,
   "id": "10ce1b2a",
   "metadata": {},
   "outputs": [
    {
     "data": {
      "text/html": [
       "<div>\n",
       "<style scoped>\n",
       "    .dataframe tbody tr th:only-of-type {\n",
       "        vertical-align: middle;\n",
       "    }\n",
       "\n",
       "    .dataframe tbody tr th {\n",
       "        vertical-align: top;\n",
       "    }\n",
       "\n",
       "    .dataframe thead th {\n",
       "        text-align: right;\n",
       "    }\n",
       "</style>\n",
       "<table border=\"1\" class=\"dataframe\">\n",
       "  <thead>\n",
       "    <tr style=\"text-align: right;\">\n",
       "      <th></th>\n",
       "      <th>month</th>\n",
       "      <th>no_of_guests</th>\n",
       "    </tr>\n",
       "  </thead>\n",
       "  <tbody>\n",
       "    <tr>\n",
       "      <th>0</th>\n",
       "      <td>August</td>\n",
       "      <td>3257</td>\n",
       "    </tr>\n",
       "    <tr>\n",
       "      <th>1</th>\n",
       "      <td>July</td>\n",
       "      <td>3137</td>\n",
       "    </tr>\n",
       "    <tr>\n",
       "      <th>2</th>\n",
       "      <td>October</td>\n",
       "      <td>2575</td>\n",
       "    </tr>\n",
       "    <tr>\n",
       "      <th>3</th>\n",
       "      <td>March</td>\n",
       "      <td>2571</td>\n",
       "    </tr>\n",
       "    <tr>\n",
       "      <th>4</th>\n",
       "      <td>April</td>\n",
       "      <td>2550</td>\n",
       "    </tr>\n",
       "    <tr>\n",
       "      <th>5</th>\n",
       "      <td>May</td>\n",
       "      <td>2535</td>\n",
       "    </tr>\n",
       "    <tr>\n",
       "      <th>6</th>\n",
       "      <td>February</td>\n",
       "      <td>2308</td>\n",
       "    </tr>\n",
       "    <tr>\n",
       "      <th>7</th>\n",
       "      <td>September</td>\n",
       "      <td>2102</td>\n",
       "    </tr>\n",
       "    <tr>\n",
       "      <th>8</th>\n",
       "      <td>June</td>\n",
       "      <td>2037</td>\n",
       "    </tr>\n",
       "    <tr>\n",
       "      <th>9</th>\n",
       "      <td>December</td>\n",
       "      <td>2014</td>\n",
       "    </tr>\n",
       "    <tr>\n",
       "      <th>10</th>\n",
       "      <td>November</td>\n",
       "      <td>1975</td>\n",
       "    </tr>\n",
       "    <tr>\n",
       "      <th>11</th>\n",
       "      <td>January</td>\n",
       "      <td>1866</td>\n",
       "    </tr>\n",
       "  </tbody>\n",
       "</table>\n",
       "</div>"
      ],
      "text/plain": [
       "        month  no_of_guests\n",
       "0      August          3257\n",
       "1        July          3137\n",
       "2     October          2575\n",
       "3       March          2571\n",
       "4       April          2550\n",
       "5         May          2535\n",
       "6    February          2308\n",
       "7   September          2102\n",
       "8        June          2037\n",
       "9    December          2014\n",
       "10   November          1975\n",
       "11    January          1866"
      ]
     },
     "execution_count": 35,
     "metadata": {},
     "output_type": "execute_result"
    }
   ],
   "source": [
    "rush_resort = data_resort['arrival_date_month'].value_counts().reset_index()\n",
    "rush_resort.columns = ['month','no_of_guests']\n",
    "rush_resort"
   ]
  },
  {
   "cell_type": "code",
   "execution_count": 36,
   "id": "be5a6305",
   "metadata": {},
   "outputs": [
    {
     "data": {
      "text/html": [
       "<div>\n",
       "<style scoped>\n",
       "    .dataframe tbody tr th:only-of-type {\n",
       "        vertical-align: middle;\n",
       "    }\n",
       "\n",
       "    .dataframe tbody tr th {\n",
       "        vertical-align: top;\n",
       "    }\n",
       "\n",
       "    .dataframe thead th {\n",
       "        text-align: right;\n",
       "    }\n",
       "</style>\n",
       "<table border=\"1\" class=\"dataframe\">\n",
       "  <thead>\n",
       "    <tr style=\"text-align: right;\">\n",
       "      <th></th>\n",
       "      <th>month</th>\n",
       "      <th>no_of_guests</th>\n",
       "    </tr>\n",
       "  </thead>\n",
       "  <tbody>\n",
       "    <tr>\n",
       "      <th>0</th>\n",
       "      <td>August</td>\n",
       "      <td>5367</td>\n",
       "    </tr>\n",
       "    <tr>\n",
       "      <th>1</th>\n",
       "      <td>July</td>\n",
       "      <td>4770</td>\n",
       "    </tr>\n",
       "    <tr>\n",
       "      <th>2</th>\n",
       "      <td>May</td>\n",
       "      <td>4568</td>\n",
       "    </tr>\n",
       "    <tr>\n",
       "      <th>3</th>\n",
       "      <td>June</td>\n",
       "      <td>4358</td>\n",
       "    </tr>\n",
       "    <tr>\n",
       "      <th>4</th>\n",
       "      <td>October</td>\n",
       "      <td>4326</td>\n",
       "    </tr>\n",
       "    <tr>\n",
       "      <th>5</th>\n",
       "      <td>September</td>\n",
       "      <td>4283</td>\n",
       "    </tr>\n",
       "    <tr>\n",
       "      <th>6</th>\n",
       "      <td>March</td>\n",
       "      <td>4049</td>\n",
       "    </tr>\n",
       "    <tr>\n",
       "      <th>7</th>\n",
       "      <td>April</td>\n",
       "      <td>4010</td>\n",
       "    </tr>\n",
       "    <tr>\n",
       "      <th>8</th>\n",
       "      <td>February</td>\n",
       "      <td>3051</td>\n",
       "    </tr>\n",
       "    <tr>\n",
       "      <th>9</th>\n",
       "      <td>November</td>\n",
       "      <td>2676</td>\n",
       "    </tr>\n",
       "    <tr>\n",
       "      <th>10</th>\n",
       "      <td>December</td>\n",
       "      <td>2377</td>\n",
       "    </tr>\n",
       "    <tr>\n",
       "      <th>11</th>\n",
       "      <td>January</td>\n",
       "      <td>2249</td>\n",
       "    </tr>\n",
       "  </tbody>\n",
       "</table>\n",
       "</div>"
      ],
      "text/plain": [
       "        month  no_of_guests\n",
       "0      August          5367\n",
       "1        July          4770\n",
       "2         May          4568\n",
       "3        June          4358\n",
       "4     October          4326\n",
       "5   September          4283\n",
       "6       March          4049\n",
       "7       April          4010\n",
       "8    February          3051\n",
       "9    November          2676\n",
       "10   December          2377\n",
       "11    January          2249"
      ]
     },
     "execution_count": 36,
     "metadata": {},
     "output_type": "execute_result"
    }
   ],
   "source": [
    "rush_city = data_city['arrival_date_month'].value_counts().reset_index()\n",
    "rush_city.columns = ['month','no_of_guests']\n",
    "rush_city"
   ]
  },
  {
   "cell_type": "code",
   "execution_count": 37,
   "id": "d520b6ba",
   "metadata": {},
   "outputs": [],
   "source": [
    "final_rush = rush_resort.merge(rush_city, on ='month')"
   ]
  },
  {
   "cell_type": "code",
   "execution_count": 38,
   "id": "a935434c",
   "metadata": {},
   "outputs": [],
   "source": [
    "final_rush.columns = ['month','no_of_guests_in_resort','no_of_guests_city']"
   ]
  },
  {
   "cell_type": "code",
   "execution_count": 39,
   "id": "ac63f449",
   "metadata": {
    "scrolled": true
   },
   "outputs": [
    {
     "data": {
      "text/html": [
       "<div>\n",
       "<style scoped>\n",
       "    .dataframe tbody tr th:only-of-type {\n",
       "        vertical-align: middle;\n",
       "    }\n",
       "\n",
       "    .dataframe tbody tr th {\n",
       "        vertical-align: top;\n",
       "    }\n",
       "\n",
       "    .dataframe thead th {\n",
       "        text-align: right;\n",
       "    }\n",
       "</style>\n",
       "<table border=\"1\" class=\"dataframe\">\n",
       "  <thead>\n",
       "    <tr style=\"text-align: right;\">\n",
       "      <th></th>\n",
       "      <th>month</th>\n",
       "      <th>no_of_guests_in_resort</th>\n",
       "      <th>no_of_guests_city</th>\n",
       "    </tr>\n",
       "  </thead>\n",
       "  <tbody>\n",
       "    <tr>\n",
       "      <th>0</th>\n",
       "      <td>August</td>\n",
       "      <td>3257</td>\n",
       "      <td>5367</td>\n",
       "    </tr>\n",
       "    <tr>\n",
       "      <th>1</th>\n",
       "      <td>July</td>\n",
       "      <td>3137</td>\n",
       "      <td>4770</td>\n",
       "    </tr>\n",
       "    <tr>\n",
       "      <th>2</th>\n",
       "      <td>October</td>\n",
       "      <td>2575</td>\n",
       "      <td>4326</td>\n",
       "    </tr>\n",
       "    <tr>\n",
       "      <th>3</th>\n",
       "      <td>March</td>\n",
       "      <td>2571</td>\n",
       "      <td>4049</td>\n",
       "    </tr>\n",
       "    <tr>\n",
       "      <th>4</th>\n",
       "      <td>April</td>\n",
       "      <td>2550</td>\n",
       "      <td>4010</td>\n",
       "    </tr>\n",
       "    <tr>\n",
       "      <th>5</th>\n",
       "      <td>May</td>\n",
       "      <td>2535</td>\n",
       "      <td>4568</td>\n",
       "    </tr>\n",
       "    <tr>\n",
       "      <th>6</th>\n",
       "      <td>February</td>\n",
       "      <td>2308</td>\n",
       "      <td>3051</td>\n",
       "    </tr>\n",
       "    <tr>\n",
       "      <th>7</th>\n",
       "      <td>September</td>\n",
       "      <td>2102</td>\n",
       "      <td>4283</td>\n",
       "    </tr>\n",
       "    <tr>\n",
       "      <th>8</th>\n",
       "      <td>June</td>\n",
       "      <td>2037</td>\n",
       "      <td>4358</td>\n",
       "    </tr>\n",
       "    <tr>\n",
       "      <th>9</th>\n",
       "      <td>December</td>\n",
       "      <td>2014</td>\n",
       "      <td>2377</td>\n",
       "    </tr>\n",
       "    <tr>\n",
       "      <th>10</th>\n",
       "      <td>November</td>\n",
       "      <td>1975</td>\n",
       "      <td>2676</td>\n",
       "    </tr>\n",
       "    <tr>\n",
       "      <th>11</th>\n",
       "      <td>January</td>\n",
       "      <td>1866</td>\n",
       "      <td>2249</td>\n",
       "    </tr>\n",
       "  </tbody>\n",
       "</table>\n",
       "</div>"
      ],
      "text/plain": [
       "        month  no_of_guests_in_resort  no_of_guests_city\n",
       "0      August                    3257               5367\n",
       "1        July                    3137               4770\n",
       "2     October                    2575               4326\n",
       "3       March                    2571               4049\n",
       "4       April                    2550               4010\n",
       "5         May                    2535               4568\n",
       "6    February                    2308               3051\n",
       "7   September                    2102               4283\n",
       "8        June                    2037               4358\n",
       "9    December                    2014               2377\n",
       "10   November                    1975               2676\n",
       "11    January                    1866               2249"
      ]
     },
     "execution_count": 39,
     "metadata": {},
     "output_type": "execute_result"
    }
   ],
   "source": [
    "final_rush"
   ]
  },
  {
   "cell_type": "code",
   "execution_count": 40,
   "id": "096a9b2c",
   "metadata": {},
   "outputs": [
    {
     "name": "stdout",
     "output_type": "stream",
     "text": [
      "Requirement already satisfied: sorted-months-weekdays in c:\\users\\hp\\anaconda3\\lib\\site-packages (0.2)\n"
     ]
    }
   ],
   "source": [
    "!pip install sorted-months-weekdays"
   ]
  },
  {
   "cell_type": "code",
   "execution_count": 41,
   "id": "d922e811",
   "metadata": {},
   "outputs": [
    {
     "name": "stdout",
     "output_type": "stream",
     "text": [
      "Requirement already satisfied: sort_dataframeby_monthorweek in c:\\users\\hp\\anaconda3\\lib\\site-packages (0.4)\n"
     ]
    }
   ],
   "source": [
    "!pip install sort_dataframeby_monthorweek"
   ]
  },
  {
   "cell_type": "code",
   "execution_count": 42,
   "id": "d662b0b4",
   "metadata": {},
   "outputs": [],
   "source": [
    "import sort_dataframeby_monthorweek as sd"
   ]
  },
  {
   "cell_type": "code",
   "execution_count": 43,
   "id": "e469d364",
   "metadata": {},
   "outputs": [],
   "source": [
    "final_rush = sd.Sort_Dataframeby_Month(final_rush,'month')"
   ]
  },
  {
   "cell_type": "code",
   "execution_count": 44,
   "id": "612480d8",
   "metadata": {},
   "outputs": [
    {
     "data": {
      "text/plain": [
       "Index(['month', 'no_of_guests_in_resort', 'no_of_guests_city'], dtype='object')"
      ]
     },
     "execution_count": 44,
     "metadata": {},
     "output_type": "execute_result"
    }
   ],
   "source": [
    "final_rush.columns"
   ]
  },
  {
   "cell_type": "code",
   "execution_count": 45,
   "id": "3c853342",
   "metadata": {},
   "outputs": [
    {
     "data": {
      "application/vnd.plotly.v1+json": {
       "config": {
        "plotlyServerURL": "https://plot.ly"
       },
       "data": [
        {
         "hovertemplate": "variable=no_of_guests_in_resort<br>month=%{x}<br>value=%{y}<extra></extra>",
         "legendgroup": "no_of_guests_in_resort",
         "line": {
          "color": "#636efa",
          "dash": "solid"
         },
         "marker": {
          "symbol": "circle"
         },
         "mode": "lines",
         "name": "no_of_guests_in_resort",
         "orientation": "v",
         "showlegend": true,
         "type": "scatter",
         "x": [
          "January",
          "February",
          "March",
          "April",
          "May",
          "June",
          "July",
          "August",
          "September",
          "October",
          "November",
          "December"
         ],
         "xaxis": "x",
         "y": [
          1866,
          2308,
          2571,
          2550,
          2535,
          2037,
          3137,
          3257,
          2102,
          2575,
          1975,
          2014
         ],
         "yaxis": "y"
        },
        {
         "hovertemplate": "variable=no_of_guests_city<br>month=%{x}<br>value=%{y}<extra></extra>",
         "legendgroup": "no_of_guests_city",
         "line": {
          "color": "#EF553B",
          "dash": "solid"
         },
         "marker": {
          "symbol": "circle"
         },
         "mode": "lines",
         "name": "no_of_guests_city",
         "orientation": "v",
         "showlegend": true,
         "type": "scatter",
         "x": [
          "January",
          "February",
          "March",
          "April",
          "May",
          "June",
          "July",
          "August",
          "September",
          "October",
          "November",
          "December"
         ],
         "xaxis": "x",
         "y": [
          2249,
          3051,
          4049,
          4010,
          4568,
          4358,
          4770,
          5367,
          4283,
          4326,
          2676,
          2377
         ],
         "yaxis": "y"
        }
       ],
       "layout": {
        "legend": {
         "title": {
          "text": "variable"
         },
         "tracegroupgap": 0
        },
        "margin": {
         "t": 60
        },
        "template": {
         "data": {
          "bar": [
           {
            "error_x": {
             "color": "#2a3f5f"
            },
            "error_y": {
             "color": "#2a3f5f"
            },
            "marker": {
             "line": {
              "color": "#E5ECF6",
              "width": 0.5
             },
             "pattern": {
              "fillmode": "overlay",
              "size": 10,
              "solidity": 0.2
             }
            },
            "type": "bar"
           }
          ],
          "barpolar": [
           {
            "marker": {
             "line": {
              "color": "#E5ECF6",
              "width": 0.5
             },
             "pattern": {
              "fillmode": "overlay",
              "size": 10,
              "solidity": 0.2
             }
            },
            "type": "barpolar"
           }
          ],
          "carpet": [
           {
            "aaxis": {
             "endlinecolor": "#2a3f5f",
             "gridcolor": "white",
             "linecolor": "white",
             "minorgridcolor": "white",
             "startlinecolor": "#2a3f5f"
            },
            "baxis": {
             "endlinecolor": "#2a3f5f",
             "gridcolor": "white",
             "linecolor": "white",
             "minorgridcolor": "white",
             "startlinecolor": "#2a3f5f"
            },
            "type": "carpet"
           }
          ],
          "choropleth": [
           {
            "colorbar": {
             "outlinewidth": 0,
             "ticks": ""
            },
            "type": "choropleth"
           }
          ],
          "contour": [
           {
            "colorbar": {
             "outlinewidth": 0,
             "ticks": ""
            },
            "colorscale": [
             [
              0,
              "#0d0887"
             ],
             [
              0.1111111111111111,
              "#46039f"
             ],
             [
              0.2222222222222222,
              "#7201a8"
             ],
             [
              0.3333333333333333,
              "#9c179e"
             ],
             [
              0.4444444444444444,
              "#bd3786"
             ],
             [
              0.5555555555555556,
              "#d8576b"
             ],
             [
              0.6666666666666666,
              "#ed7953"
             ],
             [
              0.7777777777777778,
              "#fb9f3a"
             ],
             [
              0.8888888888888888,
              "#fdca26"
             ],
             [
              1,
              "#f0f921"
             ]
            ],
            "type": "contour"
           }
          ],
          "contourcarpet": [
           {
            "colorbar": {
             "outlinewidth": 0,
             "ticks": ""
            },
            "type": "contourcarpet"
           }
          ],
          "heatmap": [
           {
            "colorbar": {
             "outlinewidth": 0,
             "ticks": ""
            },
            "colorscale": [
             [
              0,
              "#0d0887"
             ],
             [
              0.1111111111111111,
              "#46039f"
             ],
             [
              0.2222222222222222,
              "#7201a8"
             ],
             [
              0.3333333333333333,
              "#9c179e"
             ],
             [
              0.4444444444444444,
              "#bd3786"
             ],
             [
              0.5555555555555556,
              "#d8576b"
             ],
             [
              0.6666666666666666,
              "#ed7953"
             ],
             [
              0.7777777777777778,
              "#fb9f3a"
             ],
             [
              0.8888888888888888,
              "#fdca26"
             ],
             [
              1,
              "#f0f921"
             ]
            ],
            "type": "heatmap"
           }
          ],
          "heatmapgl": [
           {
            "colorbar": {
             "outlinewidth": 0,
             "ticks": ""
            },
            "colorscale": [
             [
              0,
              "#0d0887"
             ],
             [
              0.1111111111111111,
              "#46039f"
             ],
             [
              0.2222222222222222,
              "#7201a8"
             ],
             [
              0.3333333333333333,
              "#9c179e"
             ],
             [
              0.4444444444444444,
              "#bd3786"
             ],
             [
              0.5555555555555556,
              "#d8576b"
             ],
             [
              0.6666666666666666,
              "#ed7953"
             ],
             [
              0.7777777777777778,
              "#fb9f3a"
             ],
             [
              0.8888888888888888,
              "#fdca26"
             ],
             [
              1,
              "#f0f921"
             ]
            ],
            "type": "heatmapgl"
           }
          ],
          "histogram": [
           {
            "marker": {
             "pattern": {
              "fillmode": "overlay",
              "size": 10,
              "solidity": 0.2
             }
            },
            "type": "histogram"
           }
          ],
          "histogram2d": [
           {
            "colorbar": {
             "outlinewidth": 0,
             "ticks": ""
            },
            "colorscale": [
             [
              0,
              "#0d0887"
             ],
             [
              0.1111111111111111,
              "#46039f"
             ],
             [
              0.2222222222222222,
              "#7201a8"
             ],
             [
              0.3333333333333333,
              "#9c179e"
             ],
             [
              0.4444444444444444,
              "#bd3786"
             ],
             [
              0.5555555555555556,
              "#d8576b"
             ],
             [
              0.6666666666666666,
              "#ed7953"
             ],
             [
              0.7777777777777778,
              "#fb9f3a"
             ],
             [
              0.8888888888888888,
              "#fdca26"
             ],
             [
              1,
              "#f0f921"
             ]
            ],
            "type": "histogram2d"
           }
          ],
          "histogram2dcontour": [
           {
            "colorbar": {
             "outlinewidth": 0,
             "ticks": ""
            },
            "colorscale": [
             [
              0,
              "#0d0887"
             ],
             [
              0.1111111111111111,
              "#46039f"
             ],
             [
              0.2222222222222222,
              "#7201a8"
             ],
             [
              0.3333333333333333,
              "#9c179e"
             ],
             [
              0.4444444444444444,
              "#bd3786"
             ],
             [
              0.5555555555555556,
              "#d8576b"
             ],
             [
              0.6666666666666666,
              "#ed7953"
             ],
             [
              0.7777777777777778,
              "#fb9f3a"
             ],
             [
              0.8888888888888888,
              "#fdca26"
             ],
             [
              1,
              "#f0f921"
             ]
            ],
            "type": "histogram2dcontour"
           }
          ],
          "mesh3d": [
           {
            "colorbar": {
             "outlinewidth": 0,
             "ticks": ""
            },
            "type": "mesh3d"
           }
          ],
          "parcoords": [
           {
            "line": {
             "colorbar": {
              "outlinewidth": 0,
              "ticks": ""
             }
            },
            "type": "parcoords"
           }
          ],
          "pie": [
           {
            "automargin": true,
            "type": "pie"
           }
          ],
          "scatter": [
           {
            "fillpattern": {
             "fillmode": "overlay",
             "size": 10,
             "solidity": 0.2
            },
            "type": "scatter"
           }
          ],
          "scatter3d": [
           {
            "line": {
             "colorbar": {
              "outlinewidth": 0,
              "ticks": ""
             }
            },
            "marker": {
             "colorbar": {
              "outlinewidth": 0,
              "ticks": ""
             }
            },
            "type": "scatter3d"
           }
          ],
          "scattercarpet": [
           {
            "marker": {
             "colorbar": {
              "outlinewidth": 0,
              "ticks": ""
             }
            },
            "type": "scattercarpet"
           }
          ],
          "scattergeo": [
           {
            "marker": {
             "colorbar": {
              "outlinewidth": 0,
              "ticks": ""
             }
            },
            "type": "scattergeo"
           }
          ],
          "scattergl": [
           {
            "marker": {
             "colorbar": {
              "outlinewidth": 0,
              "ticks": ""
             }
            },
            "type": "scattergl"
           }
          ],
          "scattermapbox": [
           {
            "marker": {
             "colorbar": {
              "outlinewidth": 0,
              "ticks": ""
             }
            },
            "type": "scattermapbox"
           }
          ],
          "scatterpolar": [
           {
            "marker": {
             "colorbar": {
              "outlinewidth": 0,
              "ticks": ""
             }
            },
            "type": "scatterpolar"
           }
          ],
          "scatterpolargl": [
           {
            "marker": {
             "colorbar": {
              "outlinewidth": 0,
              "ticks": ""
             }
            },
            "type": "scatterpolargl"
           }
          ],
          "scatterternary": [
           {
            "marker": {
             "colorbar": {
              "outlinewidth": 0,
              "ticks": ""
             }
            },
            "type": "scatterternary"
           }
          ],
          "surface": [
           {
            "colorbar": {
             "outlinewidth": 0,
             "ticks": ""
            },
            "colorscale": [
             [
              0,
              "#0d0887"
             ],
             [
              0.1111111111111111,
              "#46039f"
             ],
             [
              0.2222222222222222,
              "#7201a8"
             ],
             [
              0.3333333333333333,
              "#9c179e"
             ],
             [
              0.4444444444444444,
              "#bd3786"
             ],
             [
              0.5555555555555556,
              "#d8576b"
             ],
             [
              0.6666666666666666,
              "#ed7953"
             ],
             [
              0.7777777777777778,
              "#fb9f3a"
             ],
             [
              0.8888888888888888,
              "#fdca26"
             ],
             [
              1,
              "#f0f921"
             ]
            ],
            "type": "surface"
           }
          ],
          "table": [
           {
            "cells": {
             "fill": {
              "color": "#EBF0F8"
             },
             "line": {
              "color": "white"
             }
            },
            "header": {
             "fill": {
              "color": "#C8D4E3"
             },
             "line": {
              "color": "white"
             }
            },
            "type": "table"
           }
          ]
         },
         "layout": {
          "annotationdefaults": {
           "arrowcolor": "#2a3f5f",
           "arrowhead": 0,
           "arrowwidth": 1
          },
          "autotypenumbers": "strict",
          "coloraxis": {
           "colorbar": {
            "outlinewidth": 0,
            "ticks": ""
           }
          },
          "colorscale": {
           "diverging": [
            [
             0,
             "#8e0152"
            ],
            [
             0.1,
             "#c51b7d"
            ],
            [
             0.2,
             "#de77ae"
            ],
            [
             0.3,
             "#f1b6da"
            ],
            [
             0.4,
             "#fde0ef"
            ],
            [
             0.5,
             "#f7f7f7"
            ],
            [
             0.6,
             "#e6f5d0"
            ],
            [
             0.7,
             "#b8e186"
            ],
            [
             0.8,
             "#7fbc41"
            ],
            [
             0.9,
             "#4d9221"
            ],
            [
             1,
             "#276419"
            ]
           ],
           "sequential": [
            [
             0,
             "#0d0887"
            ],
            [
             0.1111111111111111,
             "#46039f"
            ],
            [
             0.2222222222222222,
             "#7201a8"
            ],
            [
             0.3333333333333333,
             "#9c179e"
            ],
            [
             0.4444444444444444,
             "#bd3786"
            ],
            [
             0.5555555555555556,
             "#d8576b"
            ],
            [
             0.6666666666666666,
             "#ed7953"
            ],
            [
             0.7777777777777778,
             "#fb9f3a"
            ],
            [
             0.8888888888888888,
             "#fdca26"
            ],
            [
             1,
             "#f0f921"
            ]
           ],
           "sequentialminus": [
            [
             0,
             "#0d0887"
            ],
            [
             0.1111111111111111,
             "#46039f"
            ],
            [
             0.2222222222222222,
             "#7201a8"
            ],
            [
             0.3333333333333333,
             "#9c179e"
            ],
            [
             0.4444444444444444,
             "#bd3786"
            ],
            [
             0.5555555555555556,
             "#d8576b"
            ],
            [
             0.6666666666666666,
             "#ed7953"
            ],
            [
             0.7777777777777778,
             "#fb9f3a"
            ],
            [
             0.8888888888888888,
             "#fdca26"
            ],
            [
             1,
             "#f0f921"
            ]
           ]
          },
          "colorway": [
           "#636efa",
           "#EF553B",
           "#00cc96",
           "#ab63fa",
           "#FFA15A",
           "#19d3f3",
           "#FF6692",
           "#B6E880",
           "#FF97FF",
           "#FECB52"
          ],
          "font": {
           "color": "#2a3f5f"
          },
          "geo": {
           "bgcolor": "white",
           "lakecolor": "white",
           "landcolor": "#E5ECF6",
           "showlakes": true,
           "showland": true,
           "subunitcolor": "white"
          },
          "hoverlabel": {
           "align": "left"
          },
          "hovermode": "closest",
          "mapbox": {
           "style": "light"
          },
          "paper_bgcolor": "white",
          "plot_bgcolor": "#E5ECF6",
          "polar": {
           "angularaxis": {
            "gridcolor": "white",
            "linecolor": "white",
            "ticks": ""
           },
           "bgcolor": "#E5ECF6",
           "radialaxis": {
            "gridcolor": "white",
            "linecolor": "white",
            "ticks": ""
           }
          },
          "scene": {
           "xaxis": {
            "backgroundcolor": "#E5ECF6",
            "gridcolor": "white",
            "gridwidth": 2,
            "linecolor": "white",
            "showbackground": true,
            "ticks": "",
            "zerolinecolor": "white"
           },
           "yaxis": {
            "backgroundcolor": "#E5ECF6",
            "gridcolor": "white",
            "gridwidth": 2,
            "linecolor": "white",
            "showbackground": true,
            "ticks": "",
            "zerolinecolor": "white"
           },
           "zaxis": {
            "backgroundcolor": "#E5ECF6",
            "gridcolor": "white",
            "gridwidth": 2,
            "linecolor": "white",
            "showbackground": true,
            "ticks": "",
            "zerolinecolor": "white"
           }
          },
          "shapedefaults": {
           "line": {
            "color": "#2a3f5f"
           }
          },
          "ternary": {
           "aaxis": {
            "gridcolor": "white",
            "linecolor": "white",
            "ticks": ""
           },
           "baxis": {
            "gridcolor": "white",
            "linecolor": "white",
            "ticks": ""
           },
           "bgcolor": "#E5ECF6",
           "caxis": {
            "gridcolor": "white",
            "linecolor": "white",
            "ticks": ""
           }
          },
          "title": {
           "x": 0.05
          },
          "xaxis": {
           "automargin": true,
           "gridcolor": "white",
           "linecolor": "white",
           "ticks": "",
           "title": {
            "standoff": 15
           },
           "zerolinecolor": "white",
           "zerolinewidth": 2
          },
          "yaxis": {
           "automargin": true,
           "gridcolor": "white",
           "linecolor": "white",
           "ticks": "",
           "title": {
            "standoff": 15
           },
           "zerolinecolor": "white",
           "zerolinewidth": 2
          }
         }
        },
        "xaxis": {
         "anchor": "y",
         "domain": [
          0,
          1
         ],
         "title": {
          "text": "month"
         }
        },
        "yaxis": {
         "anchor": "x",
         "domain": [
          0,
          1
         ],
         "title": {
          "text": "value"
         }
        }
       }
      },
      "text/html": [
       "<div>                            <div id=\"b7a697fc-4bd5-4819-b519-c19f3e49e9fc\" class=\"plotly-graph-div\" style=\"height:525px; width:100%;\"></div>            <script type=\"text/javascript\">                require([\"plotly\"], function(Plotly) {                    window.PLOTLYENV=window.PLOTLYENV || {};                                    if (document.getElementById(\"b7a697fc-4bd5-4819-b519-c19f3e49e9fc\")) {                    Plotly.newPlot(                        \"b7a697fc-4bd5-4819-b519-c19f3e49e9fc\",                        [{\"hovertemplate\":\"variable=no_of_guests_in_resort<br>month=%{x}<br>value=%{y}<extra></extra>\",\"legendgroup\":\"no_of_guests_in_resort\",\"line\":{\"color\":\"#636efa\",\"dash\":\"solid\"},\"marker\":{\"symbol\":\"circle\"},\"mode\":\"lines\",\"name\":\"no_of_guests_in_resort\",\"orientation\":\"v\",\"showlegend\":true,\"x\":[\"January\",\"February\",\"March\",\"April\",\"May\",\"June\",\"July\",\"August\",\"September\",\"October\",\"November\",\"December\"],\"xaxis\":\"x\",\"y\":[1866,2308,2571,2550,2535,2037,3137,3257,2102,2575,1975,2014],\"yaxis\":\"y\",\"type\":\"scatter\"},{\"hovertemplate\":\"variable=no_of_guests_city<br>month=%{x}<br>value=%{y}<extra></extra>\",\"legendgroup\":\"no_of_guests_city\",\"line\":{\"color\":\"#EF553B\",\"dash\":\"solid\"},\"marker\":{\"symbol\":\"circle\"},\"mode\":\"lines\",\"name\":\"no_of_guests_city\",\"orientation\":\"v\",\"showlegend\":true,\"x\":[\"January\",\"February\",\"March\",\"April\",\"May\",\"June\",\"July\",\"August\",\"September\",\"October\",\"November\",\"December\"],\"xaxis\":\"x\",\"y\":[2249,3051,4049,4010,4568,4358,4770,5367,4283,4326,2676,2377],\"yaxis\":\"y\",\"type\":\"scatter\"}],                        {\"template\":{\"data\":{\"histogram2dcontour\":[{\"type\":\"histogram2dcontour\",\"colorbar\":{\"outlinewidth\":0,\"ticks\":\"\"},\"colorscale\":[[0.0,\"#0d0887\"],[0.1111111111111111,\"#46039f\"],[0.2222222222222222,\"#7201a8\"],[0.3333333333333333,\"#9c179e\"],[0.4444444444444444,\"#bd3786\"],[0.5555555555555556,\"#d8576b\"],[0.6666666666666666,\"#ed7953\"],[0.7777777777777778,\"#fb9f3a\"],[0.8888888888888888,\"#fdca26\"],[1.0,\"#f0f921\"]]}],\"choropleth\":[{\"type\":\"choropleth\",\"colorbar\":{\"outlinewidth\":0,\"ticks\":\"\"}}],\"histogram2d\":[{\"type\":\"histogram2d\",\"colorbar\":{\"outlinewidth\":0,\"ticks\":\"\"},\"colorscale\":[[0.0,\"#0d0887\"],[0.1111111111111111,\"#46039f\"],[0.2222222222222222,\"#7201a8\"],[0.3333333333333333,\"#9c179e\"],[0.4444444444444444,\"#bd3786\"],[0.5555555555555556,\"#d8576b\"],[0.6666666666666666,\"#ed7953\"],[0.7777777777777778,\"#fb9f3a\"],[0.8888888888888888,\"#fdca26\"],[1.0,\"#f0f921\"]]}],\"heatmap\":[{\"type\":\"heatmap\",\"colorbar\":{\"outlinewidth\":0,\"ticks\":\"\"},\"colorscale\":[[0.0,\"#0d0887\"],[0.1111111111111111,\"#46039f\"],[0.2222222222222222,\"#7201a8\"],[0.3333333333333333,\"#9c179e\"],[0.4444444444444444,\"#bd3786\"],[0.5555555555555556,\"#d8576b\"],[0.6666666666666666,\"#ed7953\"],[0.7777777777777778,\"#fb9f3a\"],[0.8888888888888888,\"#fdca26\"],[1.0,\"#f0f921\"]]}],\"heatmapgl\":[{\"type\":\"heatmapgl\",\"colorbar\":{\"outlinewidth\":0,\"ticks\":\"\"},\"colorscale\":[[0.0,\"#0d0887\"],[0.1111111111111111,\"#46039f\"],[0.2222222222222222,\"#7201a8\"],[0.3333333333333333,\"#9c179e\"],[0.4444444444444444,\"#bd3786\"],[0.5555555555555556,\"#d8576b\"],[0.6666666666666666,\"#ed7953\"],[0.7777777777777778,\"#fb9f3a\"],[0.8888888888888888,\"#fdca26\"],[1.0,\"#f0f921\"]]}],\"contourcarpet\":[{\"type\":\"contourcarpet\",\"colorbar\":{\"outlinewidth\":0,\"ticks\":\"\"}}],\"contour\":[{\"type\":\"contour\",\"colorbar\":{\"outlinewidth\":0,\"ticks\":\"\"},\"colorscale\":[[0.0,\"#0d0887\"],[0.1111111111111111,\"#46039f\"],[0.2222222222222222,\"#7201a8\"],[0.3333333333333333,\"#9c179e\"],[0.4444444444444444,\"#bd3786\"],[0.5555555555555556,\"#d8576b\"],[0.6666666666666666,\"#ed7953\"],[0.7777777777777778,\"#fb9f3a\"],[0.8888888888888888,\"#fdca26\"],[1.0,\"#f0f921\"]]}],\"surface\":[{\"type\":\"surface\",\"colorbar\":{\"outlinewidth\":0,\"ticks\":\"\"},\"colorscale\":[[0.0,\"#0d0887\"],[0.1111111111111111,\"#46039f\"],[0.2222222222222222,\"#7201a8\"],[0.3333333333333333,\"#9c179e\"],[0.4444444444444444,\"#bd3786\"],[0.5555555555555556,\"#d8576b\"],[0.6666666666666666,\"#ed7953\"],[0.7777777777777778,\"#fb9f3a\"],[0.8888888888888888,\"#fdca26\"],[1.0,\"#f0f921\"]]}],\"mesh3d\":[{\"type\":\"mesh3d\",\"colorbar\":{\"outlinewidth\":0,\"ticks\":\"\"}}],\"scatter\":[{\"fillpattern\":{\"fillmode\":\"overlay\",\"size\":10,\"solidity\":0.2},\"type\":\"scatter\"}],\"parcoords\":[{\"type\":\"parcoords\",\"line\":{\"colorbar\":{\"outlinewidth\":0,\"ticks\":\"\"}}}],\"scatterpolargl\":[{\"type\":\"scatterpolargl\",\"marker\":{\"colorbar\":{\"outlinewidth\":0,\"ticks\":\"\"}}}],\"bar\":[{\"error_x\":{\"color\":\"#2a3f5f\"},\"error_y\":{\"color\":\"#2a3f5f\"},\"marker\":{\"line\":{\"color\":\"#E5ECF6\",\"width\":0.5},\"pattern\":{\"fillmode\":\"overlay\",\"size\":10,\"solidity\":0.2}},\"type\":\"bar\"}],\"scattergeo\":[{\"type\":\"scattergeo\",\"marker\":{\"colorbar\":{\"outlinewidth\":0,\"ticks\":\"\"}}}],\"scatterpolar\":[{\"type\":\"scatterpolar\",\"marker\":{\"colorbar\":{\"outlinewidth\":0,\"ticks\":\"\"}}}],\"histogram\":[{\"marker\":{\"pattern\":{\"fillmode\":\"overlay\",\"size\":10,\"solidity\":0.2}},\"type\":\"histogram\"}],\"scattergl\":[{\"type\":\"scattergl\",\"marker\":{\"colorbar\":{\"outlinewidth\":0,\"ticks\":\"\"}}}],\"scatter3d\":[{\"type\":\"scatter3d\",\"line\":{\"colorbar\":{\"outlinewidth\":0,\"ticks\":\"\"}},\"marker\":{\"colorbar\":{\"outlinewidth\":0,\"ticks\":\"\"}}}],\"scattermapbox\":[{\"type\":\"scattermapbox\",\"marker\":{\"colorbar\":{\"outlinewidth\":0,\"ticks\":\"\"}}}],\"scatterternary\":[{\"type\":\"scatterternary\",\"marker\":{\"colorbar\":{\"outlinewidth\":0,\"ticks\":\"\"}}}],\"scattercarpet\":[{\"type\":\"scattercarpet\",\"marker\":{\"colorbar\":{\"outlinewidth\":0,\"ticks\":\"\"}}}],\"carpet\":[{\"aaxis\":{\"endlinecolor\":\"#2a3f5f\",\"gridcolor\":\"white\",\"linecolor\":\"white\",\"minorgridcolor\":\"white\",\"startlinecolor\":\"#2a3f5f\"},\"baxis\":{\"endlinecolor\":\"#2a3f5f\",\"gridcolor\":\"white\",\"linecolor\":\"white\",\"minorgridcolor\":\"white\",\"startlinecolor\":\"#2a3f5f\"},\"type\":\"carpet\"}],\"table\":[{\"cells\":{\"fill\":{\"color\":\"#EBF0F8\"},\"line\":{\"color\":\"white\"}},\"header\":{\"fill\":{\"color\":\"#C8D4E3\"},\"line\":{\"color\":\"white\"}},\"type\":\"table\"}],\"barpolar\":[{\"marker\":{\"line\":{\"color\":\"#E5ECF6\",\"width\":0.5},\"pattern\":{\"fillmode\":\"overlay\",\"size\":10,\"solidity\":0.2}},\"type\":\"barpolar\"}],\"pie\":[{\"automargin\":true,\"type\":\"pie\"}]},\"layout\":{\"autotypenumbers\":\"strict\",\"colorway\":[\"#636efa\",\"#EF553B\",\"#00cc96\",\"#ab63fa\",\"#FFA15A\",\"#19d3f3\",\"#FF6692\",\"#B6E880\",\"#FF97FF\",\"#FECB52\"],\"font\":{\"color\":\"#2a3f5f\"},\"hovermode\":\"closest\",\"hoverlabel\":{\"align\":\"left\"},\"paper_bgcolor\":\"white\",\"plot_bgcolor\":\"#E5ECF6\",\"polar\":{\"bgcolor\":\"#E5ECF6\",\"angularaxis\":{\"gridcolor\":\"white\",\"linecolor\":\"white\",\"ticks\":\"\"},\"radialaxis\":{\"gridcolor\":\"white\",\"linecolor\":\"white\",\"ticks\":\"\"}},\"ternary\":{\"bgcolor\":\"#E5ECF6\",\"aaxis\":{\"gridcolor\":\"white\",\"linecolor\":\"white\",\"ticks\":\"\"},\"baxis\":{\"gridcolor\":\"white\",\"linecolor\":\"white\",\"ticks\":\"\"},\"caxis\":{\"gridcolor\":\"white\",\"linecolor\":\"white\",\"ticks\":\"\"}},\"coloraxis\":{\"colorbar\":{\"outlinewidth\":0,\"ticks\":\"\"}},\"colorscale\":{\"sequential\":[[0.0,\"#0d0887\"],[0.1111111111111111,\"#46039f\"],[0.2222222222222222,\"#7201a8\"],[0.3333333333333333,\"#9c179e\"],[0.4444444444444444,\"#bd3786\"],[0.5555555555555556,\"#d8576b\"],[0.6666666666666666,\"#ed7953\"],[0.7777777777777778,\"#fb9f3a\"],[0.8888888888888888,\"#fdca26\"],[1.0,\"#f0f921\"]],\"sequentialminus\":[[0.0,\"#0d0887\"],[0.1111111111111111,\"#46039f\"],[0.2222222222222222,\"#7201a8\"],[0.3333333333333333,\"#9c179e\"],[0.4444444444444444,\"#bd3786\"],[0.5555555555555556,\"#d8576b\"],[0.6666666666666666,\"#ed7953\"],[0.7777777777777778,\"#fb9f3a\"],[0.8888888888888888,\"#fdca26\"],[1.0,\"#f0f921\"]],\"diverging\":[[0,\"#8e0152\"],[0.1,\"#c51b7d\"],[0.2,\"#de77ae\"],[0.3,\"#f1b6da\"],[0.4,\"#fde0ef\"],[0.5,\"#f7f7f7\"],[0.6,\"#e6f5d0\"],[0.7,\"#b8e186\"],[0.8,\"#7fbc41\"],[0.9,\"#4d9221\"],[1,\"#276419\"]]},\"xaxis\":{\"gridcolor\":\"white\",\"linecolor\":\"white\",\"ticks\":\"\",\"title\":{\"standoff\":15},\"zerolinecolor\":\"white\",\"automargin\":true,\"zerolinewidth\":2},\"yaxis\":{\"gridcolor\":\"white\",\"linecolor\":\"white\",\"ticks\":\"\",\"title\":{\"standoff\":15},\"zerolinecolor\":\"white\",\"automargin\":true,\"zerolinewidth\":2},\"scene\":{\"xaxis\":{\"backgroundcolor\":\"#E5ECF6\",\"gridcolor\":\"white\",\"linecolor\":\"white\",\"showbackground\":true,\"ticks\":\"\",\"zerolinecolor\":\"white\",\"gridwidth\":2},\"yaxis\":{\"backgroundcolor\":\"#E5ECF6\",\"gridcolor\":\"white\",\"linecolor\":\"white\",\"showbackground\":true,\"ticks\":\"\",\"zerolinecolor\":\"white\",\"gridwidth\":2},\"zaxis\":{\"backgroundcolor\":\"#E5ECF6\",\"gridcolor\":\"white\",\"linecolor\":\"white\",\"showbackground\":true,\"ticks\":\"\",\"zerolinecolor\":\"white\",\"gridwidth\":2}},\"shapedefaults\":{\"line\":{\"color\":\"#2a3f5f\"}},\"annotationdefaults\":{\"arrowcolor\":\"#2a3f5f\",\"arrowhead\":0,\"arrowwidth\":1},\"geo\":{\"bgcolor\":\"white\",\"landcolor\":\"#E5ECF6\",\"subunitcolor\":\"white\",\"showland\":true,\"showlakes\":true,\"lakecolor\":\"white\"},\"title\":{\"x\":0.05},\"mapbox\":{\"style\":\"light\"}}},\"xaxis\":{\"anchor\":\"y\",\"domain\":[0.0,1.0],\"title\":{\"text\":\"month\"}},\"yaxis\":{\"anchor\":\"x\",\"domain\":[0.0,1.0],\"title\":{\"text\":\"value\"}},\"legend\":{\"title\":{\"text\":\"variable\"},\"tracegroupgap\":0},\"margin\":{\"t\":60}},                        {\"responsive\": true}                    ).then(function(){\n",
       "                            \n",
       "var gd = document.getElementById('b7a697fc-4bd5-4819-b519-c19f3e49e9fc');\n",
       "var x = new MutationObserver(function (mutations, observer) {{\n",
       "        var display = window.getComputedStyle(gd).display;\n",
       "        if (!display || display === 'none') {{\n",
       "            console.log([gd, 'removed!']);\n",
       "            Plotly.purge(gd);\n",
       "            observer.disconnect();\n",
       "        }}\n",
       "}});\n",
       "\n",
       "// Listen for the removal of the full notebook cells\n",
       "var notebookContainer = gd.closest('#notebook-container');\n",
       "if (notebookContainer) {{\n",
       "    x.observe(notebookContainer, {childList: true});\n",
       "}}\n",
       "\n",
       "// Listen for the clearing of the current output cell\n",
       "var outputEl = gd.closest('.output');\n",
       "if (outputEl) {{\n",
       "    x.observe(outputEl, {childList: true});\n",
       "}}\n",
       "\n",
       "                        })                };                });            </script>        </div>"
      ]
     },
     "metadata": {},
     "output_type": "display_data"
    }
   ],
   "source": [
    "px.line(data_frame = final_rush, x = 'month', y =['no_of_guests_in_resort','no_of_guests_city'])"
   ]
  },
  {
   "cell_type": "code",
   "execution_count": 46,
   "id": "12a9e4f1",
   "metadata": {},
   "outputs": [
    {
     "data": {
      "application/vnd.plotly.v1+json": {
       "config": {
        "plotlyServerURL": "https://plot.ly"
       },
       "data": [
        {
         "hovertemplate": "variable=no_of_guests_in_resort<br>month=%{x}<br>value=%{y}<extra></extra>",
         "legendgroup": "no_of_guests_in_resort",
         "line": {
          "color": "#636efa",
          "dash": "solid"
         },
         "marker": {
          "symbol": "circle"
         },
         "mode": "lines",
         "name": "no_of_guests_in_resort",
         "orientation": "v",
         "showlegend": true,
         "type": "scatter",
         "x": [
          "January",
          "February",
          "March",
          "April",
          "May",
          "June",
          "July",
          "August",
          "September",
          "October",
          "November",
          "December"
         ],
         "xaxis": "x",
         "y": [
          1866,
          2308,
          2571,
          2550,
          2535,
          2037,
          3137,
          3257,
          2102,
          2575,
          1975,
          2014
         ],
         "yaxis": "y"
        },
        {
         "hovertemplate": "variable=no_of_guests_city<br>month=%{x}<br>value=%{y}<extra></extra>",
         "legendgroup": "no_of_guests_city",
         "line": {
          "color": "#EF553B",
          "dash": "solid"
         },
         "marker": {
          "symbol": "circle"
         },
         "mode": "lines",
         "name": "no_of_guests_city",
         "orientation": "v",
         "showlegend": true,
         "type": "scatter",
         "x": [
          "January",
          "February",
          "March",
          "April",
          "May",
          "June",
          "July",
          "August",
          "September",
          "October",
          "November",
          "December"
         ],
         "xaxis": "x",
         "y": [
          2249,
          3051,
          4049,
          4010,
          4568,
          4358,
          4770,
          5367,
          4283,
          4326,
          2676,
          2377
         ],
         "yaxis": "y"
        }
       ],
       "layout": {
        "legend": {
         "title": {
          "text": "variable"
         },
         "tracegroupgap": 0
        },
        "margin": {
         "t": 60
        },
        "template": {
         "data": {
          "bar": [
           {
            "error_x": {
             "color": "#2a3f5f"
            },
            "error_y": {
             "color": "#2a3f5f"
            },
            "marker": {
             "line": {
              "color": "#E5ECF6",
              "width": 0.5
             },
             "pattern": {
              "fillmode": "overlay",
              "size": 10,
              "solidity": 0.2
             }
            },
            "type": "bar"
           }
          ],
          "barpolar": [
           {
            "marker": {
             "line": {
              "color": "#E5ECF6",
              "width": 0.5
             },
             "pattern": {
              "fillmode": "overlay",
              "size": 10,
              "solidity": 0.2
             }
            },
            "type": "barpolar"
           }
          ],
          "carpet": [
           {
            "aaxis": {
             "endlinecolor": "#2a3f5f",
             "gridcolor": "white",
             "linecolor": "white",
             "minorgridcolor": "white",
             "startlinecolor": "#2a3f5f"
            },
            "baxis": {
             "endlinecolor": "#2a3f5f",
             "gridcolor": "white",
             "linecolor": "white",
             "minorgridcolor": "white",
             "startlinecolor": "#2a3f5f"
            },
            "type": "carpet"
           }
          ],
          "choropleth": [
           {
            "colorbar": {
             "outlinewidth": 0,
             "ticks": ""
            },
            "type": "choropleth"
           }
          ],
          "contour": [
           {
            "colorbar": {
             "outlinewidth": 0,
             "ticks": ""
            },
            "colorscale": [
             [
              0,
              "#0d0887"
             ],
             [
              0.1111111111111111,
              "#46039f"
             ],
             [
              0.2222222222222222,
              "#7201a8"
             ],
             [
              0.3333333333333333,
              "#9c179e"
             ],
             [
              0.4444444444444444,
              "#bd3786"
             ],
             [
              0.5555555555555556,
              "#d8576b"
             ],
             [
              0.6666666666666666,
              "#ed7953"
             ],
             [
              0.7777777777777778,
              "#fb9f3a"
             ],
             [
              0.8888888888888888,
              "#fdca26"
             ],
             [
              1,
              "#f0f921"
             ]
            ],
            "type": "contour"
           }
          ],
          "contourcarpet": [
           {
            "colorbar": {
             "outlinewidth": 0,
             "ticks": ""
            },
            "type": "contourcarpet"
           }
          ],
          "heatmap": [
           {
            "colorbar": {
             "outlinewidth": 0,
             "ticks": ""
            },
            "colorscale": [
             [
              0,
              "#0d0887"
             ],
             [
              0.1111111111111111,
              "#46039f"
             ],
             [
              0.2222222222222222,
              "#7201a8"
             ],
             [
              0.3333333333333333,
              "#9c179e"
             ],
             [
              0.4444444444444444,
              "#bd3786"
             ],
             [
              0.5555555555555556,
              "#d8576b"
             ],
             [
              0.6666666666666666,
              "#ed7953"
             ],
             [
              0.7777777777777778,
              "#fb9f3a"
             ],
             [
              0.8888888888888888,
              "#fdca26"
             ],
             [
              1,
              "#f0f921"
             ]
            ],
            "type": "heatmap"
           }
          ],
          "heatmapgl": [
           {
            "colorbar": {
             "outlinewidth": 0,
             "ticks": ""
            },
            "colorscale": [
             [
              0,
              "#0d0887"
             ],
             [
              0.1111111111111111,
              "#46039f"
             ],
             [
              0.2222222222222222,
              "#7201a8"
             ],
             [
              0.3333333333333333,
              "#9c179e"
             ],
             [
              0.4444444444444444,
              "#bd3786"
             ],
             [
              0.5555555555555556,
              "#d8576b"
             ],
             [
              0.6666666666666666,
              "#ed7953"
             ],
             [
              0.7777777777777778,
              "#fb9f3a"
             ],
             [
              0.8888888888888888,
              "#fdca26"
             ],
             [
              1,
              "#f0f921"
             ]
            ],
            "type": "heatmapgl"
           }
          ],
          "histogram": [
           {
            "marker": {
             "pattern": {
              "fillmode": "overlay",
              "size": 10,
              "solidity": 0.2
             }
            },
            "type": "histogram"
           }
          ],
          "histogram2d": [
           {
            "colorbar": {
             "outlinewidth": 0,
             "ticks": ""
            },
            "colorscale": [
             [
              0,
              "#0d0887"
             ],
             [
              0.1111111111111111,
              "#46039f"
             ],
             [
              0.2222222222222222,
              "#7201a8"
             ],
             [
              0.3333333333333333,
              "#9c179e"
             ],
             [
              0.4444444444444444,
              "#bd3786"
             ],
             [
              0.5555555555555556,
              "#d8576b"
             ],
             [
              0.6666666666666666,
              "#ed7953"
             ],
             [
              0.7777777777777778,
              "#fb9f3a"
             ],
             [
              0.8888888888888888,
              "#fdca26"
             ],
             [
              1,
              "#f0f921"
             ]
            ],
            "type": "histogram2d"
           }
          ],
          "histogram2dcontour": [
           {
            "colorbar": {
             "outlinewidth": 0,
             "ticks": ""
            },
            "colorscale": [
             [
              0,
              "#0d0887"
             ],
             [
              0.1111111111111111,
              "#46039f"
             ],
             [
              0.2222222222222222,
              "#7201a8"
             ],
             [
              0.3333333333333333,
              "#9c179e"
             ],
             [
              0.4444444444444444,
              "#bd3786"
             ],
             [
              0.5555555555555556,
              "#d8576b"
             ],
             [
              0.6666666666666666,
              "#ed7953"
             ],
             [
              0.7777777777777778,
              "#fb9f3a"
             ],
             [
              0.8888888888888888,
              "#fdca26"
             ],
             [
              1,
              "#f0f921"
             ]
            ],
            "type": "histogram2dcontour"
           }
          ],
          "mesh3d": [
           {
            "colorbar": {
             "outlinewidth": 0,
             "ticks": ""
            },
            "type": "mesh3d"
           }
          ],
          "parcoords": [
           {
            "line": {
             "colorbar": {
              "outlinewidth": 0,
              "ticks": ""
             }
            },
            "type": "parcoords"
           }
          ],
          "pie": [
           {
            "automargin": true,
            "type": "pie"
           }
          ],
          "scatter": [
           {
            "fillpattern": {
             "fillmode": "overlay",
             "size": 10,
             "solidity": 0.2
            },
            "type": "scatter"
           }
          ],
          "scatter3d": [
           {
            "line": {
             "colorbar": {
              "outlinewidth": 0,
              "ticks": ""
             }
            },
            "marker": {
             "colorbar": {
              "outlinewidth": 0,
              "ticks": ""
             }
            },
            "type": "scatter3d"
           }
          ],
          "scattercarpet": [
           {
            "marker": {
             "colorbar": {
              "outlinewidth": 0,
              "ticks": ""
             }
            },
            "type": "scattercarpet"
           }
          ],
          "scattergeo": [
           {
            "marker": {
             "colorbar": {
              "outlinewidth": 0,
              "ticks": ""
             }
            },
            "type": "scattergeo"
           }
          ],
          "scattergl": [
           {
            "marker": {
             "colorbar": {
              "outlinewidth": 0,
              "ticks": ""
             }
            },
            "type": "scattergl"
           }
          ],
          "scattermapbox": [
           {
            "marker": {
             "colorbar": {
              "outlinewidth": 0,
              "ticks": ""
             }
            },
            "type": "scattermapbox"
           }
          ],
          "scatterpolar": [
           {
            "marker": {
             "colorbar": {
              "outlinewidth": 0,
              "ticks": ""
             }
            },
            "type": "scatterpolar"
           }
          ],
          "scatterpolargl": [
           {
            "marker": {
             "colorbar": {
              "outlinewidth": 0,
              "ticks": ""
             }
            },
            "type": "scatterpolargl"
           }
          ],
          "scatterternary": [
           {
            "marker": {
             "colorbar": {
              "outlinewidth": 0,
              "ticks": ""
             }
            },
            "type": "scatterternary"
           }
          ],
          "surface": [
           {
            "colorbar": {
             "outlinewidth": 0,
             "ticks": ""
            },
            "colorscale": [
             [
              0,
              "#0d0887"
             ],
             [
              0.1111111111111111,
              "#46039f"
             ],
             [
              0.2222222222222222,
              "#7201a8"
             ],
             [
              0.3333333333333333,
              "#9c179e"
             ],
             [
              0.4444444444444444,
              "#bd3786"
             ],
             [
              0.5555555555555556,
              "#d8576b"
             ],
             [
              0.6666666666666666,
              "#ed7953"
             ],
             [
              0.7777777777777778,
              "#fb9f3a"
             ],
             [
              0.8888888888888888,
              "#fdca26"
             ],
             [
              1,
              "#f0f921"
             ]
            ],
            "type": "surface"
           }
          ],
          "table": [
           {
            "cells": {
             "fill": {
              "color": "#EBF0F8"
             },
             "line": {
              "color": "white"
             }
            },
            "header": {
             "fill": {
              "color": "#C8D4E3"
             },
             "line": {
              "color": "white"
             }
            },
            "type": "table"
           }
          ]
         },
         "layout": {
          "annotationdefaults": {
           "arrowcolor": "#2a3f5f",
           "arrowhead": 0,
           "arrowwidth": 1
          },
          "autotypenumbers": "strict",
          "coloraxis": {
           "colorbar": {
            "outlinewidth": 0,
            "ticks": ""
           }
          },
          "colorscale": {
           "diverging": [
            [
             0,
             "#8e0152"
            ],
            [
             0.1,
             "#c51b7d"
            ],
            [
             0.2,
             "#de77ae"
            ],
            [
             0.3,
             "#f1b6da"
            ],
            [
             0.4,
             "#fde0ef"
            ],
            [
             0.5,
             "#f7f7f7"
            ],
            [
             0.6,
             "#e6f5d0"
            ],
            [
             0.7,
             "#b8e186"
            ],
            [
             0.8,
             "#7fbc41"
            ],
            [
             0.9,
             "#4d9221"
            ],
            [
             1,
             "#276419"
            ]
           ],
           "sequential": [
            [
             0,
             "#0d0887"
            ],
            [
             0.1111111111111111,
             "#46039f"
            ],
            [
             0.2222222222222222,
             "#7201a8"
            ],
            [
             0.3333333333333333,
             "#9c179e"
            ],
            [
             0.4444444444444444,
             "#bd3786"
            ],
            [
             0.5555555555555556,
             "#d8576b"
            ],
            [
             0.6666666666666666,
             "#ed7953"
            ],
            [
             0.7777777777777778,
             "#fb9f3a"
            ],
            [
             0.8888888888888888,
             "#fdca26"
            ],
            [
             1,
             "#f0f921"
            ]
           ],
           "sequentialminus": [
            [
             0,
             "#0d0887"
            ],
            [
             0.1111111111111111,
             "#46039f"
            ],
            [
             0.2222222222222222,
             "#7201a8"
            ],
            [
             0.3333333333333333,
             "#9c179e"
            ],
            [
             0.4444444444444444,
             "#bd3786"
            ],
            [
             0.5555555555555556,
             "#d8576b"
            ],
            [
             0.6666666666666666,
             "#ed7953"
            ],
            [
             0.7777777777777778,
             "#fb9f3a"
            ],
            [
             0.8888888888888888,
             "#fdca26"
            ],
            [
             1,
             "#f0f921"
            ]
           ]
          },
          "colorway": [
           "#636efa",
           "#EF553B",
           "#00cc96",
           "#ab63fa",
           "#FFA15A",
           "#19d3f3",
           "#FF6692",
           "#B6E880",
           "#FF97FF",
           "#FECB52"
          ],
          "font": {
           "color": "#2a3f5f"
          },
          "geo": {
           "bgcolor": "white",
           "lakecolor": "white",
           "landcolor": "#E5ECF6",
           "showlakes": true,
           "showland": true,
           "subunitcolor": "white"
          },
          "hoverlabel": {
           "align": "left"
          },
          "hovermode": "closest",
          "mapbox": {
           "style": "light"
          },
          "paper_bgcolor": "white",
          "plot_bgcolor": "#E5ECF6",
          "polar": {
           "angularaxis": {
            "gridcolor": "white",
            "linecolor": "white",
            "ticks": ""
           },
           "bgcolor": "#E5ECF6",
           "radialaxis": {
            "gridcolor": "white",
            "linecolor": "white",
            "ticks": ""
           }
          },
          "scene": {
           "xaxis": {
            "backgroundcolor": "#E5ECF6",
            "gridcolor": "white",
            "gridwidth": 2,
            "linecolor": "white",
            "showbackground": true,
            "ticks": "",
            "zerolinecolor": "white"
           },
           "yaxis": {
            "backgroundcolor": "#E5ECF6",
            "gridcolor": "white",
            "gridwidth": 2,
            "linecolor": "white",
            "showbackground": true,
            "ticks": "",
            "zerolinecolor": "white"
           },
           "zaxis": {
            "backgroundcolor": "#E5ECF6",
            "gridcolor": "white",
            "gridwidth": 2,
            "linecolor": "white",
            "showbackground": true,
            "ticks": "",
            "zerolinecolor": "white"
           }
          },
          "shapedefaults": {
           "line": {
            "color": "#2a3f5f"
           }
          },
          "ternary": {
           "aaxis": {
            "gridcolor": "white",
            "linecolor": "white",
            "ticks": ""
           },
           "baxis": {
            "gridcolor": "white",
            "linecolor": "white",
            "ticks": ""
           },
           "bgcolor": "#E5ECF6",
           "caxis": {
            "gridcolor": "white",
            "linecolor": "white",
            "ticks": ""
           }
          },
          "title": {
           "x": 0.05
          },
          "xaxis": {
           "automargin": true,
           "gridcolor": "white",
           "linecolor": "white",
           "ticks": "",
           "title": {
            "standoff": 15
           },
           "zerolinecolor": "white",
           "zerolinewidth": 2
          },
          "yaxis": {
           "automargin": true,
           "gridcolor": "white",
           "linecolor": "white",
           "ticks": "",
           "title": {
            "standoff": 15
           },
           "zerolinecolor": "white",
           "zerolinewidth": 2
          }
         }
        },
        "xaxis": {
         "anchor": "y",
         "domain": [
          0,
          1
         ],
         "title": {
          "text": "month"
         }
        },
        "yaxis": {
         "anchor": "x",
         "domain": [
          0,
          1
         ],
         "title": {
          "text": "value"
         }
        }
       }
      },
      "text/html": [
       "<div>                            <div id=\"1a71b248-7915-421f-bc6e-9d3b0339ed58\" class=\"plotly-graph-div\" style=\"height:525px; width:100%;\"></div>            <script type=\"text/javascript\">                require([\"plotly\"], function(Plotly) {                    window.PLOTLYENV=window.PLOTLYENV || {};                                    if (document.getElementById(\"1a71b248-7915-421f-bc6e-9d3b0339ed58\")) {                    Plotly.newPlot(                        \"1a71b248-7915-421f-bc6e-9d3b0339ed58\",                        [{\"hovertemplate\":\"variable=no_of_guests_in_resort<br>month=%{x}<br>value=%{y}<extra></extra>\",\"legendgroup\":\"no_of_guests_in_resort\",\"line\":{\"color\":\"#636efa\",\"dash\":\"solid\"},\"marker\":{\"symbol\":\"circle\"},\"mode\":\"lines\",\"name\":\"no_of_guests_in_resort\",\"orientation\":\"v\",\"showlegend\":true,\"x\":[\"January\",\"February\",\"March\",\"April\",\"May\",\"June\",\"July\",\"August\",\"September\",\"October\",\"November\",\"December\"],\"xaxis\":\"x\",\"y\":[1866,2308,2571,2550,2535,2037,3137,3257,2102,2575,1975,2014],\"yaxis\":\"y\",\"type\":\"scatter\"},{\"hovertemplate\":\"variable=no_of_guests_city<br>month=%{x}<br>value=%{y}<extra></extra>\",\"legendgroup\":\"no_of_guests_city\",\"line\":{\"color\":\"#EF553B\",\"dash\":\"solid\"},\"marker\":{\"symbol\":\"circle\"},\"mode\":\"lines\",\"name\":\"no_of_guests_city\",\"orientation\":\"v\",\"showlegend\":true,\"x\":[\"January\",\"February\",\"March\",\"April\",\"May\",\"June\",\"July\",\"August\",\"September\",\"October\",\"November\",\"December\"],\"xaxis\":\"x\",\"y\":[2249,3051,4049,4010,4568,4358,4770,5367,4283,4326,2676,2377],\"yaxis\":\"y\",\"type\":\"scatter\"}],                        {\"template\":{\"data\":{\"histogram2dcontour\":[{\"type\":\"histogram2dcontour\",\"colorbar\":{\"outlinewidth\":0,\"ticks\":\"\"},\"colorscale\":[[0.0,\"#0d0887\"],[0.1111111111111111,\"#46039f\"],[0.2222222222222222,\"#7201a8\"],[0.3333333333333333,\"#9c179e\"],[0.4444444444444444,\"#bd3786\"],[0.5555555555555556,\"#d8576b\"],[0.6666666666666666,\"#ed7953\"],[0.7777777777777778,\"#fb9f3a\"],[0.8888888888888888,\"#fdca26\"],[1.0,\"#f0f921\"]]}],\"choropleth\":[{\"type\":\"choropleth\",\"colorbar\":{\"outlinewidth\":0,\"ticks\":\"\"}}],\"histogram2d\":[{\"type\":\"histogram2d\",\"colorbar\":{\"outlinewidth\":0,\"ticks\":\"\"},\"colorscale\":[[0.0,\"#0d0887\"],[0.1111111111111111,\"#46039f\"],[0.2222222222222222,\"#7201a8\"],[0.3333333333333333,\"#9c179e\"],[0.4444444444444444,\"#bd3786\"],[0.5555555555555556,\"#d8576b\"],[0.6666666666666666,\"#ed7953\"],[0.7777777777777778,\"#fb9f3a\"],[0.8888888888888888,\"#fdca26\"],[1.0,\"#f0f921\"]]}],\"heatmap\":[{\"type\":\"heatmap\",\"colorbar\":{\"outlinewidth\":0,\"ticks\":\"\"},\"colorscale\":[[0.0,\"#0d0887\"],[0.1111111111111111,\"#46039f\"],[0.2222222222222222,\"#7201a8\"],[0.3333333333333333,\"#9c179e\"],[0.4444444444444444,\"#bd3786\"],[0.5555555555555556,\"#d8576b\"],[0.6666666666666666,\"#ed7953\"],[0.7777777777777778,\"#fb9f3a\"],[0.8888888888888888,\"#fdca26\"],[1.0,\"#f0f921\"]]}],\"heatmapgl\":[{\"type\":\"heatmapgl\",\"colorbar\":{\"outlinewidth\":0,\"ticks\":\"\"},\"colorscale\":[[0.0,\"#0d0887\"],[0.1111111111111111,\"#46039f\"],[0.2222222222222222,\"#7201a8\"],[0.3333333333333333,\"#9c179e\"],[0.4444444444444444,\"#bd3786\"],[0.5555555555555556,\"#d8576b\"],[0.6666666666666666,\"#ed7953\"],[0.7777777777777778,\"#fb9f3a\"],[0.8888888888888888,\"#fdca26\"],[1.0,\"#f0f921\"]]}],\"contourcarpet\":[{\"type\":\"contourcarpet\",\"colorbar\":{\"outlinewidth\":0,\"ticks\":\"\"}}],\"contour\":[{\"type\":\"contour\",\"colorbar\":{\"outlinewidth\":0,\"ticks\":\"\"},\"colorscale\":[[0.0,\"#0d0887\"],[0.1111111111111111,\"#46039f\"],[0.2222222222222222,\"#7201a8\"],[0.3333333333333333,\"#9c179e\"],[0.4444444444444444,\"#bd3786\"],[0.5555555555555556,\"#d8576b\"],[0.6666666666666666,\"#ed7953\"],[0.7777777777777778,\"#fb9f3a\"],[0.8888888888888888,\"#fdca26\"],[1.0,\"#f0f921\"]]}],\"surface\":[{\"type\":\"surface\",\"colorbar\":{\"outlinewidth\":0,\"ticks\":\"\"},\"colorscale\":[[0.0,\"#0d0887\"],[0.1111111111111111,\"#46039f\"],[0.2222222222222222,\"#7201a8\"],[0.3333333333333333,\"#9c179e\"],[0.4444444444444444,\"#bd3786\"],[0.5555555555555556,\"#d8576b\"],[0.6666666666666666,\"#ed7953\"],[0.7777777777777778,\"#fb9f3a\"],[0.8888888888888888,\"#fdca26\"],[1.0,\"#f0f921\"]]}],\"mesh3d\":[{\"type\":\"mesh3d\",\"colorbar\":{\"outlinewidth\":0,\"ticks\":\"\"}}],\"scatter\":[{\"fillpattern\":{\"fillmode\":\"overlay\",\"size\":10,\"solidity\":0.2},\"type\":\"scatter\"}],\"parcoords\":[{\"type\":\"parcoords\",\"line\":{\"colorbar\":{\"outlinewidth\":0,\"ticks\":\"\"}}}],\"scatterpolargl\":[{\"type\":\"scatterpolargl\",\"marker\":{\"colorbar\":{\"outlinewidth\":0,\"ticks\":\"\"}}}],\"bar\":[{\"error_x\":{\"color\":\"#2a3f5f\"},\"error_y\":{\"color\":\"#2a3f5f\"},\"marker\":{\"line\":{\"color\":\"#E5ECF6\",\"width\":0.5},\"pattern\":{\"fillmode\":\"overlay\",\"size\":10,\"solidity\":0.2}},\"type\":\"bar\"}],\"scattergeo\":[{\"type\":\"scattergeo\",\"marker\":{\"colorbar\":{\"outlinewidth\":0,\"ticks\":\"\"}}}],\"scatterpolar\":[{\"type\":\"scatterpolar\",\"marker\":{\"colorbar\":{\"outlinewidth\":0,\"ticks\":\"\"}}}],\"histogram\":[{\"marker\":{\"pattern\":{\"fillmode\":\"overlay\",\"size\":10,\"solidity\":0.2}},\"type\":\"histogram\"}],\"scattergl\":[{\"type\":\"scattergl\",\"marker\":{\"colorbar\":{\"outlinewidth\":0,\"ticks\":\"\"}}}],\"scatter3d\":[{\"type\":\"scatter3d\",\"line\":{\"colorbar\":{\"outlinewidth\":0,\"ticks\":\"\"}},\"marker\":{\"colorbar\":{\"outlinewidth\":0,\"ticks\":\"\"}}}],\"scattermapbox\":[{\"type\":\"scattermapbox\",\"marker\":{\"colorbar\":{\"outlinewidth\":0,\"ticks\":\"\"}}}],\"scatterternary\":[{\"type\":\"scatterternary\",\"marker\":{\"colorbar\":{\"outlinewidth\":0,\"ticks\":\"\"}}}],\"scattercarpet\":[{\"type\":\"scattercarpet\",\"marker\":{\"colorbar\":{\"outlinewidth\":0,\"ticks\":\"\"}}}],\"carpet\":[{\"aaxis\":{\"endlinecolor\":\"#2a3f5f\",\"gridcolor\":\"white\",\"linecolor\":\"white\",\"minorgridcolor\":\"white\",\"startlinecolor\":\"#2a3f5f\"},\"baxis\":{\"endlinecolor\":\"#2a3f5f\",\"gridcolor\":\"white\",\"linecolor\":\"white\",\"minorgridcolor\":\"white\",\"startlinecolor\":\"#2a3f5f\"},\"type\":\"carpet\"}],\"table\":[{\"cells\":{\"fill\":{\"color\":\"#EBF0F8\"},\"line\":{\"color\":\"white\"}},\"header\":{\"fill\":{\"color\":\"#C8D4E3\"},\"line\":{\"color\":\"white\"}},\"type\":\"table\"}],\"barpolar\":[{\"marker\":{\"line\":{\"color\":\"#E5ECF6\",\"width\":0.5},\"pattern\":{\"fillmode\":\"overlay\",\"size\":10,\"solidity\":0.2}},\"type\":\"barpolar\"}],\"pie\":[{\"automargin\":true,\"type\":\"pie\"}]},\"layout\":{\"autotypenumbers\":\"strict\",\"colorway\":[\"#636efa\",\"#EF553B\",\"#00cc96\",\"#ab63fa\",\"#FFA15A\",\"#19d3f3\",\"#FF6692\",\"#B6E880\",\"#FF97FF\",\"#FECB52\"],\"font\":{\"color\":\"#2a3f5f\"},\"hovermode\":\"closest\",\"hoverlabel\":{\"align\":\"left\"},\"paper_bgcolor\":\"white\",\"plot_bgcolor\":\"#E5ECF6\",\"polar\":{\"bgcolor\":\"#E5ECF6\",\"angularaxis\":{\"gridcolor\":\"white\",\"linecolor\":\"white\",\"ticks\":\"\"},\"radialaxis\":{\"gridcolor\":\"white\",\"linecolor\":\"white\",\"ticks\":\"\"}},\"ternary\":{\"bgcolor\":\"#E5ECF6\",\"aaxis\":{\"gridcolor\":\"white\",\"linecolor\":\"white\",\"ticks\":\"\"},\"baxis\":{\"gridcolor\":\"white\",\"linecolor\":\"white\",\"ticks\":\"\"},\"caxis\":{\"gridcolor\":\"white\",\"linecolor\":\"white\",\"ticks\":\"\"}},\"coloraxis\":{\"colorbar\":{\"outlinewidth\":0,\"ticks\":\"\"}},\"colorscale\":{\"sequential\":[[0.0,\"#0d0887\"],[0.1111111111111111,\"#46039f\"],[0.2222222222222222,\"#7201a8\"],[0.3333333333333333,\"#9c179e\"],[0.4444444444444444,\"#bd3786\"],[0.5555555555555556,\"#d8576b\"],[0.6666666666666666,\"#ed7953\"],[0.7777777777777778,\"#fb9f3a\"],[0.8888888888888888,\"#fdca26\"],[1.0,\"#f0f921\"]],\"sequentialminus\":[[0.0,\"#0d0887\"],[0.1111111111111111,\"#46039f\"],[0.2222222222222222,\"#7201a8\"],[0.3333333333333333,\"#9c179e\"],[0.4444444444444444,\"#bd3786\"],[0.5555555555555556,\"#d8576b\"],[0.6666666666666666,\"#ed7953\"],[0.7777777777777778,\"#fb9f3a\"],[0.8888888888888888,\"#fdca26\"],[1.0,\"#f0f921\"]],\"diverging\":[[0,\"#8e0152\"],[0.1,\"#c51b7d\"],[0.2,\"#de77ae\"],[0.3,\"#f1b6da\"],[0.4,\"#fde0ef\"],[0.5,\"#f7f7f7\"],[0.6,\"#e6f5d0\"],[0.7,\"#b8e186\"],[0.8,\"#7fbc41\"],[0.9,\"#4d9221\"],[1,\"#276419\"]]},\"xaxis\":{\"gridcolor\":\"white\",\"linecolor\":\"white\",\"ticks\":\"\",\"title\":{\"standoff\":15},\"zerolinecolor\":\"white\",\"automargin\":true,\"zerolinewidth\":2},\"yaxis\":{\"gridcolor\":\"white\",\"linecolor\":\"white\",\"ticks\":\"\",\"title\":{\"standoff\":15},\"zerolinecolor\":\"white\",\"automargin\":true,\"zerolinewidth\":2},\"scene\":{\"xaxis\":{\"backgroundcolor\":\"#E5ECF6\",\"gridcolor\":\"white\",\"linecolor\":\"white\",\"showbackground\":true,\"ticks\":\"\",\"zerolinecolor\":\"white\",\"gridwidth\":2},\"yaxis\":{\"backgroundcolor\":\"#E5ECF6\",\"gridcolor\":\"white\",\"linecolor\":\"white\",\"showbackground\":true,\"ticks\":\"\",\"zerolinecolor\":\"white\",\"gridwidth\":2},\"zaxis\":{\"backgroundcolor\":\"#E5ECF6\",\"gridcolor\":\"white\",\"linecolor\":\"white\",\"showbackground\":true,\"ticks\":\"\",\"zerolinecolor\":\"white\",\"gridwidth\":2}},\"shapedefaults\":{\"line\":{\"color\":\"#2a3f5f\"}},\"annotationdefaults\":{\"arrowcolor\":\"#2a3f5f\",\"arrowhead\":0,\"arrowwidth\":1},\"geo\":{\"bgcolor\":\"white\",\"landcolor\":\"#E5ECF6\",\"subunitcolor\":\"white\",\"showland\":true,\"showlakes\":true,\"lakecolor\":\"white\"},\"title\":{\"x\":0.05},\"mapbox\":{\"style\":\"light\"}}},\"xaxis\":{\"anchor\":\"y\",\"domain\":[0.0,1.0],\"title\":{\"text\":\"month\"}},\"yaxis\":{\"anchor\":\"x\",\"domain\":[0.0,1.0],\"title\":{\"text\":\"value\"}},\"legend\":{\"title\":{\"text\":\"variable\"},\"tracegroupgap\":0},\"margin\":{\"t\":60}},                        {\"responsive\": true}                    ).then(function(){\n",
       "                            \n",
       "var gd = document.getElementById('1a71b248-7915-421f-bc6e-9d3b0339ed58');\n",
       "var x = new MutationObserver(function (mutations, observer) {{\n",
       "        var display = window.getComputedStyle(gd).display;\n",
       "        if (!display || display === 'none') {{\n",
       "            console.log([gd, 'removed!']);\n",
       "            Plotly.purge(gd);\n",
       "            observer.disconnect();\n",
       "        }}\n",
       "}});\n",
       "\n",
       "// Listen for the removal of the full notebook cells\n",
       "var notebookContainer = gd.closest('#notebook-container');\n",
       "if (notebookContainer) {{\n",
       "    x.observe(notebookContainer, {childList: true});\n",
       "}}\n",
       "\n",
       "// Listen for the clearing of the current output cell\n",
       "var outputEl = gd.closest('.output');\n",
       "if (outputEl) {{\n",
       "    x.observe(outputEl, {childList: true});\n",
       "}}\n",
       "\n",
       "                        })                };                });            </script>        </div>"
      ]
     },
     "metadata": {},
     "output_type": "display_data"
    }
   ],
   "source": [
    "px.line(data_frame = final_rush, x = 'month', y =['no_of_guests_in_resort','no_of_guests_city'])"
   ]
  },
  {
   "cell_type": "code",
   "execution_count": null,
   "id": "5a82a91a",
   "metadata": {},
   "outputs": [],
   "source": []
  },
  {
   "cell_type": "markdown",
   "id": "92c94dad",
   "metadata": {},
   "source": [
    "# 6. which month has highest adr?"
   ]
  },
  {
   "cell_type": "code",
   "execution_count": 47,
   "id": "19f39ed4",
   "metadata": {},
   "outputs": [],
   "source": [
    "data = sd.Sort_Dataframeby_Month(data,'arrival_date_month')"
   ]
  },
  {
   "cell_type": "code",
   "execution_count": 48,
   "id": "91a5b0fb",
   "metadata": {},
   "outputs": [
    {
     "data": {
      "image/png": "[encoded data removed]",
      "text/plain": [
       "<Figure size 432x288 with 1 Axes>"
      ]
     },
     "metadata": {
      "needs_background": "light"
     },
     "output_type": "display_data"
    }
   ],
   "source": [
    "sns.barplot(x='arrival_date_month',y='adr',data=data,hue='is_canceled')\n",
    "plt.xticks(rotation ='vertical')\n",
    "plt.show()\n"
   ]
  },
  {
   "cell_type": "code",
   "execution_count": 49,
   "id": "b91d155b",
   "metadata": {},
   "outputs": [
    {
     "data": {
      "image/png": "[encoded data removed]",
      "text/plain": [
       "<Figure size 864x576 with 1 Axes>"
      ]
     },
     "metadata": {
      "needs_background": "light"
     },
     "output_type": "display_data"
    }
   ],
   "source": [
    "plt.figure(figsize=(12,8))\n",
    "sns.boxplot(x='arrival_date_month',y= 'adr',data = data, hue='is_canceled')\n",
    "plt.xticks(rotation ='vertical')\n",
    "\n",
    "plt.ylim(0,800)\n",
    "plt.show()"
   ]
  },
  {
   "cell_type": "code",
   "execution_count": null,
   "id": "021151af",
   "metadata": {},
   "outputs": [],
   "source": []
  },
  {
   "cell_type": "code",
   "execution_count": null,
   "id": "487a4c52",
   "metadata": {},
   "outputs": [],
   "source": []
  },
  {
   "cell_type": "markdown",
   "id": "cfa75c72",
   "metadata": {},
   "source": [
    "# 7. Lets analyse whether bookings were made only for weekdays or for weekends or for both?"
   ]
  },
  {
   "cell_type": "code",
   "execution_count": 50,
   "id": "f60f4ce2",
   "metadata": {},
   "outputs": [
    {
     "data": {
      "text/plain": [
       "Index(['hotel', 'is_canceled', 'lead_time', 'arrival_date_year',\n",
       "       'arrival_date_month', 'arrival_date_week_number',\n",
       "       'arrival_date_day_of_month', 'stays_in_weekend_nights',\n",
       "       'stays_in_week_nights', 'adults', 'children', 'babies', 'meal',\n",
       "       'country', 'market_segment', 'distribution_channel',\n",
       "       'is_repeated_guest', 'previous_cancellations',\n",
       "       'previous_bookings_not_canceled', 'reserved_room_type',\n",
       "       'assigned_room_type', 'booking_changes', 'deposit_type',\n",
       "       'days_in_waiting_list', 'customer_type', 'adr',\n",
       "       'required_car_parking_spaces', 'total_of_special_requests',\n",
       "       'reservation_status', 'reservation_status_date'],\n",
       "      dtype='object')"
      ]
     },
     "execution_count": 50,
     "metadata": {},
     "output_type": "execute_result"
    }
   ],
   "source": [
    "data.columns"
   ]
  },
  {
   "cell_type": "code",
   "execution_count": 51,
   "id": "8b9eb6e1",
   "metadata": {},
   "outputs": [
    {
     "data": {
      "text/html": [
       "<div>\n",
       "<style scoped>\n",
       "    .dataframe tbody tr th:only-of-type {\n",
       "        vertical-align: middle;\n",
       "    }\n",
       "\n",
       "    .dataframe tbody tr th {\n",
       "        vertical-align: top;\n",
       "    }\n",
       "\n",
       "    .dataframe thead th {\n",
       "        text-align: right;\n",
       "    }\n",
       "</style>\n",
       "<table border=\"1\" class=\"dataframe\">\n",
       "  <thead>\n",
       "    <tr style=\"text-align: right;\">\n",
       "      <th>stays_in_week_nights</th>\n",
       "      <th>0</th>\n",
       "      <th>1</th>\n",
       "      <th>2</th>\n",
       "      <th>3</th>\n",
       "      <th>4</th>\n",
       "      <th>5</th>\n",
       "      <th>6</th>\n",
       "      <th>7</th>\n",
       "      <th>8</th>\n",
       "      <th>9</th>\n",
       "      <th>...</th>\n",
       "      <th>24</th>\n",
       "      <th>25</th>\n",
       "      <th>26</th>\n",
       "      <th>30</th>\n",
       "      <th>32</th>\n",
       "      <th>33</th>\n",
       "      <th>34</th>\n",
       "      <th>40</th>\n",
       "      <th>42</th>\n",
       "      <th>50</th>\n",
       "    </tr>\n",
       "    <tr>\n",
       "      <th>stays_in_weekend_nights</th>\n",
       "      <th></th>\n",
       "      <th></th>\n",
       "      <th></th>\n",
       "      <th></th>\n",
       "      <th></th>\n",
       "      <th></th>\n",
       "      <th></th>\n",
       "      <th></th>\n",
       "      <th></th>\n",
       "      <th></th>\n",
       "      <th></th>\n",
       "      <th></th>\n",
       "      <th></th>\n",
       "      <th></th>\n",
       "      <th></th>\n",
       "      <th></th>\n",
       "      <th></th>\n",
       "      <th></th>\n",
       "      <th></th>\n",
       "      <th></th>\n",
       "      <th></th>\n",
       "    </tr>\n",
       "  </thead>\n",
       "  <tbody>\n",
       "    <tr>\n",
       "      <th>0</th>\n",
       "      <td>645</td>\n",
       "      <td>16436</td>\n",
       "      <td>17949</td>\n",
       "      <td>11557</td>\n",
       "      <td>4478</td>\n",
       "      <td>830</td>\n",
       "      <td>0</td>\n",
       "      <td>0</td>\n",
       "      <td>0</td>\n",
       "      <td>0</td>\n",
       "      <td>...</td>\n",
       "      <td>0</td>\n",
       "      <td>0</td>\n",
       "      <td>0</td>\n",
       "      <td>0</td>\n",
       "      <td>0</td>\n",
       "      <td>0</td>\n",
       "      <td>0</td>\n",
       "      <td>0</td>\n",
       "      <td>0</td>\n",
       "      <td>0</td>\n",
       "    </tr>\n",
       "    <tr>\n",
       "      <th>1</th>\n",
       "      <td>4569</td>\n",
       "      <td>7325</td>\n",
       "      <td>8976</td>\n",
       "      <td>6150</td>\n",
       "      <td>2407</td>\n",
       "      <td>1188</td>\n",
       "      <td>0</td>\n",
       "      <td>0</td>\n",
       "      <td>0</td>\n",
       "      <td>0</td>\n",
       "      <td>...</td>\n",
       "      <td>0</td>\n",
       "      <td>0</td>\n",
       "      <td>0</td>\n",
       "      <td>0</td>\n",
       "      <td>0</td>\n",
       "      <td>0</td>\n",
       "      <td>0</td>\n",
       "      <td>0</td>\n",
       "      <td>0</td>\n",
       "      <td>0</td>\n",
       "    </tr>\n",
       "    <tr>\n",
       "      <th>2</th>\n",
       "      <td>2358</td>\n",
       "      <td>6531</td>\n",
       "      <td>6745</td>\n",
       "      <td>4534</td>\n",
       "      <td>2658</td>\n",
       "      <td>8648</td>\n",
       "      <td>847</td>\n",
       "      <td>446</td>\n",
       "      <td>391</td>\n",
       "      <td>81</td>\n",
       "      <td>...</td>\n",
       "      <td>0</td>\n",
       "      <td>0</td>\n",
       "      <td>0</td>\n",
       "      <td>0</td>\n",
       "      <td>0</td>\n",
       "      <td>0</td>\n",
       "      <td>0</td>\n",
       "      <td>0</td>\n",
       "      <td>0</td>\n",
       "      <td>0</td>\n",
       "    </tr>\n",
       "    <tr>\n",
       "      <th>3</th>\n",
       "      <td>0</td>\n",
       "      <td>0</td>\n",
       "      <td>0</td>\n",
       "      <td>0</td>\n",
       "      <td>0</td>\n",
       "      <td>308</td>\n",
       "      <td>300</td>\n",
       "      <td>397</td>\n",
       "      <td>131</td>\n",
       "      <td>61</td>\n",
       "      <td>...</td>\n",
       "      <td>0</td>\n",
       "      <td>0</td>\n",
       "      <td>0</td>\n",
       "      <td>0</td>\n",
       "      <td>0</td>\n",
       "      <td>0</td>\n",
       "      <td>0</td>\n",
       "      <td>0</td>\n",
       "      <td>0</td>\n",
       "      <td>0</td>\n",
       "    </tr>\n",
       "    <tr>\n",
       "      <th>4</th>\n",
       "      <td>0</td>\n",
       "      <td>0</td>\n",
       "      <td>0</td>\n",
       "      <td>0</td>\n",
       "      <td>0</td>\n",
       "      <td>94</td>\n",
       "      <td>347</td>\n",
       "      <td>181</td>\n",
       "      <td>132</td>\n",
       "      <td>86</td>\n",
       "      <td>...</td>\n",
       "      <td>0</td>\n",
       "      <td>0</td>\n",
       "      <td>0</td>\n",
       "      <td>0</td>\n",
       "      <td>0</td>\n",
       "      <td>0</td>\n",
       "      <td>0</td>\n",
       "      <td>0</td>\n",
       "      <td>0</td>\n",
       "      <td>0</td>\n",
       "    </tr>\n",
       "    <tr>\n",
       "      <th>5</th>\n",
       "      <td>0</td>\n",
       "      <td>0</td>\n",
       "      <td>0</td>\n",
       "      <td>0</td>\n",
       "      <td>0</td>\n",
       "      <td>0</td>\n",
       "      <td>0</td>\n",
       "      <td>0</td>\n",
       "      <td>0</td>\n",
       "      <td>0</td>\n",
       "      <td>...</td>\n",
       "      <td>0</td>\n",
       "      <td>0</td>\n",
       "      <td>0</td>\n",
       "      <td>0</td>\n",
       "      <td>0</td>\n",
       "      <td>0</td>\n",
       "      <td>0</td>\n",
       "      <td>0</td>\n",
       "      <td>0</td>\n",
       "      <td>0</td>\n",
       "    </tr>\n",
       "    <tr>\n",
       "      <th>6</th>\n",
       "      <td>0</td>\n",
       "      <td>0</td>\n",
       "      <td>0</td>\n",
       "      <td>0</td>\n",
       "      <td>0</td>\n",
       "      <td>0</td>\n",
       "      <td>0</td>\n",
       "      <td>0</td>\n",
       "      <td>0</td>\n",
       "      <td>0</td>\n",
       "      <td>...</td>\n",
       "      <td>0</td>\n",
       "      <td>0</td>\n",
       "      <td>0</td>\n",
       "      <td>0</td>\n",
       "      <td>0</td>\n",
       "      <td>0</td>\n",
       "      <td>0</td>\n",
       "      <td>0</td>\n",
       "      <td>0</td>\n",
       "      <td>0</td>\n",
       "    </tr>\n",
       "    <tr>\n",
       "      <th>7</th>\n",
       "      <td>0</td>\n",
       "      <td>0</td>\n",
       "      <td>0</td>\n",
       "      <td>0</td>\n",
       "      <td>0</td>\n",
       "      <td>0</td>\n",
       "      <td>0</td>\n",
       "      <td>0</td>\n",
       "      <td>0</td>\n",
       "      <td>0</td>\n",
       "      <td>...</td>\n",
       "      <td>0</td>\n",
       "      <td>0</td>\n",
       "      <td>0</td>\n",
       "      <td>0</td>\n",
       "      <td>0</td>\n",
       "      <td>0</td>\n",
       "      <td>0</td>\n",
       "      <td>0</td>\n",
       "      <td>0</td>\n",
       "      <td>0</td>\n",
       "    </tr>\n",
       "    <tr>\n",
       "      <th>8</th>\n",
       "      <td>0</td>\n",
       "      <td>0</td>\n",
       "      <td>0</td>\n",
       "      <td>0</td>\n",
       "      <td>0</td>\n",
       "      <td>0</td>\n",
       "      <td>0</td>\n",
       "      <td>0</td>\n",
       "      <td>0</td>\n",
       "      <td>0</td>\n",
       "      <td>...</td>\n",
       "      <td>0</td>\n",
       "      <td>0</td>\n",
       "      <td>0</td>\n",
       "      <td>0</td>\n",
       "      <td>0</td>\n",
       "      <td>0</td>\n",
       "      <td>0</td>\n",
       "      <td>0</td>\n",
       "      <td>0</td>\n",
       "      <td>0</td>\n",
       "    </tr>\n",
       "    <tr>\n",
       "      <th>9</th>\n",
       "      <td>0</td>\n",
       "      <td>0</td>\n",
       "      <td>0</td>\n",
       "      <td>0</td>\n",
       "      <td>0</td>\n",
       "      <td>0</td>\n",
       "      <td>0</td>\n",
       "      <td>0</td>\n",
       "      <td>0</td>\n",
       "      <td>0</td>\n",
       "      <td>...</td>\n",
       "      <td>3</td>\n",
       "      <td>1</td>\n",
       "      <td>0</td>\n",
       "      <td>0</td>\n",
       "      <td>0</td>\n",
       "      <td>0</td>\n",
       "      <td>0</td>\n",
       "      <td>0</td>\n",
       "      <td>0</td>\n",
       "      <td>0</td>\n",
       "    </tr>\n",
       "    <tr>\n",
       "      <th>10</th>\n",
       "      <td>0</td>\n",
       "      <td>0</td>\n",
       "      <td>0</td>\n",
       "      <td>0</td>\n",
       "      <td>0</td>\n",
       "      <td>0</td>\n",
       "      <td>0</td>\n",
       "      <td>0</td>\n",
       "      <td>0</td>\n",
       "      <td>0</td>\n",
       "      <td>...</td>\n",
       "      <td>0</td>\n",
       "      <td>5</td>\n",
       "      <td>0</td>\n",
       "      <td>0</td>\n",
       "      <td>0</td>\n",
       "      <td>0</td>\n",
       "      <td>0</td>\n",
       "      <td>0</td>\n",
       "      <td>0</td>\n",
       "      <td>0</td>\n",
       "    </tr>\n",
       "    <tr>\n",
       "      <th>12</th>\n",
       "      <td>0</td>\n",
       "      <td>0</td>\n",
       "      <td>0</td>\n",
       "      <td>0</td>\n",
       "      <td>0</td>\n",
       "      <td>0</td>\n",
       "      <td>0</td>\n",
       "      <td>0</td>\n",
       "      <td>0</td>\n",
       "      <td>0</td>\n",
       "      <td>...</td>\n",
       "      <td>0</td>\n",
       "      <td>0</td>\n",
       "      <td>1</td>\n",
       "      <td>4</td>\n",
       "      <td>0</td>\n",
       "      <td>0</td>\n",
       "      <td>0</td>\n",
       "      <td>0</td>\n",
       "      <td>0</td>\n",
       "      <td>0</td>\n",
       "    </tr>\n",
       "    <tr>\n",
       "      <th>13</th>\n",
       "      <td>0</td>\n",
       "      <td>0</td>\n",
       "      <td>0</td>\n",
       "      <td>0</td>\n",
       "      <td>0</td>\n",
       "      <td>0</td>\n",
       "      <td>0</td>\n",
       "      <td>0</td>\n",
       "      <td>0</td>\n",
       "      <td>0</td>\n",
       "      <td>...</td>\n",
       "      <td>0</td>\n",
       "      <td>0</td>\n",
       "      <td>0</td>\n",
       "      <td>0</td>\n",
       "      <td>1</td>\n",
       "      <td>1</td>\n",
       "      <td>0</td>\n",
       "      <td>0</td>\n",
       "      <td>0</td>\n",
       "      <td>0</td>\n",
       "    </tr>\n",
       "    <tr>\n",
       "      <th>14</th>\n",
       "      <td>0</td>\n",
       "      <td>0</td>\n",
       "      <td>0</td>\n",
       "      <td>0</td>\n",
       "      <td>0</td>\n",
       "      <td>0</td>\n",
       "      <td>0</td>\n",
       "      <td>0</td>\n",
       "      <td>0</td>\n",
       "      <td>0</td>\n",
       "      <td>...</td>\n",
       "      <td>0</td>\n",
       "      <td>0</td>\n",
       "      <td>0</td>\n",
       "      <td>0</td>\n",
       "      <td>0</td>\n",
       "      <td>0</td>\n",
       "      <td>1</td>\n",
       "      <td>0</td>\n",
       "      <td>0</td>\n",
       "      <td>0</td>\n",
       "    </tr>\n",
       "    <tr>\n",
       "      <th>16</th>\n",
       "      <td>0</td>\n",
       "      <td>0</td>\n",
       "      <td>0</td>\n",
       "      <td>0</td>\n",
       "      <td>0</td>\n",
       "      <td>0</td>\n",
       "      <td>0</td>\n",
       "      <td>0</td>\n",
       "      <td>0</td>\n",
       "      <td>0</td>\n",
       "      <td>...</td>\n",
       "      <td>0</td>\n",
       "      <td>0</td>\n",
       "      <td>0</td>\n",
       "      <td>0</td>\n",
       "      <td>0</td>\n",
       "      <td>0</td>\n",
       "      <td>0</td>\n",
       "      <td>2</td>\n",
       "      <td>0</td>\n",
       "      <td>0</td>\n",
       "    </tr>\n",
       "    <tr>\n",
       "      <th>18</th>\n",
       "      <td>0</td>\n",
       "      <td>0</td>\n",
       "      <td>0</td>\n",
       "      <td>0</td>\n",
       "      <td>0</td>\n",
       "      <td>0</td>\n",
       "      <td>0</td>\n",
       "      <td>0</td>\n",
       "      <td>0</td>\n",
       "      <td>0</td>\n",
       "      <td>...</td>\n",
       "      <td>0</td>\n",
       "      <td>0</td>\n",
       "      <td>0</td>\n",
       "      <td>0</td>\n",
       "      <td>0</td>\n",
       "      <td>0</td>\n",
       "      <td>0</td>\n",
       "      <td>0</td>\n",
       "      <td>1</td>\n",
       "      <td>0</td>\n",
       "    </tr>\n",
       "    <tr>\n",
       "      <th>19</th>\n",
       "      <td>0</td>\n",
       "      <td>0</td>\n",
       "      <td>0</td>\n",
       "      <td>0</td>\n",
       "      <td>0</td>\n",
       "      <td>0</td>\n",
       "      <td>0</td>\n",
       "      <td>0</td>\n",
       "      <td>0</td>\n",
       "      <td>0</td>\n",
       "      <td>...</td>\n",
       "      <td>0</td>\n",
       "      <td>0</td>\n",
       "      <td>0</td>\n",
       "      <td>0</td>\n",
       "      <td>0</td>\n",
       "      <td>0</td>\n",
       "      <td>0</td>\n",
       "      <td>0</td>\n",
       "      <td>0</td>\n",
       "      <td>1</td>\n",
       "    </tr>\n",
       "  </tbody>\n",
       "</table>\n",
       "<p>17 rows × 33 columns</p>\n",
       "</div>"
      ],
      "text/plain": [
       "stays_in_week_nights       0      1      2      3     4     5    6    7    8   \\\n",
       "stays_in_weekend_nights                                                         \n",
       "0                         645  16436  17949  11557  4478   830    0    0    0   \n",
       "1                        4569   7325   8976   6150  2407  1188    0    0    0   \n",
       "2                        2358   6531   6745   4534  2658  8648  847  446  391   \n",
       "3                           0      0      0      0     0   308  300  397  131   \n",
       "4                           0      0      0      0     0    94  347  181  132   \n",
       "5                           0      0      0      0     0     0    0    0    0   \n",
       "6                           0      0      0      0     0     0    0    0    0   \n",
       "7                           0      0      0      0     0     0    0    0    0   \n",
       "8                           0      0      0      0     0     0    0    0    0   \n",
       "9                           0      0      0      0     0     0    0    0    0   \n",
       "10                          0      0      0      0     0     0    0    0    0   \n",
       "12                          0      0      0      0     0     0    0    0    0   \n",
       "13                          0      0      0      0     0     0    0    0    0   \n",
       "14                          0      0      0      0     0     0    0    0    0   \n",
       "16                          0      0      0      0     0     0    0    0    0   \n",
       "18                          0      0      0      0     0     0    0    0    0   \n",
       "19                          0      0      0      0     0     0    0    0    0   \n",
       "\n",
       "stays_in_week_nights     9   ...  24  25  26  30  32  33  34  40  42  50  \n",
       "stays_in_weekend_nights      ...                                          \n",
       "0                         0  ...   0   0   0   0   0   0   0   0   0   0  \n",
       "1                         0  ...   0   0   0   0   0   0   0   0   0   0  \n",
       "2                        81  ...   0   0   0   0   0   0   0   0   0   0  \n",
       "3                        61  ...   0   0   0   0   0   0   0   0   0   0  \n",
       "4                        86  ...   0   0   0   0   0   0   0   0   0   0  \n",
       "5                         0  ...   0   0   0   0   0   0   0   0   0   0  \n",
       "6                         0  ...   0   0   0   0   0   0   0   0   0   0  \n",
       "7                         0  ...   0   0   0   0   0   0   0   0   0   0  \n",
       "8                         0  ...   0   0   0   0   0   0   0   0   0   0  \n",
       "9                         0  ...   3   1   0   0   0   0   0   0   0   0  \n",
       "10                        0  ...   0   5   0   0   0   0   0   0   0   0  \n",
       "12                        0  ...   0   0   1   4   0   0   0   0   0   0  \n",
       "13                        0  ...   0   0   0   0   1   1   0   0   0   0  \n",
       "14                        0  ...   0   0   0   0   0   0   1   0   0   0  \n",
       "16                        0  ...   0   0   0   0   0   0   0   2   0   0  \n",
       "18                        0  ...   0   0   0   0   0   0   0   0   1   0  \n",
       "19                        0  ...   0   0   0   0   0   0   0   0   0   1  \n",
       "\n",
       "[17 rows x 33 columns]"
      ]
     },
     "execution_count": 51,
     "metadata": {},
     "output_type": "execute_result"
    }
   ],
   "source": [
    "### lets create a releationship table.\n",
    "pd.crosstab(index = data['stays_in_weekend_nights'],columns= data['stays_in_week_nights'])"
   ]
  },
  {
   "cell_type": "code",
   "execution_count": null,
   "id": "57b35376",
   "metadata": {},
   "outputs": [],
   "source": []
  },
  {
   "cell_type": "code",
   "execution_count": 52,
   "id": "9c1f443f",
   "metadata": {},
   "outputs": [],
   "source": [
    "## lets define our own function:\n",
    "\n",
    "def week_function(row):\n",
    "    feature1= 'stays_in_weekend_nights'\n",
    "    feature2= 'stays_in_week_nights'\n",
    "    \n",
    "    if row[feature2]==0 and row[feature1]>0 :\n",
    "        return 'stay_just_weekend'\n",
    "    \n",
    "    elif row[feature2]>0 and row[feature1] ==0:\n",
    "        return 'stay_just_weekdays'\n",
    "    \n",
    "    elif row[feature2]>0 and row[feature1]>0:\n",
    "        return 'stay_both_weekdays_weekends'\n",
    "    \n",
    "    else:\n",
    "        return 'undefined_data'"
   ]
  },
  {
   "cell_type": "code",
   "execution_count": 53,
   "id": "58e699e9",
   "metadata": {},
   "outputs": [
    {
     "name": "stderr",
     "output_type": "stream",
     "text": [
      "<ipython-input-53-7bf9b0d40744>:1: SettingWithCopyWarning:\n",
      "\n",
      "\n",
      "A value is trying to be set on a copy of a slice from a DataFrame.\n",
      "Try using .loc[row_indexer,col_indexer] = value instead\n",
      "\n",
      "See the caveats in the documentation: https://pandas.pydata.org/pandas-docs/stable/user_guide/indexing.html#returning-a-view-versus-a-copy\n",
      "\n"
     ]
    }
   ],
   "source": [
    "data2['weekend_or_weekday']= data2.apply(week_function,axis =1)"
   ]
  },
  {
   "cell_type": "code",
   "execution_count": 54,
   "id": "97432c5e",
   "metadata": {},
   "outputs": [
    {
     "data": {
      "text/html": [
       "<div>\n",
       "<style scoped>\n",
       "    .dataframe tbody tr th:only-of-type {\n",
       "        vertical-align: middle;\n",
       "    }\n",
       "\n",
       "    .dataframe tbody tr th {\n",
       "        vertical-align: top;\n",
       "    }\n",
       "\n",
       "    .dataframe thead th {\n",
       "        text-align: right;\n",
       "    }\n",
       "</style>\n",
       "<table border=\"1\" class=\"dataframe\">\n",
       "  <thead>\n",
       "    <tr style=\"text-align: right;\">\n",
       "      <th></th>\n",
       "      <th>hotel</th>\n",
       "      <th>is_canceled</th>\n",
       "      <th>lead_time</th>\n",
       "      <th>arrival_date_year</th>\n",
       "      <th>arrival_date_month</th>\n",
       "      <th>arrival_date_week_number</th>\n",
       "      <th>arrival_date_day_of_month</th>\n",
       "      <th>stays_in_weekend_nights</th>\n",
       "      <th>stays_in_week_nights</th>\n",
       "      <th>adults</th>\n",
       "      <th>...</th>\n",
       "      <th>booking_changes</th>\n",
       "      <th>deposit_type</th>\n",
       "      <th>days_in_waiting_list</th>\n",
       "      <th>customer_type</th>\n",
       "      <th>adr</th>\n",
       "      <th>required_car_parking_spaces</th>\n",
       "      <th>total_of_special_requests</th>\n",
       "      <th>reservation_status</th>\n",
       "      <th>reservation_status_date</th>\n",
       "      <th>weekend_or_weekday</th>\n",
       "    </tr>\n",
       "  </thead>\n",
       "  <tbody>\n",
       "    <tr>\n",
       "      <th>0</th>\n",
       "      <td>Resort Hotel</td>\n",
       "      <td>0</td>\n",
       "      <td>342</td>\n",
       "      <td>2015</td>\n",
       "      <td>July</td>\n",
       "      <td>27</td>\n",
       "      <td>1</td>\n",
       "      <td>0</td>\n",
       "      <td>0</td>\n",
       "      <td>2</td>\n",
       "      <td>...</td>\n",
       "      <td>3</td>\n",
       "      <td>No Deposit</td>\n",
       "      <td>0</td>\n",
       "      <td>Transient</td>\n",
       "      <td>0.0</td>\n",
       "      <td>0</td>\n",
       "      <td>0</td>\n",
       "      <td>Check-Out</td>\n",
       "      <td>2015-07-01</td>\n",
       "      <td>undefined_data</td>\n",
       "    </tr>\n",
       "    <tr>\n",
       "      <th>1</th>\n",
       "      <td>Resort Hotel</td>\n",
       "      <td>0</td>\n",
       "      <td>737</td>\n",
       "      <td>2015</td>\n",
       "      <td>July</td>\n",
       "      <td>27</td>\n",
       "      <td>1</td>\n",
       "      <td>0</td>\n",
       "      <td>0</td>\n",
       "      <td>2</td>\n",
       "      <td>...</td>\n",
       "      <td>4</td>\n",
       "      <td>No Deposit</td>\n",
       "      <td>0</td>\n",
       "      <td>Transient</td>\n",
       "      <td>0.0</td>\n",
       "      <td>0</td>\n",
       "      <td>0</td>\n",
       "      <td>Check-Out</td>\n",
       "      <td>2015-07-01</td>\n",
       "      <td>undefined_data</td>\n",
       "    </tr>\n",
       "  </tbody>\n",
       "</table>\n",
       "<p>2 rows × 31 columns</p>\n",
       "</div>"
      ],
      "text/plain": [
       "          hotel  is_canceled  lead_time  arrival_date_year arrival_date_month  \\\n",
       "0  Resort Hotel            0        342               2015               July   \n",
       "1  Resort Hotel            0        737               2015               July   \n",
       "\n",
       "   arrival_date_week_number  arrival_date_day_of_month  \\\n",
       "0                        27                          1   \n",
       "1                        27                          1   \n",
       "\n",
       "   stays_in_weekend_nights  stays_in_week_nights  adults  ...  \\\n",
       "0                        0                     0       2  ...   \n",
       "1                        0                     0       2  ...   \n",
       "\n",
       "   booking_changes  deposit_type days_in_waiting_list customer_type  adr  \\\n",
       "0                3    No Deposit                    0     Transient  0.0   \n",
       "1                4    No Deposit                    0     Transient  0.0   \n",
       "\n",
       "  required_car_parking_spaces  total_of_special_requests  reservation_status  \\\n",
       "0                           0                          0           Check-Out   \n",
       "1                           0                          0           Check-Out   \n",
       "\n",
       "   reservation_status_date weekend_or_weekday  \n",
       "0               2015-07-01     undefined_data  \n",
       "1               2015-07-01     undefined_data  \n",
       "\n",
       "[2 rows x 31 columns]"
      ]
     },
     "execution_count": 54,
     "metadata": {},
     "output_type": "execute_result"
    }
   ],
   "source": [
    "data2.head(2)"
   ]
  },
  {
   "cell_type": "code",
   "execution_count": 55,
   "id": "73fa478e",
   "metadata": {},
   "outputs": [
    {
     "data": {
      "text/plain": [
       "stay_both_weekdays_weekends    37551\n",
       "stay_just_weekdays             31788\n",
       "stay_just_weekend               5050\n",
       "undefined_data                   622\n",
       "Name: weekend_or_weekday, dtype: int64"
      ]
     },
     "execution_count": 55,
     "metadata": {},
     "output_type": "execute_result"
    }
   ],
   "source": [
    "data2['weekend_or_weekday'].value_counts()"
   ]
  },
  {
   "cell_type": "code",
   "execution_count": 56,
   "id": "6062dc0e",
   "metadata": {},
   "outputs": [
    {
     "data": {
      "text/plain": [
       "module"
      ]
     },
     "execution_count": 56,
     "metadata": {},
     "output_type": "execute_result"
    }
   ],
   "source": [
    "type(sd)"
   ]
  },
  {
   "cell_type": "code",
   "execution_count": 57,
   "id": "269c3322",
   "metadata": {},
   "outputs": [],
   "source": [
    "data2= sd.Sort_Dataframeby_Month(data2,'arrival_date_month')\n"
   ]
  },
  {
   "cell_type": "code",
   "execution_count": 58,
   "id": "04e8c6bd",
   "metadata": {},
   "outputs": [
    {
     "data": {
      "text/plain": [
       "arrival_date_month  weekend_or_weekday         \n",
       "April               stay_both_weekdays_weekends    3627\n",
       "                    stay_just_weekdays             2559\n",
       "                    stay_just_weekend               344\n",
       "                    undefined_data                   30\n",
       "August              stay_both_weekdays_weekends    4929\n",
       "                    stay_just_weekdays             3137\n",
       "                    stay_just_weekend               509\n",
       "                    undefined_data                   49\n",
       "December            stay_both_weekdays_weekends    1901\n",
       "                    stay_just_weekdays             2123\n",
       "                    stay_just_weekend               298\n",
       "                    undefined_data                   69\n",
       "February            stay_both_weekdays_weekends    2438\n",
       "                    stay_just_weekdays             2514\n",
       "                    stay_just_weekend               360\n",
       "                    undefined_data                   47\n",
       "January             stay_both_weekdays_weekends    1550\n",
       "                    stay_just_weekdays             2125\n",
       "                    stay_just_weekend               393\n",
       "                    undefined_data                   47\n",
       "July                stay_both_weekdays_weekends    4570\n",
       "                    stay_just_weekdays             2818\n",
       "                    stay_just_weekend               462\n",
       "                    undefined_data                   57\n",
       "June                stay_both_weekdays_weekends    3241\n",
       "                    stay_just_weekdays             2685\n",
       "                    stay_just_weekend               433\n",
       "                    undefined_data                   36\n",
       "March               stay_both_weekdays_weekends    3151\n",
       "                    stay_just_weekdays             3060\n",
       "                    stay_just_weekend               359\n",
       "                    undefined_data                   50\n",
       "May                 stay_both_weekdays_weekends    3442\n",
       "                    stay_just_weekdays             3017\n",
       "                    stay_just_weekend               570\n",
       "                    undefined_data                   74\n",
       "November            stay_both_weekdays_weekends    2117\n",
       "                    stay_just_weekdays             2214\n",
       "                    stay_just_weekend               261\n",
       "                    undefined_data                   59\n",
       "October             stay_both_weekdays_weekends    3393\n",
       "                    stay_just_weekdays             2844\n",
       "                    stay_just_weekend               582\n",
       "                    undefined_data                   82\n",
       "September           stay_both_weekdays_weekends    3192\n",
       "                    stay_just_weekdays             2692\n",
       "                    stay_just_weekend               479\n",
       "                    undefined_data                   22\n",
       "dtype: int64"
      ]
     },
     "execution_count": 58,
     "metadata": {},
     "output_type": "execute_result"
    }
   ],
   "source": [
    "data2.groupby(['arrival_date_month','weekend_or_weekday']).size()"
   ]
  },
  {
   "cell_type": "code",
   "execution_count": 59,
   "id": "afb19dd8",
   "metadata": {},
   "outputs": [],
   "source": [
    "group_data = data2.groupby(['arrival_date_month','weekend_or_weekday']).size().unstack().reset_index()"
   ]
  },
  {
   "cell_type": "code",
   "execution_count": 60,
   "id": "f46dd152",
   "metadata": {},
   "outputs": [],
   "source": [
    "sorted_data=sd.Sort_Dataframeby_Month(group_data,'arrival_date_month')"
   ]
  },
  {
   "cell_type": "code",
   "execution_count": 61,
   "id": "76ba198e",
   "metadata": {},
   "outputs": [],
   "source": [
    "sorted_data.set_index('arrival_date_month',inplace = True)"
   ]
  },
  {
   "cell_type": "code",
   "execution_count": 62,
   "id": "257caa93",
   "metadata": {},
   "outputs": [
    {
     "data": {
      "text/html": [
       "<div>\n",
       "<style scoped>\n",
       "    .dataframe tbody tr th:only-of-type {\n",
       "        vertical-align: middle;\n",
       "    }\n",
       "\n",
       "    .dataframe tbody tr th {\n",
       "        vertical-align: top;\n",
       "    }\n",
       "\n",
       "    .dataframe thead th {\n",
       "        text-align: right;\n",
       "    }\n",
       "</style>\n",
       "<table border=\"1\" class=\"dataframe\">\n",
       "  <thead>\n",
       "    <tr style=\"text-align: right;\">\n",
       "      <th></th>\n",
       "      <th>stay_both_weekdays_weekends</th>\n",
       "      <th>stay_just_weekdays</th>\n",
       "      <th>stay_just_weekend</th>\n",
       "      <th>undefined_data</th>\n",
       "    </tr>\n",
       "    <tr>\n",
       "      <th>arrival_date_month</th>\n",
       "      <th></th>\n",
       "      <th></th>\n",
       "      <th></th>\n",
       "      <th></th>\n",
       "    </tr>\n",
       "  </thead>\n",
       "  <tbody>\n",
       "    <tr>\n",
       "      <th>January</th>\n",
       "      <td>1550</td>\n",
       "      <td>2125</td>\n",
       "      <td>393</td>\n",
       "      <td>47</td>\n",
       "    </tr>\n",
       "    <tr>\n",
       "      <th>February</th>\n",
       "      <td>2438</td>\n",
       "      <td>2514</td>\n",
       "      <td>360</td>\n",
       "      <td>47</td>\n",
       "    </tr>\n",
       "    <tr>\n",
       "      <th>March</th>\n",
       "      <td>3151</td>\n",
       "      <td>3060</td>\n",
       "      <td>359</td>\n",
       "      <td>50</td>\n",
       "    </tr>\n",
       "    <tr>\n",
       "      <th>April</th>\n",
       "      <td>3627</td>\n",
       "      <td>2559</td>\n",
       "      <td>344</td>\n",
       "      <td>30</td>\n",
       "    </tr>\n",
       "    <tr>\n",
       "      <th>May</th>\n",
       "      <td>3442</td>\n",
       "      <td>3017</td>\n",
       "      <td>570</td>\n",
       "      <td>74</td>\n",
       "    </tr>\n",
       "    <tr>\n",
       "      <th>June</th>\n",
       "      <td>3241</td>\n",
       "      <td>2685</td>\n",
       "      <td>433</td>\n",
       "      <td>36</td>\n",
       "    </tr>\n",
       "    <tr>\n",
       "      <th>July</th>\n",
       "      <td>4570</td>\n",
       "      <td>2818</td>\n",
       "      <td>462</td>\n",
       "      <td>57</td>\n",
       "    </tr>\n",
       "    <tr>\n",
       "      <th>August</th>\n",
       "      <td>4929</td>\n",
       "      <td>3137</td>\n",
       "      <td>509</td>\n",
       "      <td>49</td>\n",
       "    </tr>\n",
       "    <tr>\n",
       "      <th>September</th>\n",
       "      <td>3192</td>\n",
       "      <td>2692</td>\n",
       "      <td>479</td>\n",
       "      <td>22</td>\n",
       "    </tr>\n",
       "    <tr>\n",
       "      <th>October</th>\n",
       "      <td>3393</td>\n",
       "      <td>2844</td>\n",
       "      <td>582</td>\n",
       "      <td>82</td>\n",
       "    </tr>\n",
       "    <tr>\n",
       "      <th>November</th>\n",
       "      <td>2117</td>\n",
       "      <td>2214</td>\n",
       "      <td>261</td>\n",
       "      <td>59</td>\n",
       "    </tr>\n",
       "    <tr>\n",
       "      <th>December</th>\n",
       "      <td>1901</td>\n",
       "      <td>2123</td>\n",
       "      <td>298</td>\n",
       "      <td>69</td>\n",
       "    </tr>\n",
       "  </tbody>\n",
       "</table>\n",
       "</div>"
      ],
      "text/plain": [
       "                    stay_both_weekdays_weekends  stay_just_weekdays  \\\n",
       "arrival_date_month                                                    \n",
       "January                                    1550                2125   \n",
       "February                                   2438                2514   \n",
       "March                                      3151                3060   \n",
       "April                                      3627                2559   \n",
       "May                                        3442                3017   \n",
       "June                                       3241                2685   \n",
       "July                                       4570                2818   \n",
       "August                                     4929                3137   \n",
       "September                                  3192                2692   \n",
       "October                                    3393                2844   \n",
       "November                                   2117                2214   \n",
       "December                                   1901                2123   \n",
       "\n",
       "                    stay_just_weekend  undefined_data  \n",
       "arrival_date_month                                     \n",
       "January                           393              47  \n",
       "February                          360              47  \n",
       "March                             359              50  \n",
       "April                             344              30  \n",
       "May                               570              74  \n",
       "June                              433              36  \n",
       "July                              462              57  \n",
       "August                            509              49  \n",
       "September                         479              22  \n",
       "October                           582              82  \n",
       "November                          261              59  \n",
       "December                          298              69  "
      ]
     },
     "execution_count": 62,
     "metadata": {},
     "output_type": "execute_result"
    }
   ],
   "source": [
    "sorted_data"
   ]
  },
  {
   "cell_type": "code",
   "execution_count": 63,
   "id": "6de54e53",
   "metadata": {},
   "outputs": [
    {
     "data": {
      "text/plain": [
       "<AxesSubplot:xlabel='arrival_date_month'>"
      ]
     },
     "execution_count": 63,
     "metadata": {},
     "output_type": "execute_result"
    },
    {
     "data": {
      "image/png": "[encoded data removed]",
      "text/plain": [
       "<Figure size 1080x720 with 1 Axes>"
      ]
     },
     "metadata": {
      "needs_background": "light"
     },
     "output_type": "display_data"
    }
   ],
   "source": [
    "sorted_data.plot(kind='bar',stacked=True,figsize = (15,10))"
   ]
  },
  {
   "cell_type": "code",
   "execution_count": null,
   "id": "4b3df294",
   "metadata": {},
   "outputs": [],
   "source": []
  },
  {
   "cell_type": "code",
   "execution_count": null,
   "id": "1ec54ea2",
   "metadata": {},
   "outputs": [],
   "source": []
  },
  {
   "cell_type": "markdown",
   "id": "62477776",
   "metadata": {},
   "source": [
    "# 8. How to create some more features."
   ]
  },
  {
   "cell_type": "code",
   "execution_count": 64,
   "id": "ae13703d",
   "metadata": {},
   "outputs": [
    {
     "data": {
      "text/plain": [
       "Index(['hotel', 'is_canceled', 'lead_time', 'arrival_date_year',\n",
       "       'arrival_date_month', 'arrival_date_week_number',\n",
       "       'arrival_date_day_of_month', 'stays_in_weekend_nights',\n",
       "       'stays_in_week_nights', 'adults', 'children', 'babies', 'meal',\n",
       "       'country', 'market_segment', 'distribution_channel',\n",
       "       'is_repeated_guest', 'previous_cancellations',\n",
       "       'previous_bookings_not_canceled', 'reserved_room_type',\n",
       "       'assigned_room_type', 'booking_changes', 'deposit_type',\n",
       "       'days_in_waiting_list', 'customer_type', 'adr',\n",
       "       'required_car_parking_spaces', 'total_of_special_requests',\n",
       "       'reservation_status', 'reservation_status_date', 'weekend_or_weekday'],\n",
       "      dtype='object')"
      ]
     },
     "execution_count": 64,
     "metadata": {},
     "output_type": "execute_result"
    }
   ],
   "source": [
    "data2.columns"
   ]
  },
  {
   "cell_type": "code",
   "execution_count": null,
   "id": "73fd1fa7",
   "metadata": {},
   "outputs": [],
   "source": []
  },
  {
   "cell_type": "code",
   "execution_count": 65,
   "id": "c81fbc78",
   "metadata": {},
   "outputs": [],
   "source": [
    "def family(row):\n",
    "    if(row['adults']>0) & (row['children']>0 or row['babies']>0):\n",
    "        return 1\n",
    "    else:\n",
    "        return 0\n",
    "    "
   ]
  },
  {
   "cell_type": "code",
   "execution_count": 66,
   "id": "e0012804",
   "metadata": {},
   "outputs": [],
   "source": [
    "data['is_family']=data.apply(family,axis=1)"
   ]
  },
  {
   "cell_type": "code",
   "execution_count": 67,
   "id": "5d44622a",
   "metadata": {},
   "outputs": [],
   "source": [
    "data['total_customer']= data['adults'] + data['babies'] + data['children']"
   ]
  },
  {
   "cell_type": "code",
   "execution_count": 68,
   "id": "1efcbb0d",
   "metadata": {},
   "outputs": [],
   "source": [
    "data['total_nights'] = data['stays_in_week_nights'] + data['stays_in_weekend_nights']"
   ]
  },
  {
   "cell_type": "code",
   "execution_count": 69,
   "id": "84c9f9ff",
   "metadata": {},
   "outputs": [
    {
     "data": {
      "text/html": [
       "<div>\n",
       "<style scoped>\n",
       "    .dataframe tbody tr th:only-of-type {\n",
       "        vertical-align: middle;\n",
       "    }\n",
       "\n",
       "    .dataframe tbody tr th {\n",
       "        vertical-align: top;\n",
       "    }\n",
       "\n",
       "    .dataframe thead th {\n",
       "        text-align: right;\n",
       "    }\n",
       "</style>\n",
       "<table border=\"1\" class=\"dataframe\">\n",
       "  <thead>\n",
       "    <tr style=\"text-align: right;\">\n",
       "      <th></th>\n",
       "      <th>hotel</th>\n",
       "      <th>is_canceled</th>\n",
       "      <th>lead_time</th>\n",
       "      <th>arrival_date_year</th>\n",
       "      <th>arrival_date_month</th>\n",
       "      <th>arrival_date_week_number</th>\n",
       "      <th>arrival_date_day_of_month</th>\n",
       "      <th>stays_in_weekend_nights</th>\n",
       "      <th>stays_in_week_nights</th>\n",
       "      <th>adults</th>\n",
       "      <th>...</th>\n",
       "      <th>days_in_waiting_list</th>\n",
       "      <th>customer_type</th>\n",
       "      <th>adr</th>\n",
       "      <th>required_car_parking_spaces</th>\n",
       "      <th>total_of_special_requests</th>\n",
       "      <th>reservation_status</th>\n",
       "      <th>reservation_status_date</th>\n",
       "      <th>is_family</th>\n",
       "      <th>total_customer</th>\n",
       "      <th>total_nights</th>\n",
       "    </tr>\n",
       "  </thead>\n",
       "  <tbody>\n",
       "    <tr>\n",
       "      <th>0</th>\n",
       "      <td>Resort Hotel</td>\n",
       "      <td>0</td>\n",
       "      <td>109</td>\n",
       "      <td>2016</td>\n",
       "      <td>January</td>\n",
       "      <td>1</td>\n",
       "      <td>1</td>\n",
       "      <td>0</td>\n",
       "      <td>1</td>\n",
       "      <td>2</td>\n",
       "      <td>...</td>\n",
       "      <td>0</td>\n",
       "      <td>Transient-Party</td>\n",
       "      <td>59.94</td>\n",
       "      <td>0</td>\n",
       "      <td>1</td>\n",
       "      <td>Check-Out</td>\n",
       "      <td>2016-01-02</td>\n",
       "      <td>0</td>\n",
       "      <td>2.0</td>\n",
       "      <td>1</td>\n",
       "    </tr>\n",
       "    <tr>\n",
       "      <th>1</th>\n",
       "      <td>Resort Hotel</td>\n",
       "      <td>0</td>\n",
       "      <td>109</td>\n",
       "      <td>2016</td>\n",
       "      <td>January</td>\n",
       "      <td>1</td>\n",
       "      <td>1</td>\n",
       "      <td>0</td>\n",
       "      <td>1</td>\n",
       "      <td>2</td>\n",
       "      <td>...</td>\n",
       "      <td>0</td>\n",
       "      <td>Transient-Party</td>\n",
       "      <td>116.10</td>\n",
       "      <td>1</td>\n",
       "      <td>1</td>\n",
       "      <td>Check-Out</td>\n",
       "      <td>2016-01-02</td>\n",
       "      <td>1</td>\n",
       "      <td>4.0</td>\n",
       "      <td>1</td>\n",
       "    </tr>\n",
       "    <tr>\n",
       "      <th>2</th>\n",
       "      <td>Resort Hotel</td>\n",
       "      <td>1</td>\n",
       "      <td>2</td>\n",
       "      <td>2016</td>\n",
       "      <td>January</td>\n",
       "      <td>1</td>\n",
       "      <td>1</td>\n",
       "      <td>0</td>\n",
       "      <td>1</td>\n",
       "      <td>2</td>\n",
       "      <td>...</td>\n",
       "      <td>0</td>\n",
       "      <td>Transient</td>\n",
       "      <td>89.00</td>\n",
       "      <td>0</td>\n",
       "      <td>1</td>\n",
       "      <td>No-Show</td>\n",
       "      <td>2016-01-01</td>\n",
       "      <td>0</td>\n",
       "      <td>2.0</td>\n",
       "      <td>1</td>\n",
       "    </tr>\n",
       "  </tbody>\n",
       "</table>\n",
       "<p>3 rows × 33 columns</p>\n",
       "</div>"
      ],
      "text/plain": [
       "          hotel  is_canceled  lead_time  arrival_date_year arrival_date_month  \\\n",
       "0  Resort Hotel            0        109               2016            January   \n",
       "1  Resort Hotel            0        109               2016            January   \n",
       "2  Resort Hotel            1          2               2016            January   \n",
       "\n",
       "   arrival_date_week_number  arrival_date_day_of_month  \\\n",
       "0                         1                          1   \n",
       "1                         1                          1   \n",
       "2                         1                          1   \n",
       "\n",
       "   stays_in_weekend_nights  stays_in_week_nights  adults  ...  \\\n",
       "0                        0                     1       2  ...   \n",
       "1                        0                     1       2  ...   \n",
       "2                        0                     1       2  ...   \n",
       "\n",
       "   days_in_waiting_list    customer_type     adr required_car_parking_spaces  \\\n",
       "0                     0  Transient-Party   59.94                           0   \n",
       "1                     0  Transient-Party  116.10                           1   \n",
       "2                     0        Transient   89.00                           0   \n",
       "\n",
       "  total_of_special_requests reservation_status  reservation_status_date  \\\n",
       "0                         1          Check-Out               2016-01-02   \n",
       "1                         1          Check-Out               2016-01-02   \n",
       "2                         1            No-Show               2016-01-01   \n",
       "\n",
       "   is_family  total_customer total_nights  \n",
       "0          0             2.0            1  \n",
       "1          1             4.0            1  \n",
       "2          0             2.0            1  \n",
       "\n",
       "[3 rows x 33 columns]"
      ]
     },
     "execution_count": 69,
     "metadata": {},
     "output_type": "execute_result"
    }
   ],
   "source": [
    "data.head(3)"
   ]
  },
  {
   "cell_type": "code",
   "execution_count": 70,
   "id": "e2acd43c",
   "metadata": {},
   "outputs": [
    {
     "data": {
      "text/plain": [
       "Index(['hotel', 'is_canceled', 'lead_time', 'arrival_date_year',\n",
       "       'arrival_date_month', 'arrival_date_week_number',\n",
       "       'arrival_date_day_of_month', 'stays_in_weekend_nights',\n",
       "       'stays_in_week_nights', 'adults', 'children', 'babies', 'meal',\n",
       "       'country', 'market_segment', 'distribution_channel',\n",
       "       'is_repeated_guest', 'previous_cancellations',\n",
       "       'previous_bookings_not_canceled', 'reserved_room_type',\n",
       "       'assigned_room_type', 'booking_changes', 'deposit_type',\n",
       "       'days_in_waiting_list', 'customer_type', 'adr',\n",
       "       'required_car_parking_spaces', 'total_of_special_requests',\n",
       "       'reservation_status', 'reservation_status_date', 'is_family',\n",
       "       'total_customer', 'total_nights'],\n",
       "      dtype='object')"
      ]
     },
     "execution_count": 70,
     "metadata": {},
     "output_type": "execute_result"
    }
   ],
   "source": [
    "data.columns"
   ]
  },
  {
   "cell_type": "code",
   "execution_count": 71,
   "id": "1bc8b1e0",
   "metadata": {},
   "outputs": [
    {
     "data": {
      "text/plain": [
       "array(['No Deposit', 'Non Refund', 'Refundable'], dtype=object)"
      ]
     },
     "execution_count": 71,
     "metadata": {},
     "output_type": "execute_result"
    }
   ],
   "source": [
    "data['deposit_type'].unique()"
   ]
  },
  {
   "cell_type": "code",
   "execution_count": 72,
   "id": "f6ad7582",
   "metadata": {},
   "outputs": [],
   "source": [
    "dict1 = {'No Deposit':0,'Non Refund':1, 'Refundable': 0}"
   ]
  },
  {
   "cell_type": "code",
   "execution_count": 73,
   "id": "568fc1f1",
   "metadata": {},
   "outputs": [],
   "source": [
    "data['deposit_given']=data['deposit_type'].map(dict1)"
   ]
  },
  {
   "cell_type": "code",
   "execution_count": 74,
   "id": "656ccacd",
   "metadata": {},
   "outputs": [
    {
     "data": {
      "text/plain": [
       "Index(['hotel', 'is_canceled', 'lead_time', 'arrival_date_year',\n",
       "       'arrival_date_month', 'arrival_date_week_number',\n",
       "       'arrival_date_day_of_month', 'stays_in_weekend_nights',\n",
       "       'stays_in_week_nights', 'adults', 'children', 'babies', 'meal',\n",
       "       'country', 'market_segment', 'distribution_channel',\n",
       "       'is_repeated_guest', 'previous_cancellations',\n",
       "       'previous_bookings_not_canceled', 'reserved_room_type',\n",
       "       'assigned_room_type', 'booking_changes', 'deposit_type',\n",
       "       'days_in_waiting_list', 'customer_type', 'adr',\n",
       "       'required_car_parking_spaces', 'total_of_special_requests',\n",
       "       'reservation_status', 'reservation_status_date', 'is_family',\n",
       "       'total_customer', 'total_nights', 'deposit_given'],\n",
       "      dtype='object')"
      ]
     },
     "execution_count": 74,
     "metadata": {},
     "output_type": "execute_result"
    }
   ],
   "source": [
    "data.columns"
   ]
  },
  {
   "cell_type": "code",
   "execution_count": 75,
   "id": "ff53d7a9",
   "metadata": {},
   "outputs": [],
   "source": [
    "data.drop(columns=['adults','children','babies','deposit_type'],axis=1,inplace=True)"
   ]
  },
  {
   "cell_type": "code",
   "execution_count": 76,
   "id": "7b266022",
   "metadata": {},
   "outputs": [
    {
     "data": {
      "text/plain": [
       "Index(['hotel', 'is_canceled', 'lead_time', 'arrival_date_year',\n",
       "       'arrival_date_month', 'arrival_date_week_number',\n",
       "       'arrival_date_day_of_month', 'stays_in_weekend_nights',\n",
       "       'stays_in_week_nights', 'meal', 'country', 'market_segment',\n",
       "       'distribution_channel', 'is_repeated_guest', 'previous_cancellations',\n",
       "       'previous_bookings_not_canceled', 'reserved_room_type',\n",
       "       'assigned_room_type', 'booking_changes', 'days_in_waiting_list',\n",
       "       'customer_type', 'adr', 'required_car_parking_spaces',\n",
       "       'total_of_special_requests', 'reservation_status',\n",
       "       'reservation_status_date', 'is_family', 'total_customer',\n",
       "       'total_nights', 'deposit_given'],\n",
       "      dtype='object')"
      ]
     },
     "execution_count": 76,
     "metadata": {},
     "output_type": "execute_result"
    }
   ],
   "source": [
    "data.columns"
   ]
  },
  {
   "cell_type": "code",
   "execution_count": 77,
   "id": "42aa0a17",
   "metadata": {},
   "outputs": [
    {
     "data": {
      "text/html": [
       "<div>\n",
       "<style scoped>\n",
       "    .dataframe tbody tr th:only-of-type {\n",
       "        vertical-align: middle;\n",
       "    }\n",
       "\n",
       "    .dataframe tbody tr th {\n",
       "        vertical-align: top;\n",
       "    }\n",
       "\n",
       "    .dataframe thead th {\n",
       "        text-align: right;\n",
       "    }\n",
       "</style>\n",
       "<table border=\"1\" class=\"dataframe\">\n",
       "  <thead>\n",
       "    <tr style=\"text-align: right;\">\n",
       "      <th></th>\n",
       "      <th>hotel</th>\n",
       "      <th>is_canceled</th>\n",
       "      <th>lead_time</th>\n",
       "      <th>arrival_date_year</th>\n",
       "      <th>arrival_date_month</th>\n",
       "      <th>arrival_date_week_number</th>\n",
       "      <th>arrival_date_day_of_month</th>\n",
       "      <th>stays_in_weekend_nights</th>\n",
       "      <th>stays_in_week_nights</th>\n",
       "      <th>meal</th>\n",
       "      <th>...</th>\n",
       "      <th>customer_type</th>\n",
       "      <th>adr</th>\n",
       "      <th>required_car_parking_spaces</th>\n",
       "      <th>total_of_special_requests</th>\n",
       "      <th>reservation_status</th>\n",
       "      <th>reservation_status_date</th>\n",
       "      <th>is_family</th>\n",
       "      <th>total_customer</th>\n",
       "      <th>total_nights</th>\n",
       "      <th>deposit_given</th>\n",
       "    </tr>\n",
       "  </thead>\n",
       "  <tbody>\n",
       "    <tr>\n",
       "      <th>0</th>\n",
       "      <td>Resort Hotel</td>\n",
       "      <td>0</td>\n",
       "      <td>109</td>\n",
       "      <td>2016</td>\n",
       "      <td>January</td>\n",
       "      <td>1</td>\n",
       "      <td>1</td>\n",
       "      <td>0</td>\n",
       "      <td>1</td>\n",
       "      <td>BB</td>\n",
       "      <td>...</td>\n",
       "      <td>Transient-Party</td>\n",
       "      <td>59.94</td>\n",
       "      <td>0</td>\n",
       "      <td>1</td>\n",
       "      <td>Check-Out</td>\n",
       "      <td>2016-01-02</td>\n",
       "      <td>0</td>\n",
       "      <td>2.0</td>\n",
       "      <td>1</td>\n",
       "      <td>0</td>\n",
       "    </tr>\n",
       "    <tr>\n",
       "      <th>1</th>\n",
       "      <td>Resort Hotel</td>\n",
       "      <td>0</td>\n",
       "      <td>109</td>\n",
       "      <td>2016</td>\n",
       "      <td>January</td>\n",
       "      <td>1</td>\n",
       "      <td>1</td>\n",
       "      <td>0</td>\n",
       "      <td>1</td>\n",
       "      <td>BB</td>\n",
       "      <td>...</td>\n",
       "      <td>Transient-Party</td>\n",
       "      <td>116.10</td>\n",
       "      <td>1</td>\n",
       "      <td>1</td>\n",
       "      <td>Check-Out</td>\n",
       "      <td>2016-01-02</td>\n",
       "      <td>1</td>\n",
       "      <td>4.0</td>\n",
       "      <td>1</td>\n",
       "      <td>0</td>\n",
       "    </tr>\n",
       "    <tr>\n",
       "      <th>2</th>\n",
       "      <td>Resort Hotel</td>\n",
       "      <td>1</td>\n",
       "      <td>2</td>\n",
       "      <td>2016</td>\n",
       "      <td>January</td>\n",
       "      <td>1</td>\n",
       "      <td>1</td>\n",
       "      <td>0</td>\n",
       "      <td>1</td>\n",
       "      <td>BB</td>\n",
       "      <td>...</td>\n",
       "      <td>Transient</td>\n",
       "      <td>89.00</td>\n",
       "      <td>0</td>\n",
       "      <td>1</td>\n",
       "      <td>No-Show</td>\n",
       "      <td>2016-01-01</td>\n",
       "      <td>0</td>\n",
       "      <td>2.0</td>\n",
       "      <td>1</td>\n",
       "      <td>0</td>\n",
       "    </tr>\n",
       "    <tr>\n",
       "      <th>3</th>\n",
       "      <td>Resort Hotel</td>\n",
       "      <td>0</td>\n",
       "      <td>88</td>\n",
       "      <td>2016</td>\n",
       "      <td>January</td>\n",
       "      <td>1</td>\n",
       "      <td>1</td>\n",
       "      <td>0</td>\n",
       "      <td>2</td>\n",
       "      <td>HB</td>\n",
       "      <td>...</td>\n",
       "      <td>Transient</td>\n",
       "      <td>73.46</td>\n",
       "      <td>0</td>\n",
       "      <td>2</td>\n",
       "      <td>Check-Out</td>\n",
       "      <td>2016-01-03</td>\n",
       "      <td>0</td>\n",
       "      <td>2.0</td>\n",
       "      <td>2</td>\n",
       "      <td>0</td>\n",
       "    </tr>\n",
       "    <tr>\n",
       "      <th>4</th>\n",
       "      <td>Resort Hotel</td>\n",
       "      <td>1</td>\n",
       "      <td>20</td>\n",
       "      <td>2016</td>\n",
       "      <td>January</td>\n",
       "      <td>1</td>\n",
       "      <td>1</td>\n",
       "      <td>0</td>\n",
       "      <td>2</td>\n",
       "      <td>BB</td>\n",
       "      <td>...</td>\n",
       "      <td>Transient</td>\n",
       "      <td>119.00</td>\n",
       "      <td>0</td>\n",
       "      <td>0</td>\n",
       "      <td>Canceled</td>\n",
       "      <td>2015-12-22</td>\n",
       "      <td>1</td>\n",
       "      <td>4.0</td>\n",
       "      <td>2</td>\n",
       "      <td>0</td>\n",
       "    </tr>\n",
       "  </tbody>\n",
       "</table>\n",
       "<p>5 rows × 30 columns</p>\n",
       "</div>"
      ],
      "text/plain": [
       "          hotel  is_canceled  lead_time  arrival_date_year arrival_date_month  \\\n",
       "0  Resort Hotel            0        109               2016            January   \n",
       "1  Resort Hotel            0        109               2016            January   \n",
       "2  Resort Hotel            1          2               2016            January   \n",
       "3  Resort Hotel            0         88               2016            January   \n",
       "4  Resort Hotel            1         20               2016            January   \n",
       "\n",
       "   arrival_date_week_number  arrival_date_day_of_month  \\\n",
       "0                         1                          1   \n",
       "1                         1                          1   \n",
       "2                         1                          1   \n",
       "3                         1                          1   \n",
       "4                         1                          1   \n",
       "\n",
       "   stays_in_weekend_nights  stays_in_week_nights meal  ...    customer_type  \\\n",
       "0                        0                     1   BB  ...  Transient-Party   \n",
       "1                        0                     1   BB  ...  Transient-Party   \n",
       "2                        0                     1   BB  ...        Transient   \n",
       "3                        0                     2   HB  ...        Transient   \n",
       "4                        0                     2   BB  ...        Transient   \n",
       "\n",
       "      adr required_car_parking_spaces  total_of_special_requests  \\\n",
       "0   59.94                           0                          1   \n",
       "1  116.10                           1                          1   \n",
       "2   89.00                           0                          1   \n",
       "3   73.46                           0                          2   \n",
       "4  119.00                           0                          0   \n",
       "\n",
       "   reservation_status  reservation_status_date is_family total_customer  \\\n",
       "0           Check-Out               2016-01-02         0            2.0   \n",
       "1           Check-Out               2016-01-02         1            4.0   \n",
       "2             No-Show               2016-01-01         0            2.0   \n",
       "3           Check-Out               2016-01-03         0            2.0   \n",
       "4            Canceled               2015-12-22         1            4.0   \n",
       "\n",
       "   total_nights  deposit_given  \n",
       "0             1              0  \n",
       "1             1              0  \n",
       "2             1              0  \n",
       "3             2              0  \n",
       "4             2              0  \n",
       "\n",
       "[5 rows x 30 columns]"
      ]
     },
     "execution_count": 77,
     "metadata": {},
     "output_type": "execute_result"
    }
   ],
   "source": [
    "data.head()"
   ]
  },
  {
   "cell_type": "code",
   "execution_count": null,
   "id": "2abccf13",
   "metadata": {},
   "outputs": [],
   "source": []
  },
  {
   "cell_type": "markdown",
   "id": "90a0d703",
   "metadata": {},
   "source": [
    "# 9. how to apply Feature encoding on data"
   ]
  },
  {
   "cell_type": "code",
   "execution_count": 78,
   "id": "8c3c71d6",
   "metadata": {},
   "outputs": [
    {
     "data": {
      "text/html": [
       "<div>\n",
       "<style scoped>\n",
       "    .dataframe tbody tr th:only-of-type {\n",
       "        vertical-align: middle;\n",
       "    }\n",
       "\n",
       "    .dataframe tbody tr th {\n",
       "        vertical-align: top;\n",
       "    }\n",
       "\n",
       "    .dataframe thead th {\n",
       "        text-align: right;\n",
       "    }\n",
       "</style>\n",
       "<table border=\"1\" class=\"dataframe\">\n",
       "  <thead>\n",
       "    <tr style=\"text-align: right;\">\n",
       "      <th></th>\n",
       "      <th>hotel</th>\n",
       "      <th>is_canceled</th>\n",
       "      <th>lead_time</th>\n",
       "      <th>arrival_date_year</th>\n",
       "      <th>arrival_date_month</th>\n",
       "      <th>arrival_date_week_number</th>\n",
       "      <th>arrival_date_day_of_month</th>\n",
       "      <th>stays_in_weekend_nights</th>\n",
       "      <th>stays_in_week_nights</th>\n",
       "      <th>meal</th>\n",
       "      <th>...</th>\n",
       "      <th>customer_type</th>\n",
       "      <th>adr</th>\n",
       "      <th>required_car_parking_spaces</th>\n",
       "      <th>total_of_special_requests</th>\n",
       "      <th>reservation_status</th>\n",
       "      <th>reservation_status_date</th>\n",
       "      <th>is_family</th>\n",
       "      <th>total_customer</th>\n",
       "      <th>total_nights</th>\n",
       "      <th>deposit_given</th>\n",
       "    </tr>\n",
       "  </thead>\n",
       "  <tbody>\n",
       "    <tr>\n",
       "      <th>0</th>\n",
       "      <td>Resort Hotel</td>\n",
       "      <td>0</td>\n",
       "      <td>109</td>\n",
       "      <td>2016</td>\n",
       "      <td>January</td>\n",
       "      <td>1</td>\n",
       "      <td>1</td>\n",
       "      <td>0</td>\n",
       "      <td>1</td>\n",
       "      <td>BB</td>\n",
       "      <td>...</td>\n",
       "      <td>Transient-Party</td>\n",
       "      <td>59.94</td>\n",
       "      <td>0</td>\n",
       "      <td>1</td>\n",
       "      <td>Check-Out</td>\n",
       "      <td>2016-01-02</td>\n",
       "      <td>0</td>\n",
       "      <td>2.0</td>\n",
       "      <td>1</td>\n",
       "      <td>0</td>\n",
       "    </tr>\n",
       "    <tr>\n",
       "      <th>1</th>\n",
       "      <td>Resort Hotel</td>\n",
       "      <td>0</td>\n",
       "      <td>109</td>\n",
       "      <td>2016</td>\n",
       "      <td>January</td>\n",
       "      <td>1</td>\n",
       "      <td>1</td>\n",
       "      <td>0</td>\n",
       "      <td>1</td>\n",
       "      <td>BB</td>\n",
       "      <td>...</td>\n",
       "      <td>Transient-Party</td>\n",
       "      <td>116.10</td>\n",
       "      <td>1</td>\n",
       "      <td>1</td>\n",
       "      <td>Check-Out</td>\n",
       "      <td>2016-01-02</td>\n",
       "      <td>1</td>\n",
       "      <td>4.0</td>\n",
       "      <td>1</td>\n",
       "      <td>0</td>\n",
       "    </tr>\n",
       "    <tr>\n",
       "      <th>2</th>\n",
       "      <td>Resort Hotel</td>\n",
       "      <td>1</td>\n",
       "      <td>2</td>\n",
       "      <td>2016</td>\n",
       "      <td>January</td>\n",
       "      <td>1</td>\n",
       "      <td>1</td>\n",
       "      <td>0</td>\n",
       "      <td>1</td>\n",
       "      <td>BB</td>\n",
       "      <td>...</td>\n",
       "      <td>Transient</td>\n",
       "      <td>89.00</td>\n",
       "      <td>0</td>\n",
       "      <td>1</td>\n",
       "      <td>No-Show</td>\n",
       "      <td>2016-01-01</td>\n",
       "      <td>0</td>\n",
       "      <td>2.0</td>\n",
       "      <td>1</td>\n",
       "      <td>0</td>\n",
       "    </tr>\n",
       "    <tr>\n",
       "      <th>3</th>\n",
       "      <td>Resort Hotel</td>\n",
       "      <td>0</td>\n",
       "      <td>88</td>\n",
       "      <td>2016</td>\n",
       "      <td>January</td>\n",
       "      <td>1</td>\n",
       "      <td>1</td>\n",
       "      <td>0</td>\n",
       "      <td>2</td>\n",
       "      <td>HB</td>\n",
       "      <td>...</td>\n",
       "      <td>Transient</td>\n",
       "      <td>73.46</td>\n",
       "      <td>0</td>\n",
       "      <td>2</td>\n",
       "      <td>Check-Out</td>\n",
       "      <td>2016-01-03</td>\n",
       "      <td>0</td>\n",
       "      <td>2.0</td>\n",
       "      <td>2</td>\n",
       "      <td>0</td>\n",
       "    </tr>\n",
       "    <tr>\n",
       "      <th>4</th>\n",
       "      <td>Resort Hotel</td>\n",
       "      <td>1</td>\n",
       "      <td>20</td>\n",
       "      <td>2016</td>\n",
       "      <td>January</td>\n",
       "      <td>1</td>\n",
       "      <td>1</td>\n",
       "      <td>0</td>\n",
       "      <td>2</td>\n",
       "      <td>BB</td>\n",
       "      <td>...</td>\n",
       "      <td>Transient</td>\n",
       "      <td>119.00</td>\n",
       "      <td>0</td>\n",
       "      <td>0</td>\n",
       "      <td>Canceled</td>\n",
       "      <td>2015-12-22</td>\n",
       "      <td>1</td>\n",
       "      <td>4.0</td>\n",
       "      <td>2</td>\n",
       "      <td>0</td>\n",
       "    </tr>\n",
       "    <tr>\n",
       "      <th>5</th>\n",
       "      <td>Resort Hotel</td>\n",
       "      <td>1</td>\n",
       "      <td>76</td>\n",
       "      <td>2016</td>\n",
       "      <td>January</td>\n",
       "      <td>1</td>\n",
       "      <td>1</td>\n",
       "      <td>1</td>\n",
       "      <td>2</td>\n",
       "      <td>BB</td>\n",
       "      <td>...</td>\n",
       "      <td>Transient</td>\n",
       "      <td>57.90</td>\n",
       "      <td>0</td>\n",
       "      <td>1</td>\n",
       "      <td>Canceled</td>\n",
       "      <td>2015-12-20</td>\n",
       "      <td>0</td>\n",
       "      <td>2.0</td>\n",
       "      <td>3</td>\n",
       "      <td>0</td>\n",
       "    </tr>\n",
       "  </tbody>\n",
       "</table>\n",
       "<p>6 rows × 30 columns</p>\n",
       "</div>"
      ],
      "text/plain": [
       "          hotel  is_canceled  lead_time  arrival_date_year arrival_date_month  \\\n",
       "0  Resort Hotel            0        109               2016            January   \n",
       "1  Resort Hotel            0        109               2016            January   \n",
       "2  Resort Hotel            1          2               2016            January   \n",
       "3  Resort Hotel            0         88               2016            January   \n",
       "4  Resort Hotel            1         20               2016            January   \n",
       "5  Resort Hotel            1         76               2016            January   \n",
       "\n",
       "   arrival_date_week_number  arrival_date_day_of_month  \\\n",
       "0                         1                          1   \n",
       "1                         1                          1   \n",
       "2                         1                          1   \n",
       "3                         1                          1   \n",
       "4                         1                          1   \n",
       "5                         1                          1   \n",
       "\n",
       "   stays_in_weekend_nights  stays_in_week_nights meal  ...    customer_type  \\\n",
       "0                        0                     1   BB  ...  Transient-Party   \n",
       "1                        0                     1   BB  ...  Transient-Party   \n",
       "2                        0                     1   BB  ...        Transient   \n",
       "3                        0                     2   HB  ...        Transient   \n",
       "4                        0                     2   BB  ...        Transient   \n",
       "5                        1                     2   BB  ...        Transient   \n",
       "\n",
       "      adr required_car_parking_spaces  total_of_special_requests  \\\n",
       "0   59.94                           0                          1   \n",
       "1  116.10                           1                          1   \n",
       "2   89.00                           0                          1   \n",
       "3   73.46                           0                          2   \n",
       "4  119.00                           0                          0   \n",
       "5   57.90                           0                          1   \n",
       "\n",
       "   reservation_status  reservation_status_date is_family total_customer  \\\n",
       "0           Check-Out               2016-01-02         0            2.0   \n",
       "1           Check-Out               2016-01-02         1            4.0   \n",
       "2             No-Show               2016-01-01         0            2.0   \n",
       "3           Check-Out               2016-01-03         0            2.0   \n",
       "4            Canceled               2015-12-22         1            4.0   \n",
       "5            Canceled               2015-12-20         0            2.0   \n",
       "\n",
       "   total_nights  deposit_given  \n",
       "0             1              0  \n",
       "1             1              0  \n",
       "2             1              0  \n",
       "3             2              0  \n",
       "4             2              0  \n",
       "5             3              0  \n",
       "\n",
       "[6 rows x 30 columns]"
      ]
     },
     "execution_count": 78,
     "metadata": {},
     "output_type": "execute_result"
    }
   ],
   "source": [
    "\n",
    "data.head(6)"
   ]
  },
  {
   "cell_type": "code",
   "execution_count": 79,
   "id": "1ca0a516",
   "metadata": {},
   "outputs": [
    {
     "data": {
      "text/plain": [
       "hotel                              object\n",
       "is_canceled                         int64\n",
       "lead_time                           int64\n",
       "arrival_date_year                   int64\n",
       "arrival_date_month                 object\n",
       "arrival_date_week_number            int64\n",
       "arrival_date_day_of_month           int64\n",
       "stays_in_weekend_nights             int64\n",
       "stays_in_week_nights                int64\n",
       "meal                               object\n",
       "country                            object\n",
       "market_segment                     object\n",
       "distribution_channel               object\n",
       "is_repeated_guest                   int64\n",
       "previous_cancellations              int64\n",
       "previous_bookings_not_canceled      int64\n",
       "reserved_room_type                 object\n",
       "assigned_room_type                 object\n",
       "booking_changes                     int64\n",
       "days_in_waiting_list                int64\n",
       "customer_type                      object\n",
       "adr                               float64\n",
       "required_car_parking_spaces         int64\n",
       "total_of_special_requests           int64\n",
       "reservation_status                 object\n",
       "reservation_status_date            object\n",
       "is_family                           int64\n",
       "total_customer                    float64\n",
       "total_nights                        int64\n",
       "deposit_given                       int64\n",
       "dtype: object"
      ]
     },
     "execution_count": 79,
     "metadata": {},
     "output_type": "execute_result"
    }
   ],
   "source": [
    "data.dtypes"
   ]
  },
  {
   "cell_type": "code",
   "execution_count": 80,
   "id": "2127af96",
   "metadata": {},
   "outputs": [
    {
     "data": {
      "text/plain": [
       "Index(['hotel', 'is_canceled', 'lead_time', 'arrival_date_year',\n",
       "       'arrival_date_month', 'arrival_date_week_number',\n",
       "       'arrival_date_day_of_month', 'stays_in_weekend_nights',\n",
       "       'stays_in_week_nights', 'meal', 'country', 'market_segment',\n",
       "       'distribution_channel', 'is_repeated_guest', 'previous_cancellations',\n",
       "       'previous_bookings_not_canceled', 'reserved_room_type',\n",
       "       'assigned_room_type', 'booking_changes', 'days_in_waiting_list',\n",
       "       'customer_type', 'adr', 'required_car_parking_spaces',\n",
       "       'total_of_special_requests', 'reservation_status',\n",
       "       'reservation_status_date', 'is_family', 'total_customer',\n",
       "       'total_nights', 'deposit_given'],\n",
       "      dtype='object')"
      ]
     },
     "execution_count": 80,
     "metadata": {},
     "output_type": "execute_result"
    }
   ],
   "source": [
    "data.columns"
   ]
  },
  {
   "cell_type": "code",
   "execution_count": 81,
   "id": "3d8388b3",
   "metadata": {},
   "outputs": [],
   "source": [
    "cate_features = [col for col in data.columns if data[col].dtype=='object']"
   ]
  },
  {
   "cell_type": "code",
   "execution_count": 82,
   "id": "40ac1d6a",
   "metadata": {},
   "outputs": [],
   "source": [
    "num_features = [col for col in data.columns if data[col].dtype!='object']"
   ]
  },
  {
   "cell_type": "code",
   "execution_count": 83,
   "id": "8aaa06ed",
   "metadata": {},
   "outputs": [
    {
     "data": {
      "text/plain": [
       "['is_canceled',\n",
       " 'lead_time',\n",
       " 'arrival_date_year',\n",
       " 'arrival_date_week_number',\n",
       " 'arrival_date_day_of_month',\n",
       " 'stays_in_weekend_nights',\n",
       " 'stays_in_week_nights',\n",
       " 'is_repeated_guest',\n",
       " 'previous_cancellations',\n",
       " 'previous_bookings_not_canceled',\n",
       " 'booking_changes',\n",
       " 'days_in_waiting_list',\n",
       " 'adr',\n",
       " 'required_car_parking_spaces',\n",
       " 'total_of_special_requests',\n",
       " 'is_family',\n",
       " 'total_customer',\n",
       " 'total_nights',\n",
       " 'deposit_given']"
      ]
     },
     "execution_count": 83,
     "metadata": {},
     "output_type": "execute_result"
    }
   ],
   "source": [
    "num_features"
   ]
  },
  {
   "cell_type": "code",
   "execution_count": 84,
   "id": "39d93a1e",
   "metadata": {},
   "outputs": [
    {
     "data": {
      "text/plain": [
       "['hotel',\n",
       " 'arrival_date_month',\n",
       " 'meal',\n",
       " 'country',\n",
       " 'market_segment',\n",
       " 'distribution_channel',\n",
       " 'reserved_room_type',\n",
       " 'assigned_room_type',\n",
       " 'customer_type',\n",
       " 'reservation_status',\n",
       " 'reservation_status_date']"
      ]
     },
     "execution_count": 84,
     "metadata": {},
     "output_type": "execute_result"
    }
   ],
   "source": [
    "cate_features"
   ]
  },
  {
   "cell_type": "code",
   "execution_count": 85,
   "id": "550b7179",
   "metadata": {},
   "outputs": [],
   "source": [
    "data_cat = data[cate_features]"
   ]
  },
  {
   "cell_type": "code",
   "execution_count": null,
   "id": "b1c26a5b",
   "metadata": {},
   "outputs": [],
   "source": []
  },
  {
   "cell_type": "code",
   "execution_count": null,
   "id": "2a5934d5",
   "metadata": {},
   "outputs": [],
   "source": []
  },
  {
   "cell_type": "code",
   "execution_count": 86,
   "id": "719cf5b6",
   "metadata": {},
   "outputs": [
    {
     "data": {
      "text/plain": [
       "hotel\n",
       "City Hotel      0.417859\n",
       "Resort Hotel    0.277674\n",
       "Name: is_canceled, dtype: float64"
      ]
     },
     "execution_count": 86,
     "metadata": {},
     "output_type": "execute_result"
    }
   ],
   "source": [
    "data.groupby(['hotel'])['is_canceled'].mean()"
   ]
  },
  {
   "cell_type": "code",
   "execution_count": 87,
   "id": "500e9bea",
   "metadata": {},
   "outputs": [],
   "source": [
    "import warnings\n",
    "from warnings import filterwarnings\n",
    "filterwarnings('ignore')"
   ]
  },
  {
   "cell_type": "code",
   "execution_count": 88,
   "id": "f519bc62",
   "metadata": {},
   "outputs": [],
   "source": [
    "data_cat['cancellation']=data['is_canceled']"
   ]
  },
  {
   "cell_type": "code",
   "execution_count": 89,
   "id": "4df834e1",
   "metadata": {},
   "outputs": [
    {
     "data": {
      "text/html": [
       "<div>\n",
       "<style scoped>\n",
       "    .dataframe tbody tr th:only-of-type {\n",
       "        vertical-align: middle;\n",
       "    }\n",
       "\n",
       "    .dataframe tbody tr th {\n",
       "        vertical-align: top;\n",
       "    }\n",
       "\n",
       "    .dataframe thead th {\n",
       "        text-align: right;\n",
       "    }\n",
       "</style>\n",
       "<table border=\"1\" class=\"dataframe\">\n",
       "  <thead>\n",
       "    <tr style=\"text-align: right;\">\n",
       "      <th></th>\n",
       "      <th>hotel</th>\n",
       "      <th>arrival_date_month</th>\n",
       "      <th>meal</th>\n",
       "      <th>country</th>\n",
       "      <th>market_segment</th>\n",
       "      <th>distribution_channel</th>\n",
       "      <th>reserved_room_type</th>\n",
       "      <th>assigned_room_type</th>\n",
       "      <th>customer_type</th>\n",
       "      <th>reservation_status</th>\n",
       "      <th>reservation_status_date</th>\n",
       "      <th>cancellation</th>\n",
       "    </tr>\n",
       "  </thead>\n",
       "  <tbody>\n",
       "    <tr>\n",
       "      <th>0</th>\n",
       "      <td>Resort Hotel</td>\n",
       "      <td>January</td>\n",
       "      <td>BB</td>\n",
       "      <td>RUS</td>\n",
       "      <td>Online TA</td>\n",
       "      <td>TA/TO</td>\n",
       "      <td>A</td>\n",
       "      <td>D</td>\n",
       "      <td>Transient-Party</td>\n",
       "      <td>Check-Out</td>\n",
       "      <td>2016-01-02</td>\n",
       "      <td>0</td>\n",
       "    </tr>\n",
       "    <tr>\n",
       "      <th>1</th>\n",
       "      <td>Resort Hotel</td>\n",
       "      <td>January</td>\n",
       "      <td>BB</td>\n",
       "      <td>RUS</td>\n",
       "      <td>Online TA</td>\n",
       "      <td>TA/TO</td>\n",
       "      <td>H</td>\n",
       "      <td>H</td>\n",
       "      <td>Transient-Party</td>\n",
       "      <td>Check-Out</td>\n",
       "      <td>2016-01-02</td>\n",
       "      <td>0</td>\n",
       "    </tr>\n",
       "    <tr>\n",
       "      <th>2</th>\n",
       "      <td>Resort Hotel</td>\n",
       "      <td>January</td>\n",
       "      <td>BB</td>\n",
       "      <td>PRT</td>\n",
       "      <td>Online TA</td>\n",
       "      <td>TA/TO</td>\n",
       "      <td>D</td>\n",
       "      <td>D</td>\n",
       "      <td>Transient</td>\n",
       "      <td>No-Show</td>\n",
       "      <td>2016-01-01</td>\n",
       "      <td>1</td>\n",
       "    </tr>\n",
       "    <tr>\n",
       "      <th>3</th>\n",
       "      <td>Resort Hotel</td>\n",
       "      <td>January</td>\n",
       "      <td>HB</td>\n",
       "      <td>ARG</td>\n",
       "      <td>Online TA</td>\n",
       "      <td>TA/TO</td>\n",
       "      <td>A</td>\n",
       "      <td>D</td>\n",
       "      <td>Transient</td>\n",
       "      <td>Check-Out</td>\n",
       "      <td>2016-01-03</td>\n",
       "      <td>0</td>\n",
       "    </tr>\n",
       "    <tr>\n",
       "      <th>4</th>\n",
       "      <td>Resort Hotel</td>\n",
       "      <td>January</td>\n",
       "      <td>BB</td>\n",
       "      <td>PRT</td>\n",
       "      <td>Online TA</td>\n",
       "      <td>TA/TO</td>\n",
       "      <td>G</td>\n",
       "      <td>G</td>\n",
       "      <td>Transient</td>\n",
       "      <td>Canceled</td>\n",
       "      <td>2015-12-22</td>\n",
       "      <td>1</td>\n",
       "    </tr>\n",
       "  </tbody>\n",
       "</table>\n",
       "</div>"
      ],
      "text/plain": [
       "          hotel arrival_date_month meal country market_segment  \\\n",
       "0  Resort Hotel            January   BB     RUS      Online TA   \n",
       "1  Resort Hotel            January   BB     RUS      Online TA   \n",
       "2  Resort Hotel            January   BB     PRT      Online TA   \n",
       "3  Resort Hotel            January   HB     ARG      Online TA   \n",
       "4  Resort Hotel            January   BB     PRT      Online TA   \n",
       "\n",
       "  distribution_channel reserved_room_type assigned_room_type    customer_type  \\\n",
       "0                TA/TO                  A                  D  Transient-Party   \n",
       "1                TA/TO                  H                  H  Transient-Party   \n",
       "2                TA/TO                  D                  D        Transient   \n",
       "3                TA/TO                  A                  D        Transient   \n",
       "4                TA/TO                  G                  G        Transient   \n",
       "\n",
       "  reservation_status reservation_status_date  cancellation  \n",
       "0          Check-Out              2016-01-02             0  \n",
       "1          Check-Out              2016-01-02             0  \n",
       "2            No-Show              2016-01-01             1  \n",
       "3          Check-Out              2016-01-03             0  \n",
       "4           Canceled              2015-12-22             1  "
      ]
     },
     "execution_count": 89,
     "metadata": {},
     "output_type": "execute_result"
    }
   ],
   "source": [
    "data_cat.head()"
   ]
  },
  {
   "cell_type": "code",
   "execution_count": 90,
   "id": "977de122",
   "metadata": {},
   "outputs": [],
   "source": [
    "cols = data_cat.columns"
   ]
  },
  {
   "cell_type": "code",
   "execution_count": 91,
   "id": "36117559",
   "metadata": {},
   "outputs": [],
   "source": [
    "cols = cols[0:-1]"
   ]
  },
  {
   "cell_type": "code",
   "execution_count": 92,
   "id": "57a47c54",
   "metadata": {},
   "outputs": [
    {
     "data": {
      "text/plain": [
       "Index(['hotel', 'arrival_date_month', 'meal', 'country', 'market_segment',\n",
       "       'distribution_channel', 'reserved_room_type', 'assigned_room_type',\n",
       "       'customer_type', 'reservation_status', 'reservation_status_date'],\n",
       "      dtype='object')"
      ]
     },
     "execution_count": 92,
     "metadata": {},
     "output_type": "execute_result"
    }
   ],
   "source": [
    "cols"
   ]
  },
  {
   "cell_type": "code",
   "execution_count": 93,
   "id": "c7990451",
   "metadata": {},
   "outputs": [],
   "source": [
    "### perform Mean Encoding Technique \n",
    "\n",
    "for col in cols:\n",
    "    dict2 = data_cat.groupby([col])['cancellation'].mean().to_dict()\n",
    "    data_cat[col] = data_cat[col].map(dict2)"
   ]
  },
  {
   "cell_type": "code",
   "execution_count": 94,
   "id": "d4c88913",
   "metadata": {},
   "outputs": [
    {
     "data": {
      "text/html": [
       "<div>\n",
       "<style scoped>\n",
       "    .dataframe tbody tr th:only-of-type {\n",
       "        vertical-align: middle;\n",
       "    }\n",
       "\n",
       "    .dataframe tbody tr th {\n",
       "        vertical-align: top;\n",
       "    }\n",
       "\n",
       "    .dataframe thead th {\n",
       "        text-align: right;\n",
       "    }\n",
       "</style>\n",
       "<table border=\"1\" class=\"dataframe\">\n",
       "  <thead>\n",
       "    <tr style=\"text-align: right;\">\n",
       "      <th></th>\n",
       "      <th>hotel</th>\n",
       "      <th>arrival_date_month</th>\n",
       "      <th>meal</th>\n",
       "      <th>country</th>\n",
       "      <th>market_segment</th>\n",
       "      <th>distribution_channel</th>\n",
       "      <th>reserved_room_type</th>\n",
       "      <th>assigned_room_type</th>\n",
       "      <th>customer_type</th>\n",
       "      <th>reservation_status</th>\n",
       "      <th>reservation_status_date</th>\n",
       "      <th>cancellation</th>\n",
       "    </tr>\n",
       "  </thead>\n",
       "  <tbody>\n",
       "    <tr>\n",
       "      <th>0</th>\n",
       "      <td>0.277674</td>\n",
       "      <td>0.305016</td>\n",
       "      <td>0.374106</td>\n",
       "      <td>0.379365</td>\n",
       "      <td>0.36759</td>\n",
       "      <td>0.410598</td>\n",
       "      <td>0.391567</td>\n",
       "      <td>0.251373</td>\n",
       "      <td>0.254504</td>\n",
       "      <td>0</td>\n",
       "      <td>0.048276</td>\n",
       "      <td>0</td>\n",
       "    </tr>\n",
       "    <tr>\n",
       "      <th>1</th>\n",
       "      <td>0.277674</td>\n",
       "      <td>0.305016</td>\n",
       "      <td>0.374106</td>\n",
       "      <td>0.379365</td>\n",
       "      <td>0.36759</td>\n",
       "      <td>0.410598</td>\n",
       "      <td>0.407654</td>\n",
       "      <td>0.352528</td>\n",
       "      <td>0.254504</td>\n",
       "      <td>0</td>\n",
       "      <td>0.048276</td>\n",
       "      <td>0</td>\n",
       "    </tr>\n",
       "    <tr>\n",
       "      <th>2</th>\n",
       "      <td>0.277674</td>\n",
       "      <td>0.305016</td>\n",
       "      <td>0.374106</td>\n",
       "      <td>0.562958</td>\n",
       "      <td>0.36759</td>\n",
       "      <td>0.410598</td>\n",
       "      <td>0.318108</td>\n",
       "      <td>0.251373</td>\n",
       "      <td>0.407864</td>\n",
       "      <td>1</td>\n",
       "      <td>0.101010</td>\n",
       "      <td>1</td>\n",
       "    </tr>\n",
       "  </tbody>\n",
       "</table>\n",
       "</div>"
      ],
      "text/plain": [
       "      hotel  arrival_date_month      meal   country  market_segment  \\\n",
       "0  0.277674            0.305016  0.374106  0.379365         0.36759   \n",
       "1  0.277674            0.305016  0.374106  0.379365         0.36759   \n",
       "2  0.277674            0.305016  0.374106  0.562958         0.36759   \n",
       "\n",
       "   distribution_channel  reserved_room_type  assigned_room_type  \\\n",
       "0              0.410598            0.391567            0.251373   \n",
       "1              0.410598            0.407654            0.352528   \n",
       "2              0.410598            0.318108            0.251373   \n",
       "\n",
       "   customer_type  reservation_status  reservation_status_date  cancellation  \n",
       "0       0.254504                   0                 0.048276             0  \n",
       "1       0.254504                   0                 0.048276             0  \n",
       "2       0.407864                   1                 0.101010             1  "
      ]
     },
     "execution_count": 94,
     "metadata": {},
     "output_type": "execute_result"
    }
   ],
   "source": [
    "data_cat.head(3)"
   ]
  },
  {
   "cell_type": "markdown",
   "id": "d9a8485f",
   "metadata": {},
   "source": []
  },
  {
   "cell_type": "code",
   "execution_count": null,
   "id": "97facca9",
   "metadata": {},
   "outputs": [],
   "source": []
  },
  {
   "cell_type": "markdown",
   "id": "a07ff294",
   "metadata": {},
   "source": [
    "# 10. Handle Outliers"
   ]
  },
  {
   "cell_type": "code",
   "execution_count": 95,
   "id": "09a9798b",
   "metadata": {},
   "outputs": [
    {
     "data": {
      "text/html": [
       "<div>\n",
       "<style scoped>\n",
       "    .dataframe tbody tr th:only-of-type {\n",
       "        vertical-align: middle;\n",
       "    }\n",
       "\n",
       "    .dataframe tbody tr th {\n",
       "        vertical-align: top;\n",
       "    }\n",
       "\n",
       "    .dataframe thead th {\n",
       "        text-align: right;\n",
       "    }\n",
       "</style>\n",
       "<table border=\"1\" class=\"dataframe\">\n",
       "  <thead>\n",
       "    <tr style=\"text-align: right;\">\n",
       "      <th></th>\n",
       "      <th>is_canceled</th>\n",
       "      <th>lead_time</th>\n",
       "      <th>arrival_date_year</th>\n",
       "      <th>arrival_date_week_number</th>\n",
       "      <th>arrival_date_day_of_month</th>\n",
       "      <th>stays_in_weekend_nights</th>\n",
       "      <th>stays_in_week_nights</th>\n",
       "      <th>is_repeated_guest</th>\n",
       "      <th>previous_cancellations</th>\n",
       "      <th>previous_bookings_not_canceled</th>\n",
       "      <th>booking_changes</th>\n",
       "      <th>days_in_waiting_list</th>\n",
       "      <th>adr</th>\n",
       "      <th>required_car_parking_spaces</th>\n",
       "      <th>total_of_special_requests</th>\n",
       "      <th>is_family</th>\n",
       "      <th>total_customer</th>\n",
       "      <th>total_nights</th>\n",
       "      <th>deposit_given</th>\n",
       "    </tr>\n",
       "  </thead>\n",
       "  <tbody>\n",
       "    <tr>\n",
       "      <th>0</th>\n",
       "      <td>0</td>\n",
       "      <td>109</td>\n",
       "      <td>2016</td>\n",
       "      <td>1</td>\n",
       "      <td>1</td>\n",
       "      <td>0</td>\n",
       "      <td>1</td>\n",
       "      <td>0</td>\n",
       "      <td>0</td>\n",
       "      <td>0</td>\n",
       "      <td>0</td>\n",
       "      <td>0</td>\n",
       "      <td>59.94</td>\n",
       "      <td>0</td>\n",
       "      <td>1</td>\n",
       "      <td>0</td>\n",
       "      <td>2.0</td>\n",
       "      <td>1</td>\n",
       "      <td>0</td>\n",
       "    </tr>\n",
       "    <tr>\n",
       "      <th>1</th>\n",
       "      <td>0</td>\n",
       "      <td>109</td>\n",
       "      <td>2016</td>\n",
       "      <td>1</td>\n",
       "      <td>1</td>\n",
       "      <td>0</td>\n",
       "      <td>1</td>\n",
       "      <td>0</td>\n",
       "      <td>0</td>\n",
       "      <td>0</td>\n",
       "      <td>0</td>\n",
       "      <td>0</td>\n",
       "      <td>116.10</td>\n",
       "      <td>1</td>\n",
       "      <td>1</td>\n",
       "      <td>1</td>\n",
       "      <td>4.0</td>\n",
       "      <td>1</td>\n",
       "      <td>0</td>\n",
       "    </tr>\n",
       "    <tr>\n",
       "      <th>2</th>\n",
       "      <td>1</td>\n",
       "      <td>2</td>\n",
       "      <td>2016</td>\n",
       "      <td>1</td>\n",
       "      <td>1</td>\n",
       "      <td>0</td>\n",
       "      <td>1</td>\n",
       "      <td>0</td>\n",
       "      <td>0</td>\n",
       "      <td>0</td>\n",
       "      <td>0</td>\n",
       "      <td>0</td>\n",
       "      <td>89.00</td>\n",
       "      <td>0</td>\n",
       "      <td>1</td>\n",
       "      <td>0</td>\n",
       "      <td>2.0</td>\n",
       "      <td>1</td>\n",
       "      <td>0</td>\n",
       "    </tr>\n",
       "    <tr>\n",
       "      <th>3</th>\n",
       "      <td>0</td>\n",
       "      <td>88</td>\n",
       "      <td>2016</td>\n",
       "      <td>1</td>\n",
       "      <td>1</td>\n",
       "      <td>0</td>\n",
       "      <td>2</td>\n",
       "      <td>0</td>\n",
       "      <td>0</td>\n",
       "      <td>0</td>\n",
       "      <td>0</td>\n",
       "      <td>0</td>\n",
       "      <td>73.46</td>\n",
       "      <td>0</td>\n",
       "      <td>2</td>\n",
       "      <td>0</td>\n",
       "      <td>2.0</td>\n",
       "      <td>2</td>\n",
       "      <td>0</td>\n",
       "    </tr>\n",
       "    <tr>\n",
       "      <th>4</th>\n",
       "      <td>1</td>\n",
       "      <td>20</td>\n",
       "      <td>2016</td>\n",
       "      <td>1</td>\n",
       "      <td>1</td>\n",
       "      <td>0</td>\n",
       "      <td>2</td>\n",
       "      <td>0</td>\n",
       "      <td>0</td>\n",
       "      <td>0</td>\n",
       "      <td>0</td>\n",
       "      <td>0</td>\n",
       "      <td>119.00</td>\n",
       "      <td>0</td>\n",
       "      <td>0</td>\n",
       "      <td>1</td>\n",
       "      <td>4.0</td>\n",
       "      <td>2</td>\n",
       "      <td>0</td>\n",
       "    </tr>\n",
       "    <tr>\n",
       "      <th>...</th>\n",
       "      <td>...</td>\n",
       "      <td>...</td>\n",
       "      <td>...</td>\n",
       "      <td>...</td>\n",
       "      <td>...</td>\n",
       "      <td>...</td>\n",
       "      <td>...</td>\n",
       "      <td>...</td>\n",
       "      <td>...</td>\n",
       "      <td>...</td>\n",
       "      <td>...</td>\n",
       "      <td>...</td>\n",
       "      <td>...</td>\n",
       "      <td>...</td>\n",
       "      <td>...</td>\n",
       "      <td>...</td>\n",
       "      <td>...</td>\n",
       "      <td>...</td>\n",
       "      <td>...</td>\n",
       "    </tr>\n",
       "    <tr>\n",
       "      <th>119205</th>\n",
       "      <td>0</td>\n",
       "      <td>173</td>\n",
       "      <td>2016</td>\n",
       "      <td>53</td>\n",
       "      <td>26</td>\n",
       "      <td>3</td>\n",
       "      <td>8</td>\n",
       "      <td>0</td>\n",
       "      <td>0</td>\n",
       "      <td>0</td>\n",
       "      <td>4</td>\n",
       "      <td>0</td>\n",
       "      <td>117.82</td>\n",
       "      <td>0</td>\n",
       "      <td>1</td>\n",
       "      <td>1</td>\n",
       "      <td>3.0</td>\n",
       "      <td>11</td>\n",
       "      <td>0</td>\n",
       "    </tr>\n",
       "    <tr>\n",
       "      <th>119206</th>\n",
       "      <td>0</td>\n",
       "      <td>17</td>\n",
       "      <td>2016</td>\n",
       "      <td>53</td>\n",
       "      <td>30</td>\n",
       "      <td>2</td>\n",
       "      <td>5</td>\n",
       "      <td>0</td>\n",
       "      <td>0</td>\n",
       "      <td>0</td>\n",
       "      <td>0</td>\n",
       "      <td>0</td>\n",
       "      <td>90.34</td>\n",
       "      <td>0</td>\n",
       "      <td>1</td>\n",
       "      <td>0</td>\n",
       "      <td>2.0</td>\n",
       "      <td>7</td>\n",
       "      <td>0</td>\n",
       "    </tr>\n",
       "    <tr>\n",
       "      <th>119207</th>\n",
       "      <td>0</td>\n",
       "      <td>107</td>\n",
       "      <td>2016</td>\n",
       "      <td>53</td>\n",
       "      <td>31</td>\n",
       "      <td>2</td>\n",
       "      <td>5</td>\n",
       "      <td>0</td>\n",
       "      <td>0</td>\n",
       "      <td>0</td>\n",
       "      <td>0</td>\n",
       "      <td>0</td>\n",
       "      <td>103.57</td>\n",
       "      <td>0</td>\n",
       "      <td>0</td>\n",
       "      <td>0</td>\n",
       "      <td>2.0</td>\n",
       "      <td>7</td>\n",
       "      <td>0</td>\n",
       "    </tr>\n",
       "    <tr>\n",
       "      <th>119208</th>\n",
       "      <td>0</td>\n",
       "      <td>310</td>\n",
       "      <td>2016</td>\n",
       "      <td>53</td>\n",
       "      <td>27</td>\n",
       "      <td>2</td>\n",
       "      <td>10</td>\n",
       "      <td>0</td>\n",
       "      <td>0</td>\n",
       "      <td>0</td>\n",
       "      <td>2</td>\n",
       "      <td>0</td>\n",
       "      <td>68.57</td>\n",
       "      <td>0</td>\n",
       "      <td>2</td>\n",
       "      <td>0</td>\n",
       "      <td>2.0</td>\n",
       "      <td>12</td>\n",
       "      <td>0</td>\n",
       "    </tr>\n",
       "    <tr>\n",
       "      <th>119209</th>\n",
       "      <td>0</td>\n",
       "      <td>310</td>\n",
       "      <td>2016</td>\n",
       "      <td>53</td>\n",
       "      <td>27</td>\n",
       "      <td>2</td>\n",
       "      <td>10</td>\n",
       "      <td>0</td>\n",
       "      <td>0</td>\n",
       "      <td>0</td>\n",
       "      <td>2</td>\n",
       "      <td>0</td>\n",
       "      <td>68.57</td>\n",
       "      <td>0</td>\n",
       "      <td>2</td>\n",
       "      <td>0</td>\n",
       "      <td>2.0</td>\n",
       "      <td>12</td>\n",
       "      <td>0</td>\n",
       "    </tr>\n",
       "  </tbody>\n",
       "</table>\n",
       "<p>119210 rows × 19 columns</p>\n",
       "</div>"
      ],
      "text/plain": [
       "        is_canceled  lead_time  arrival_date_year  arrival_date_week_number  \\\n",
       "0                 0        109               2016                         1   \n",
       "1                 0        109               2016                         1   \n",
       "2                 1          2               2016                         1   \n",
       "3                 0         88               2016                         1   \n",
       "4                 1         20               2016                         1   \n",
       "...             ...        ...                ...                       ...   \n",
       "119205            0        173               2016                        53   \n",
       "119206            0         17               2016                        53   \n",
       "119207            0        107               2016                        53   \n",
       "119208            0        310               2016                        53   \n",
       "119209            0        310               2016                        53   \n",
       "\n",
       "        arrival_date_day_of_month  stays_in_weekend_nights  \\\n",
       "0                               1                        0   \n",
       "1                               1                        0   \n",
       "2                               1                        0   \n",
       "3                               1                        0   \n",
       "4                               1                        0   \n",
       "...                           ...                      ...   \n",
       "119205                         26                        3   \n",
       "119206                         30                        2   \n",
       "119207                         31                        2   \n",
       "119208                         27                        2   \n",
       "119209                         27                        2   \n",
       "\n",
       "        stays_in_week_nights  is_repeated_guest  previous_cancellations  \\\n",
       "0                          1                  0                       0   \n",
       "1                          1                  0                       0   \n",
       "2                          1                  0                       0   \n",
       "3                          2                  0                       0   \n",
       "4                          2                  0                       0   \n",
       "...                      ...                ...                     ...   \n",
       "119205                     8                  0                       0   \n",
       "119206                     5                  0                       0   \n",
       "119207                     5                  0                       0   \n",
       "119208                    10                  0                       0   \n",
       "119209                    10                  0                       0   \n",
       "\n",
       "        previous_bookings_not_canceled  booking_changes  days_in_waiting_list  \\\n",
       "0                                    0                0                     0   \n",
       "1                                    0                0                     0   \n",
       "2                                    0                0                     0   \n",
       "3                                    0                0                     0   \n",
       "4                                    0                0                     0   \n",
       "...                                ...              ...                   ...   \n",
       "119205                               0                4                     0   \n",
       "119206                               0                0                     0   \n",
       "119207                               0                0                     0   \n",
       "119208                               0                2                     0   \n",
       "119209                               0                2                     0   \n",
       "\n",
       "           adr  required_car_parking_spaces  total_of_special_requests  \\\n",
       "0        59.94                            0                          1   \n",
       "1       116.10                            1                          1   \n",
       "2        89.00                            0                          1   \n",
       "3        73.46                            0                          2   \n",
       "4       119.00                            0                          0   \n",
       "...        ...                          ...                        ...   \n",
       "119205  117.82                            0                          1   \n",
       "119206   90.34                            0                          1   \n",
       "119207  103.57                            0                          0   \n",
       "119208   68.57                            0                          2   \n",
       "119209   68.57                            0                          2   \n",
       "\n",
       "        is_family  total_customer  total_nights  deposit_given  \n",
       "0               0             2.0             1              0  \n",
       "1               1             4.0             1              0  \n",
       "2               0             2.0             1              0  \n",
       "3               0             2.0             2              0  \n",
       "4               1             4.0             2              0  \n",
       "...           ...             ...           ...            ...  \n",
       "119205          1             3.0            11              0  \n",
       "119206          0             2.0             7              0  \n",
       "119207          0             2.0             7              0  \n",
       "119208          0             2.0            12              0  \n",
       "119209          0             2.0            12              0  \n",
       "\n",
       "[119210 rows x 19 columns]"
      ]
     },
     "execution_count": 95,
     "metadata": {},
     "output_type": "execute_result"
    }
   ],
   "source": [
    "data[num_features]"
   ]
  },
  {
   "cell_type": "code",
   "execution_count": 96,
   "id": "e76eddbc",
   "metadata": {},
   "outputs": [],
   "source": [
    "dataframe = pd.concat([data_cat,data[num_features]],axis=1)"
   ]
  },
  {
   "cell_type": "code",
   "execution_count": 97,
   "id": "2fef0dd7",
   "metadata": {},
   "outputs": [
    {
     "data": {
      "text/plain": [
       "Index(['hotel', 'arrival_date_month', 'meal', 'country', 'market_segment',\n",
       "       'distribution_channel', 'reserved_room_type', 'assigned_room_type',\n",
       "       'customer_type', 'reservation_status', 'reservation_status_date',\n",
       "       'cancellation', 'is_canceled', 'lead_time', 'arrival_date_year',\n",
       "       'arrival_date_week_number', 'arrival_date_day_of_month',\n",
       "       'stays_in_weekend_nights', 'stays_in_week_nights', 'is_repeated_guest',\n",
       "       'previous_cancellations', 'previous_bookings_not_canceled',\n",
       "       'booking_changes', 'days_in_waiting_list', 'adr',\n",
       "       'required_car_parking_spaces', 'total_of_special_requests', 'is_family',\n",
       "       'total_customer', 'total_nights', 'deposit_given'],\n",
       "      dtype='object')"
      ]
     },
     "execution_count": 97,
     "metadata": {},
     "output_type": "execute_result"
    }
   ],
   "source": [
    "dataframe.columns"
   ]
  },
  {
   "cell_type": "code",
   "execution_count": 98,
   "id": "d8a82071",
   "metadata": {},
   "outputs": [
    {
     "data": {
      "text/plain": [
       "Index(['hotel', 'arrival_date_month', 'meal', 'country', 'market_segment',\n",
       "       'distribution_channel', 'reserved_room_type', 'assigned_room_type',\n",
       "       'customer_type', 'reservation_status', 'reservation_status_date',\n",
       "       'cancellation', 'is_canceled', 'lead_time', 'arrival_date_year',\n",
       "       'arrival_date_week_number', 'arrival_date_day_of_month',\n",
       "       'stays_in_weekend_nights', 'stays_in_week_nights', 'is_repeated_guest',\n",
       "       'previous_cancellations', 'previous_bookings_not_canceled',\n",
       "       'booking_changes', 'days_in_waiting_list', 'adr',\n",
       "       'required_car_parking_spaces', 'total_of_special_requests', 'is_family',\n",
       "       'total_customer', 'total_nights', 'deposit_given'],\n",
       "      dtype='object')"
      ]
     },
     "execution_count": 98,
     "metadata": {},
     "output_type": "execute_result"
    }
   ],
   "source": [
    "dataframe.columns"
   ]
  },
  {
   "cell_type": "code",
   "execution_count": 99,
   "id": "1ddbde63",
   "metadata": {},
   "outputs": [],
   "source": [
    "dataframe.drop(['cancellation'],axis=1,inplace = True)"
   ]
  },
  {
   "cell_type": "code",
   "execution_count": 100,
   "id": "21891e40",
   "metadata": {},
   "outputs": [
    {
     "data": {
      "text/html": [
       "<div>\n",
       "<style scoped>\n",
       "    .dataframe tbody tr th:only-of-type {\n",
       "        vertical-align: middle;\n",
       "    }\n",
       "\n",
       "    .dataframe tbody tr th {\n",
       "        vertical-align: top;\n",
       "    }\n",
       "\n",
       "    .dataframe thead th {\n",
       "        text-align: right;\n",
       "    }\n",
       "</style>\n",
       "<table border=\"1\" class=\"dataframe\">\n",
       "  <thead>\n",
       "    <tr style=\"text-align: right;\">\n",
       "      <th></th>\n",
       "      <th>hotel</th>\n",
       "      <th>arrival_date_month</th>\n",
       "      <th>meal</th>\n",
       "      <th>country</th>\n",
       "      <th>market_segment</th>\n",
       "      <th>distribution_channel</th>\n",
       "      <th>reserved_room_type</th>\n",
       "      <th>assigned_room_type</th>\n",
       "      <th>customer_type</th>\n",
       "      <th>reservation_status</th>\n",
       "      <th>...</th>\n",
       "      <th>previous_bookings_not_canceled</th>\n",
       "      <th>booking_changes</th>\n",
       "      <th>days_in_waiting_list</th>\n",
       "      <th>adr</th>\n",
       "      <th>required_car_parking_spaces</th>\n",
       "      <th>total_of_special_requests</th>\n",
       "      <th>is_family</th>\n",
       "      <th>total_customer</th>\n",
       "      <th>total_nights</th>\n",
       "      <th>deposit_given</th>\n",
       "    </tr>\n",
       "  </thead>\n",
       "  <tbody>\n",
       "    <tr>\n",
       "      <th>0</th>\n",
       "      <td>0.277674</td>\n",
       "      <td>0.305016</td>\n",
       "      <td>0.374106</td>\n",
       "      <td>0.379365</td>\n",
       "      <td>0.36759</td>\n",
       "      <td>0.410598</td>\n",
       "      <td>0.391567</td>\n",
       "      <td>0.251373</td>\n",
       "      <td>0.254504</td>\n",
       "      <td>0</td>\n",
       "      <td>...</td>\n",
       "      <td>0</td>\n",
       "      <td>0</td>\n",
       "      <td>0</td>\n",
       "      <td>59.94</td>\n",
       "      <td>0</td>\n",
       "      <td>1</td>\n",
       "      <td>0</td>\n",
       "      <td>2.0</td>\n",
       "      <td>1</td>\n",
       "      <td>0</td>\n",
       "    </tr>\n",
       "    <tr>\n",
       "      <th>1</th>\n",
       "      <td>0.277674</td>\n",
       "      <td>0.305016</td>\n",
       "      <td>0.374106</td>\n",
       "      <td>0.379365</td>\n",
       "      <td>0.36759</td>\n",
       "      <td>0.410598</td>\n",
       "      <td>0.407654</td>\n",
       "      <td>0.352528</td>\n",
       "      <td>0.254504</td>\n",
       "      <td>0</td>\n",
       "      <td>...</td>\n",
       "      <td>0</td>\n",
       "      <td>0</td>\n",
       "      <td>0</td>\n",
       "      <td>116.10</td>\n",
       "      <td>1</td>\n",
       "      <td>1</td>\n",
       "      <td>1</td>\n",
       "      <td>4.0</td>\n",
       "      <td>1</td>\n",
       "      <td>0</td>\n",
       "    </tr>\n",
       "    <tr>\n",
       "      <th>2</th>\n",
       "      <td>0.277674</td>\n",
       "      <td>0.305016</td>\n",
       "      <td>0.374106</td>\n",
       "      <td>0.562958</td>\n",
       "      <td>0.36759</td>\n",
       "      <td>0.410598</td>\n",
       "      <td>0.318108</td>\n",
       "      <td>0.251373</td>\n",
       "      <td>0.407864</td>\n",
       "      <td>1</td>\n",
       "      <td>...</td>\n",
       "      <td>0</td>\n",
       "      <td>0</td>\n",
       "      <td>0</td>\n",
       "      <td>89.00</td>\n",
       "      <td>0</td>\n",
       "      <td>1</td>\n",
       "      <td>0</td>\n",
       "      <td>2.0</td>\n",
       "      <td>1</td>\n",
       "      <td>0</td>\n",
       "    </tr>\n",
       "  </tbody>\n",
       "</table>\n",
       "<p>3 rows × 30 columns</p>\n",
       "</div>"
      ],
      "text/plain": [
       "      hotel  arrival_date_month      meal   country  market_segment  \\\n",
       "0  0.277674            0.305016  0.374106  0.379365         0.36759   \n",
       "1  0.277674            0.305016  0.374106  0.379365         0.36759   \n",
       "2  0.277674            0.305016  0.374106  0.562958         0.36759   \n",
       "\n",
       "   distribution_channel  reserved_room_type  assigned_room_type  \\\n",
       "0              0.410598            0.391567            0.251373   \n",
       "1              0.410598            0.407654            0.352528   \n",
       "2              0.410598            0.318108            0.251373   \n",
       "\n",
       "   customer_type  reservation_status  ...  previous_bookings_not_canceled  \\\n",
       "0       0.254504                   0  ...                               0   \n",
       "1       0.254504                   0  ...                               0   \n",
       "2       0.407864                   1  ...                               0   \n",
       "\n",
       "   booking_changes  days_in_waiting_list     adr  required_car_parking_spaces  \\\n",
       "0                0                     0   59.94                            0   \n",
       "1                0                     0  116.10                            1   \n",
       "2                0                     0   89.00                            0   \n",
       "\n",
       "   total_of_special_requests  is_family  total_customer  total_nights  \\\n",
       "0                          1          0             2.0             1   \n",
       "1                          1          1             4.0             1   \n",
       "2                          1          0             2.0             1   \n",
       "\n",
       "   deposit_given  \n",
       "0              0  \n",
       "1              0  \n",
       "2              0  \n",
       "\n",
       "[3 rows x 30 columns]"
      ]
     },
     "execution_count": 100,
     "metadata": {},
     "output_type": "execute_result"
    }
   ],
   "source": [
    "dataframe.head(3)"
   ]
  },
  {
   "cell_type": "code",
   "execution_count": null,
   "id": "85dd8ff2",
   "metadata": {},
   "outputs": [],
   "source": []
  },
  {
   "cell_type": "code",
   "execution_count": 101,
   "id": "aaa7e215",
   "metadata": {},
   "outputs": [
    {
     "data": {
      "text/plain": [
       "<AxesSubplot:xlabel='lead_time', ylabel='Density'>"
      ]
     },
     "execution_count": 101,
     "metadata": {},
     "output_type": "execute_result"
    },
    {
     "data": {
      "image/png": "[encoded data removed]",
      "text/plain": [
       "<Figure size 432x288 with 1 Axes>"
      ]
     },
     "metadata": {
      "needs_background": "light"
     },
     "output_type": "display_data"
    }
   ],
   "source": [
    "sns.distplot(dataframe['lead_time'])"
   ]
  },
  {
   "cell_type": "code",
   "execution_count": null,
   "id": "b34a52c1",
   "metadata": {},
   "outputs": [],
   "source": []
  },
  {
   "cell_type": "code",
   "execution_count": 102,
   "id": "9b9b240e",
   "metadata": {},
   "outputs": [],
   "source": [
    "def handle_outlier(col):\n",
    "    dataframe[col]=np.log1p(dataframe[col])"
   ]
  },
  {
   "cell_type": "code",
   "execution_count": 103,
   "id": "aa8f7bd9",
   "metadata": {},
   "outputs": [],
   "source": [
    "handle_outlier('lead_time')"
   ]
  },
  {
   "cell_type": "code",
   "execution_count": 104,
   "id": "266c25d9",
   "metadata": {},
   "outputs": [
    {
     "data": {
      "text/plain": [
       "<seaborn.axisgrid.FacetGrid at 0x2b18afc20a0>"
      ]
     },
     "execution_count": 104,
     "metadata": {},
     "output_type": "execute_result"
    },
    {
     "data": {
      "image/png": "[encoded data removed]",
      "text/plain": [
       "<Figure size 360x360 with 1 Axes>"
      ]
     },
     "metadata": {
      "needs_background": "light"
     },
     "output_type": "display_data"
    }
   ],
   "source": [
    "sns.displot(dataframe['lead_time'])"
   ]
  },
  {
   "cell_type": "code",
   "execution_count": 105,
   "id": "69c195a5",
   "metadata": {},
   "outputs": [],
   "source": [
    "#  adr "
   ]
  },
  {
   "cell_type": "code",
   "execution_count": 106,
   "id": "4c8f7d33",
   "metadata": {},
   "outputs": [
    {
     "data": {
      "text/plain": [
       "<seaborn.axisgrid.FacetGrid at 0x2b187f45430>"
      ]
     },
     "execution_count": 106,
     "metadata": {},
     "output_type": "execute_result"
    },
    {
     "data": {
      "image/png": "[encoded data removed]",
      "text/plain": [
       "<Figure size 360x360 with 1 Axes>"
      ]
     },
     "metadata": {
      "needs_background": "light"
     },
     "output_type": "display_data"
    }
   ],
   "source": [
    "sns.displot(dataframe['adr'])"
   ]
  },
  {
   "cell_type": "code",
   "execution_count": 107,
   "id": "aa0c8f48",
   "metadata": {},
   "outputs": [
    {
     "data": {
      "text/html": [
       "<div>\n",
       "<style scoped>\n",
       "    .dataframe tbody tr th:only-of-type {\n",
       "        vertical-align: middle;\n",
       "    }\n",
       "\n",
       "    .dataframe tbody tr th {\n",
       "        vertical-align: top;\n",
       "    }\n",
       "\n",
       "    .dataframe thead th {\n",
       "        text-align: right;\n",
       "    }\n",
       "</style>\n",
       "<table border=\"1\" class=\"dataframe\">\n",
       "  <thead>\n",
       "    <tr style=\"text-align: right;\">\n",
       "      <th></th>\n",
       "      <th>hotel</th>\n",
       "      <th>arrival_date_month</th>\n",
       "      <th>meal</th>\n",
       "      <th>country</th>\n",
       "      <th>market_segment</th>\n",
       "      <th>distribution_channel</th>\n",
       "      <th>reserved_room_type</th>\n",
       "      <th>assigned_room_type</th>\n",
       "      <th>customer_type</th>\n",
       "      <th>reservation_status</th>\n",
       "      <th>...</th>\n",
       "      <th>previous_bookings_not_canceled</th>\n",
       "      <th>booking_changes</th>\n",
       "      <th>days_in_waiting_list</th>\n",
       "      <th>adr</th>\n",
       "      <th>required_car_parking_spaces</th>\n",
       "      <th>total_of_special_requests</th>\n",
       "      <th>is_family</th>\n",
       "      <th>total_customer</th>\n",
       "      <th>total_nights</th>\n",
       "      <th>deposit_given</th>\n",
       "    </tr>\n",
       "  </thead>\n",
       "  <tbody>\n",
       "    <tr>\n",
       "      <th>14989</th>\n",
       "      <td>0.277674</td>\n",
       "      <td>0.322277</td>\n",
       "      <td>0.374106</td>\n",
       "      <td>0.20231</td>\n",
       "      <td>0.611086</td>\n",
       "      <td>0.174868</td>\n",
       "      <td>0.391567</td>\n",
       "      <td>0.352528</td>\n",
       "      <td>0.254504</td>\n",
       "      <td>0</td>\n",
       "      <td>...</td>\n",
       "      <td>2</td>\n",
       "      <td>2</td>\n",
       "      <td>0</td>\n",
       "      <td>-6.38</td>\n",
       "      <td>0</td>\n",
       "      <td>0</td>\n",
       "      <td>0</td>\n",
       "      <td>2.0</td>\n",
       "      <td>10</td>\n",
       "      <td>0</td>\n",
       "    </tr>\n",
       "  </tbody>\n",
       "</table>\n",
       "<p>1 rows × 30 columns</p>\n",
       "</div>"
      ],
      "text/plain": [
       "          hotel  arrival_date_month      meal  country  market_segment  \\\n",
       "14989  0.277674            0.322277  0.374106  0.20231        0.611086   \n",
       "\n",
       "       distribution_channel  reserved_room_type  assigned_room_type  \\\n",
       "14989              0.174868            0.391567            0.352528   \n",
       "\n",
       "       customer_type  reservation_status  ...  previous_bookings_not_canceled  \\\n",
       "14989       0.254504                   0  ...                               2   \n",
       "\n",
       "       booking_changes  days_in_waiting_list   adr  \\\n",
       "14989                2                     0 -6.38   \n",
       "\n",
       "       required_car_parking_spaces  total_of_special_requests  is_family  \\\n",
       "14989                            0                          0          0   \n",
       "\n",
       "       total_customer  total_nights  deposit_given  \n",
       "14989             2.0            10              0  \n",
       "\n",
       "[1 rows x 30 columns]"
      ]
     },
     "execution_count": 107,
     "metadata": {},
     "output_type": "execute_result"
    }
   ],
   "source": [
    "dataframe[dataframe['adr']<0]"
   ]
  },
  {
   "cell_type": "code",
   "execution_count": 108,
   "id": "a72c729d",
   "metadata": {},
   "outputs": [],
   "source": [
    "handle_outlier('adr')"
   ]
  },
  {
   "cell_type": "code",
   "execution_count": 109,
   "id": "90c10a97",
   "metadata": {},
   "outputs": [
    {
     "data": {
      "text/plain": [
       "1"
      ]
     },
     "execution_count": 109,
     "metadata": {},
     "output_type": "execute_result"
    }
   ],
   "source": [
    "dataframe['adr'].isnull().sum()"
   ]
  },
  {
   "cell_type": "code",
   "execution_count": 110,
   "id": "4483d2cb",
   "metadata": {},
   "outputs": [],
   "source": [
    "### now why this missing value, as we have already deal with the missing values...\n",
    "###bcz we have negative value in 'adr' features as '-6.38' , & if we apply ln(1+x), we will get 'nan'\n",
    "### bcz log wont take negative values..."
   ]
  },
  {
   "cell_type": "code",
   "execution_count": 111,
   "id": "545cfec1",
   "metadata": {},
   "outputs": [
    {
     "data": {
      "text/plain": [
       "<seaborn.axisgrid.FacetGrid at 0x2b18a2418e0>"
      ]
     },
     "execution_count": 111,
     "metadata": {},
     "output_type": "execute_result"
    },
    {
     "data": {
      "image/png": "[encoded data removed]",
      "text/plain": [
       "<Figure size 360x360 with 1 Axes>"
      ]
     },
     "metadata": {
      "needs_background": "light"
     },
     "output_type": "display_data"
    }
   ],
   "source": [
    "sns.displot(dataframe['adr'].dropna())"
   ]
  },
  {
   "cell_type": "markdown",
   "id": "233446be",
   "metadata": {},
   "source": [
    "# Select important Features using Co-relation & univariate analysis.."
   ]
  },
  {
   "cell_type": "code",
   "execution_count": 112,
   "id": "60d1008d",
   "metadata": {},
   "outputs": [
    {
     "data": {
      "text/plain": [
       "<seaborn.axisgrid.FacetGrid at 0x2b18abded60>"
      ]
     },
     "execution_count": 112,
     "metadata": {},
     "output_type": "execute_result"
    },
    {
     "data": {
      "image/png": "[encoded data removed]",
      "text/plain": [
       "<Figure size 282.125x216 with 1 Axes>"
      ]
     },
     "metadata": {
      "needs_background": "light"
     },
     "output_type": "display_data"
    }
   ],
   "source": [
    "sns.FacetGrid(data,hue='is_canceled',xlim =(0,500)).map(sns.kdeplot,'lead_time',shade = True).add_legend()"
   ]
  },
  {
   "cell_type": "code",
   "execution_count": 113,
   "id": "409aee58",
   "metadata": {},
   "outputs": [],
   "source": [
    "corr = dataframe.corr()"
   ]
  },
  {
   "cell_type": "code",
   "execution_count": 114,
   "id": "1e0bb641",
   "metadata": {},
   "outputs": [
    {
     "data": {
      "text/html": [
       "<div>\n",
       "<style scoped>\n",
       "    .dataframe tbody tr th:only-of-type {\n",
       "        vertical-align: middle;\n",
       "    }\n",
       "\n",
       "    .dataframe tbody tr th {\n",
       "        vertical-align: top;\n",
       "    }\n",
       "\n",
       "    .dataframe thead th {\n",
       "        text-align: right;\n",
       "    }\n",
       "</style>\n",
       "<table border=\"1\" class=\"dataframe\">\n",
       "  <thead>\n",
       "    <tr style=\"text-align: right;\">\n",
       "      <th></th>\n",
       "      <th>hotel</th>\n",
       "      <th>arrival_date_month</th>\n",
       "      <th>meal</th>\n",
       "      <th>country</th>\n",
       "      <th>market_segment</th>\n",
       "      <th>distribution_channel</th>\n",
       "      <th>reserved_room_type</th>\n",
       "      <th>assigned_room_type</th>\n",
       "      <th>customer_type</th>\n",
       "      <th>reservation_status</th>\n",
       "      <th>...</th>\n",
       "      <th>previous_bookings_not_canceled</th>\n",
       "      <th>booking_changes</th>\n",
       "      <th>days_in_waiting_list</th>\n",
       "      <th>adr</th>\n",
       "      <th>required_car_parking_spaces</th>\n",
       "      <th>total_of_special_requests</th>\n",
       "      <th>is_family</th>\n",
       "      <th>total_customer</th>\n",
       "      <th>total_nights</th>\n",
       "      <th>deposit_given</th>\n",
       "    </tr>\n",
       "  </thead>\n",
       "  <tbody>\n",
       "    <tr>\n",
       "      <th>hotel</th>\n",
       "      <td>1.000000</td>\n",
       "      <td>0.051197</td>\n",
       "      <td>0.061782</td>\n",
       "      <td>-0.040609</td>\n",
       "      <td>0.102592</td>\n",
       "      <td>0.182266</td>\n",
       "      <td>0.198171</td>\n",
       "      <td>0.280884</td>\n",
       "      <td>-0.008378</td>\n",
       "      <td>0.137082</td>\n",
       "      <td>...</td>\n",
       "      <td>-0.004467</td>\n",
       "      <td>-0.076598</td>\n",
       "      <td>0.072725</td>\n",
       "      <td>0.154041</td>\n",
       "      <td>-0.218961</td>\n",
       "      <td>-0.043478</td>\n",
       "      <td>-0.058094</td>\n",
       "      <td>-0.038772</td>\n",
       "      <td>-0.249747</td>\n",
       "      <td>0.172415</td>\n",
       "    </tr>\n",
       "    <tr>\n",
       "      <th>arrival_date_month</th>\n",
       "      <td>0.051197</td>\n",
       "      <td>1.000000</td>\n",
       "      <td>-0.010208</td>\n",
       "      <td>-0.052405</td>\n",
       "      <td>0.047902</td>\n",
       "      <td>0.077075</td>\n",
       "      <td>-0.038801</td>\n",
       "      <td>0.015456</td>\n",
       "      <td>-0.029636</td>\n",
       "      <td>0.069886</td>\n",
       "      <td>...</td>\n",
       "      <td>-0.021971</td>\n",
       "      <td>-0.011049</td>\n",
       "      <td>0.029164</td>\n",
       "      <td>0.228179</td>\n",
       "      <td>-0.021910</td>\n",
       "      <td>0.002763</td>\n",
       "      <td>0.020491</td>\n",
       "      <td>0.079088</td>\n",
       "      <td>0.045648</td>\n",
       "      <td>0.057361</td>\n",
       "    </tr>\n",
       "    <tr>\n",
       "      <th>meal</th>\n",
       "      <td>0.061782</td>\n",
       "      <td>-0.010208</td>\n",
       "      <td>1.000000</td>\n",
       "      <td>0.022476</td>\n",
       "      <td>-0.026007</td>\n",
       "      <td>-0.025486</td>\n",
       "      <td>0.010035</td>\n",
       "      <td>0.013913</td>\n",
       "      <td>0.105767</td>\n",
       "      <td>0.050584</td>\n",
       "      <td>...</td>\n",
       "      <td>0.011109</td>\n",
       "      <td>-0.027189</td>\n",
       "      <td>-0.031562</td>\n",
       "      <td>-0.019908</td>\n",
       "      <td>0.003455</td>\n",
       "      <td>0.006875</td>\n",
       "      <td>0.001466</td>\n",
       "      <td>-0.003449</td>\n",
       "      <td>-0.055689</td>\n",
       "      <td>0.047597</td>\n",
       "    </tr>\n",
       "    <tr>\n",
       "      <th>country</th>\n",
       "      <td>-0.040609</td>\n",
       "      <td>-0.052405</td>\n",
       "      <td>0.022476</td>\n",
       "      <td>1.000000</td>\n",
       "      <td>0.078982</td>\n",
       "      <td>-0.129774</td>\n",
       "      <td>0.153177</td>\n",
       "      <td>0.125415</td>\n",
       "      <td>-0.029320</td>\n",
       "      <td>0.357232</td>\n",
       "      <td>...</td>\n",
       "      <td>0.091795</td>\n",
       "      <td>-0.061513</td>\n",
       "      <td>0.067054</td>\n",
       "      <td>-0.160520</td>\n",
       "      <td>0.007613</td>\n",
       "      <td>-0.200822</td>\n",
       "      <td>-0.044139</td>\n",
       "      <td>-0.117369</td>\n",
       "      <td>-0.160759</td>\n",
       "      <td>0.395685</td>\n",
       "    </tr>\n",
       "    <tr>\n",
       "      <th>market_segment</th>\n",
       "      <td>0.102592</td>\n",
       "      <td>0.047902</td>\n",
       "      <td>-0.026007</td>\n",
       "      <td>0.078982</td>\n",
       "      <td>1.000000</td>\n",
       "      <td>0.540116</td>\n",
       "      <td>0.182813</td>\n",
       "      <td>0.209272</td>\n",
       "      <td>-0.265606</td>\n",
       "      <td>0.267006</td>\n",
       "      <td>...</td>\n",
       "      <td>-0.117519</td>\n",
       "      <td>-0.057578</td>\n",
       "      <td>0.096385</td>\n",
       "      <td>-0.004009</td>\n",
       "      <td>-0.145726</td>\n",
       "      <td>-0.155463</td>\n",
       "      <td>-0.104584</td>\n",
       "      <td>-0.023939</td>\n",
       "      <td>-0.004546</td>\n",
       "      <td>0.397229</td>\n",
       "    </tr>\n",
       "    <tr>\n",
       "      <th>distribution_channel</th>\n",
       "      <td>0.182266</td>\n",
       "      <td>0.077075</td>\n",
       "      <td>-0.025486</td>\n",
       "      <td>-0.129774</td>\n",
       "      <td>0.540116</td>\n",
       "      <td>1.000000</td>\n",
       "      <td>0.070381</td>\n",
       "      <td>0.118970</td>\n",
       "      <td>-0.023234</td>\n",
       "      <td>0.177167</td>\n",
       "      <td>...</td>\n",
       "      <td>-0.142650</td>\n",
       "      <td>-0.118461</td>\n",
       "      <td>0.048001</td>\n",
       "      <td>0.126516</td>\n",
       "      <td>-0.146562</td>\n",
       "      <td>0.075047</td>\n",
       "      <td>-0.026278</td>\n",
       "      <td>0.087748</td>\n",
       "      <td>0.084999</td>\n",
       "      <td>0.115160</td>\n",
       "    </tr>\n",
       "    <tr>\n",
       "      <th>reserved_room_type</th>\n",
       "      <td>0.198171</td>\n",
       "      <td>-0.038801</td>\n",
       "      <td>0.010035</td>\n",
       "      <td>0.153177</td>\n",
       "      <td>0.182813</td>\n",
       "      <td>0.070381</td>\n",
       "      <td>1.000000</td>\n",
       "      <td>0.722724</td>\n",
       "      <td>-0.143390</td>\n",
       "      <td>0.072769</td>\n",
       "      <td>...</td>\n",
       "      <td>0.022533</td>\n",
       "      <td>-0.040134</td>\n",
       "      <td>0.068336</td>\n",
       "      <td>-0.185932</td>\n",
       "      <td>-0.093401</td>\n",
       "      <td>-0.161406</td>\n",
       "      <td>-0.133748</td>\n",
       "      <td>-0.246339</td>\n",
       "      <td>-0.188866</td>\n",
       "      <td>0.201923</td>\n",
       "    </tr>\n",
       "    <tr>\n",
       "      <th>assigned_room_type</th>\n",
       "      <td>0.280884</td>\n",
       "      <td>0.015456</td>\n",
       "      <td>0.013913</td>\n",
       "      <td>0.125415</td>\n",
       "      <td>0.209272</td>\n",
       "      <td>0.118970</td>\n",
       "      <td>0.722724</td>\n",
       "      <td>1.000000</td>\n",
       "      <td>-0.084025</td>\n",
       "      <td>0.201570</td>\n",
       "      <td>...</td>\n",
       "      <td>-0.003205</td>\n",
       "      <td>-0.096277</td>\n",
       "      <td>0.067129</td>\n",
       "      <td>-0.038347</td>\n",
       "      <td>-0.131035</td>\n",
       "      <td>-0.135337</td>\n",
       "      <td>-0.179356</td>\n",
       "      <td>-0.229073</td>\n",
       "      <td>-0.103571</td>\n",
       "      <td>0.263383</td>\n",
       "    </tr>\n",
       "    <tr>\n",
       "      <th>customer_type</th>\n",
       "      <td>-0.008378</td>\n",
       "      <td>-0.029636</td>\n",
       "      <td>0.105767</td>\n",
       "      <td>-0.029320</td>\n",
       "      <td>-0.265606</td>\n",
       "      <td>-0.023234</td>\n",
       "      <td>-0.143390</td>\n",
       "      <td>-0.084025</td>\n",
       "      <td>1.000000</td>\n",
       "      <td>0.136617</td>\n",
       "      <td>...</td>\n",
       "      <td>0.024716</td>\n",
       "      <td>-0.095486</td>\n",
       "      <td>-0.101833</td>\n",
       "      <td>0.117592</td>\n",
       "      <td>0.061786</td>\n",
       "      <td>0.137114</td>\n",
       "      <td>0.106618</td>\n",
       "      <td>0.124348</td>\n",
       "      <td>0.037720</td>\n",
       "      <td>0.121789</td>\n",
       "    </tr>\n",
       "    <tr>\n",
       "      <th>reservation_status</th>\n",
       "      <td>0.137082</td>\n",
       "      <td>0.069886</td>\n",
       "      <td>0.050584</td>\n",
       "      <td>0.357232</td>\n",
       "      <td>0.267006</td>\n",
       "      <td>0.177167</td>\n",
       "      <td>0.072769</td>\n",
       "      <td>0.201570</td>\n",
       "      <td>0.136617</td>\n",
       "      <td>1.000000</td>\n",
       "      <td>...</td>\n",
       "      <td>-0.057365</td>\n",
       "      <td>-0.144832</td>\n",
       "      <td>0.054301</td>\n",
       "      <td>0.081660</td>\n",
       "      <td>-0.195701</td>\n",
       "      <td>-0.234877</td>\n",
       "      <td>-0.013226</td>\n",
       "      <td>0.044811</td>\n",
       "      <td>0.018554</td>\n",
       "      <td>0.481507</td>\n",
       "    </tr>\n",
       "    <tr>\n",
       "      <th>reservation_status_date</th>\n",
       "      <td>0.107481</td>\n",
       "      <td>-0.089512</td>\n",
       "      <td>0.038298</td>\n",
       "      <td>0.340400</td>\n",
       "      <td>0.276512</td>\n",
       "      <td>0.081435</td>\n",
       "      <td>0.148830</td>\n",
       "      <td>0.191989</td>\n",
       "      <td>0.055937</td>\n",
       "      <td>0.488307</td>\n",
       "      <td>...</td>\n",
       "      <td>-0.007066</td>\n",
       "      <td>-0.111565</td>\n",
       "      <td>0.042947</td>\n",
       "      <td>-0.106156</td>\n",
       "      <td>-0.087884</td>\n",
       "      <td>-0.218839</td>\n",
       "      <td>-0.084130</td>\n",
       "      <td>-0.057492</td>\n",
       "      <td>-0.063224</td>\n",
       "      <td>0.555202</td>\n",
       "    </tr>\n",
       "    <tr>\n",
       "      <th>is_canceled</th>\n",
       "      <td>0.137082</td>\n",
       "      <td>0.069886</td>\n",
       "      <td>0.050584</td>\n",
       "      <td>0.357232</td>\n",
       "      <td>0.267006</td>\n",
       "      <td>0.177167</td>\n",
       "      <td>0.072769</td>\n",
       "      <td>0.201570</td>\n",
       "      <td>0.136617</td>\n",
       "      <td>1.000000</td>\n",
       "      <td>...</td>\n",
       "      <td>-0.057365</td>\n",
       "      <td>-0.144832</td>\n",
       "      <td>0.054301</td>\n",
       "      <td>0.081660</td>\n",
       "      <td>-0.195701</td>\n",
       "      <td>-0.234877</td>\n",
       "      <td>-0.013226</td>\n",
       "      <td>0.044811</td>\n",
       "      <td>0.018554</td>\n",
       "      <td>0.481507</td>\n",
       "    </tr>\n",
       "    <tr>\n",
       "      <th>lead_time</th>\n",
       "      <td>0.109869</td>\n",
       "      <td>0.241413</td>\n",
       "      <td>-0.040315</td>\n",
       "      <td>-0.071919</td>\n",
       "      <td>0.397346</td>\n",
       "      <td>0.332215</td>\n",
       "      <td>0.026146</td>\n",
       "      <td>0.142173</td>\n",
       "      <td>-0.135881</td>\n",
       "      <td>0.320075</td>\n",
       "      <td>...</td>\n",
       "      <td>-0.121761</td>\n",
       "      <td>0.006506</td>\n",
       "      <td>0.124403</td>\n",
       "      <td>0.139263</td>\n",
       "      <td>-0.148886</td>\n",
       "      <td>-0.029317</td>\n",
       "      <td>-0.009693</td>\n",
       "      <td>0.136870</td>\n",
       "      <td>0.277977</td>\n",
       "      <td>0.292830</td>\n",
       "    </tr>\n",
       "    <tr>\n",
       "      <th>arrival_date_year</th>\n",
       "      <td>0.035176</td>\n",
       "      <td>0.015509</td>\n",
       "      <td>-0.024568</td>\n",
       "      <td>-0.180684</td>\n",
       "      <td>-0.064498</td>\n",
       "      <td>0.013924</td>\n",
       "      <td>-0.092503</td>\n",
       "      <td>-0.025296</td>\n",
       "      <td>0.204725</td>\n",
       "      <td>0.016622</td>\n",
       "      <td>...</td>\n",
       "      <td>0.029234</td>\n",
       "      <td>0.031416</td>\n",
       "      <td>-0.056348</td>\n",
       "      <td>0.160043</td>\n",
       "      <td>-0.013812</td>\n",
       "      <td>0.108610</td>\n",
       "      <td>0.052787</td>\n",
       "      <td>0.052804</td>\n",
       "      <td>0.031796</td>\n",
       "      <td>-0.065975</td>\n",
       "    </tr>\n",
       "    <tr>\n",
       "      <th>arrival_date_week_number</th>\n",
       "      <td>0.001241</td>\n",
       "      <td>0.155653</td>\n",
       "      <td>0.015308</td>\n",
       "      <td>0.017322</td>\n",
       "      <td>0.009895</td>\n",
       "      <td>0.010940</td>\n",
       "      <td>0.010119</td>\n",
       "      <td>0.005852</td>\n",
       "      <td>-0.067980</td>\n",
       "      <td>0.008315</td>\n",
       "      <td>...</td>\n",
       "      <td>-0.021009</td>\n",
       "      <td>0.006311</td>\n",
       "      <td>0.022677</td>\n",
       "      <td>0.036842</td>\n",
       "      <td>0.001980</td>\n",
       "      <td>0.026202</td>\n",
       "      <td>0.010661</td>\n",
       "      <td>0.025748</td>\n",
       "      <td>0.019279</td>\n",
       "      <td>0.007831</td>\n",
       "    </tr>\n",
       "    <tr>\n",
       "      <th>arrival_date_day_of_month</th>\n",
       "      <td>-0.001678</td>\n",
       "      <td>0.002248</td>\n",
       "      <td>-0.005737</td>\n",
       "      <td>0.001898</td>\n",
       "      <td>0.008062</td>\n",
       "      <td>-0.003948</td>\n",
       "      <td>-0.016947</td>\n",
       "      <td>-0.011957</td>\n",
       "      <td>-0.002012</td>\n",
       "      <td>-0.005948</td>\n",
       "      <td>...</td>\n",
       "      <td>-0.000306</td>\n",
       "      <td>0.011266</td>\n",
       "      <td>0.022532</td>\n",
       "      <td>0.021400</td>\n",
       "      <td>0.008569</td>\n",
       "      <td>0.003026</td>\n",
       "      <td>0.014706</td>\n",
       "      <td>0.006653</td>\n",
       "      <td>-0.027533</td>\n",
       "      <td>-0.008643</td>\n",
       "    </tr>\n",
       "    <tr>\n",
       "      <th>stays_in_weekend_nights</th>\n",
       "      <td>-0.187816</td>\n",
       "      <td>0.046618</td>\n",
       "      <td>-0.040114</td>\n",
       "      <td>-0.146467</td>\n",
       "      <td>0.001091</td>\n",
       "      <td>0.079220</td>\n",
       "      <td>-0.147017</td>\n",
       "      <td>-0.082287</td>\n",
       "      <td>0.037025</td>\n",
       "      <td>-0.001323</td>\n",
       "      <td>...</td>\n",
       "      <td>-0.042859</td>\n",
       "      <td>0.050191</td>\n",
       "      <td>-0.054399</td>\n",
       "      <td>0.070338</td>\n",
       "      <td>-0.018520</td>\n",
       "      <td>0.073124</td>\n",
       "      <td>0.052690</td>\n",
       "      <td>0.103951</td>\n",
       "      <td>0.760666</td>\n",
       "      <td>-0.114571</td>\n",
       "    </tr>\n",
       "    <tr>\n",
       "      <th>stays_in_week_nights</th>\n",
       "      <td>-0.235955</td>\n",
       "      <td>0.036681</td>\n",
       "      <td>-0.053540</td>\n",
       "      <td>-0.138467</td>\n",
       "      <td>-0.006660</td>\n",
       "      <td>0.072280</td>\n",
       "      <td>-0.175821</td>\n",
       "      <td>-0.095544</td>\n",
       "      <td>0.031095</td>\n",
       "      <td>0.025542</td>\n",
       "      <td>...</td>\n",
       "      <td>-0.048873</td>\n",
       "      <td>0.080018</td>\n",
       "      <td>-0.002026</td>\n",
       "      <td>0.088752</td>\n",
       "      <td>-0.024933</td>\n",
       "      <td>0.068738</td>\n",
       "      <td>0.050930</td>\n",
       "      <td>0.104525</td>\n",
       "      <td>0.940243</td>\n",
       "      <td>-0.080321</td>\n",
       "    </tr>\n",
       "    <tr>\n",
       "      <th>is_repeated_guest</th>\n",
       "      <td>-0.052526</td>\n",
       "      <td>-0.057691</td>\n",
       "      <td>0.009827</td>\n",
       "      <td>0.153305</td>\n",
       "      <td>-0.169328</td>\n",
       "      <td>-0.206695</td>\n",
       "      <td>0.032507</td>\n",
       "      <td>-0.028268</td>\n",
       "      <td>0.002727</td>\n",
       "      <td>-0.083745</td>\n",
       "      <td>...</td>\n",
       "      <td>0.420642</td>\n",
       "      <td>0.013044</td>\n",
       "      <td>-0.022057</td>\n",
       "      <td>-0.202716</td>\n",
       "      <td>0.077928</td>\n",
       "      <td>0.012963</td>\n",
       "      <td>-0.034698</td>\n",
       "      <td>-0.132007</td>\n",
       "      <td>-0.104848</td>\n",
       "      <td>-0.057960</td>\n",
       "    </tr>\n",
       "    <tr>\n",
       "      <th>previous_cancellations</th>\n",
       "      <td>-0.012261</td>\n",
       "      <td>0.008800</td>\n",
       "      <td>0.103606</td>\n",
       "      <td>0.093266</td>\n",
       "      <td>0.074710</td>\n",
       "      <td>-0.003868</td>\n",
       "      <td>0.049290</td>\n",
       "      <td>0.063309</td>\n",
       "      <td>-0.021358</td>\n",
       "      <td>0.110139</td>\n",
       "      <td>...</td>\n",
       "      <td>0.152570</td>\n",
       "      <td>-0.027261</td>\n",
       "      <td>0.005941</td>\n",
       "      <td>-0.059308</td>\n",
       "      <td>-0.018540</td>\n",
       "      <td>-0.048488</td>\n",
       "      <td>-0.027290</td>\n",
       "      <td>-0.020408</td>\n",
       "      <td>-0.015437</td>\n",
       "      <td>0.143306</td>\n",
       "    </tr>\n",
       "    <tr>\n",
       "      <th>previous_bookings_not_canceled</th>\n",
       "      <td>-0.004467</td>\n",
       "      <td>-0.021971</td>\n",
       "      <td>0.011109</td>\n",
       "      <td>0.091795</td>\n",
       "      <td>-0.117519</td>\n",
       "      <td>-0.142650</td>\n",
       "      <td>0.022533</td>\n",
       "      <td>-0.003205</td>\n",
       "      <td>0.024716</td>\n",
       "      <td>-0.057365</td>\n",
       "      <td>...</td>\n",
       "      <td>1.000000</td>\n",
       "      <td>0.011963</td>\n",
       "      <td>-0.009416</td>\n",
       "      <td>-0.092905</td>\n",
       "      <td>0.047506</td>\n",
       "      <td>0.037775</td>\n",
       "      <td>-0.022823</td>\n",
       "      <td>-0.099680</td>\n",
       "      <td>-0.053279</td>\n",
       "      <td>-0.031521</td>\n",
       "    </tr>\n",
       "    <tr>\n",
       "      <th>booking_changes</th>\n",
       "      <td>-0.076598</td>\n",
       "      <td>-0.011049</td>\n",
       "      <td>-0.027189</td>\n",
       "      <td>-0.061513</td>\n",
       "      <td>-0.057578</td>\n",
       "      <td>-0.118461</td>\n",
       "      <td>-0.040134</td>\n",
       "      <td>-0.096277</td>\n",
       "      <td>-0.095486</td>\n",
       "      <td>-0.144832</td>\n",
       "      <td>...</td>\n",
       "      <td>0.011963</td>\n",
       "      <td>1.000000</td>\n",
       "      <td>-0.011916</td>\n",
       "      <td>-0.018529</td>\n",
       "      <td>0.067490</td>\n",
       "      <td>0.055003</td>\n",
       "      <td>0.081944</td>\n",
       "      <td>0.006728</td>\n",
       "      <td>0.079407</td>\n",
       "      <td>-0.120657</td>\n",
       "    </tr>\n",
       "    <tr>\n",
       "      <th>days_in_waiting_list</th>\n",
       "      <td>0.072725</td>\n",
       "      <td>0.029164</td>\n",
       "      <td>-0.031562</td>\n",
       "      <td>0.067054</td>\n",
       "      <td>0.096385</td>\n",
       "      <td>0.048001</td>\n",
       "      <td>0.068336</td>\n",
       "      <td>0.067129</td>\n",
       "      <td>-0.101833</td>\n",
       "      <td>0.054301</td>\n",
       "      <td>...</td>\n",
       "      <td>-0.009416</td>\n",
       "      <td>-0.011916</td>\n",
       "      <td>1.000000</td>\n",
       "      <td>-0.014118</td>\n",
       "      <td>-0.030601</td>\n",
       "      <td>-0.082755</td>\n",
       "      <td>-0.036336</td>\n",
       "      <td>-0.026604</td>\n",
       "      <td>-0.022819</td>\n",
       "      <td>0.120329</td>\n",
       "    </tr>\n",
       "    <tr>\n",
       "      <th>adr</th>\n",
       "      <td>0.154041</td>\n",
       "      <td>0.228179</td>\n",
       "      <td>-0.019908</td>\n",
       "      <td>-0.160520</td>\n",
       "      <td>-0.004009</td>\n",
       "      <td>0.126516</td>\n",
       "      <td>-0.185932</td>\n",
       "      <td>-0.038347</td>\n",
       "      <td>0.117592</td>\n",
       "      <td>0.081660</td>\n",
       "      <td>...</td>\n",
       "      <td>-0.092905</td>\n",
       "      <td>-0.018529</td>\n",
       "      <td>-0.014118</td>\n",
       "      <td>1.000000</td>\n",
       "      <td>0.022967</td>\n",
       "      <td>0.111445</td>\n",
       "      <td>0.178729</td>\n",
       "      <td>0.238125</td>\n",
       "      <td>0.093820</td>\n",
       "      <td>-0.015297</td>\n",
       "    </tr>\n",
       "    <tr>\n",
       "      <th>required_car_parking_spaces</th>\n",
       "      <td>-0.218961</td>\n",
       "      <td>-0.021910</td>\n",
       "      <td>0.003455</td>\n",
       "      <td>0.007613</td>\n",
       "      <td>-0.145726</td>\n",
       "      <td>-0.146562</td>\n",
       "      <td>-0.093401</td>\n",
       "      <td>-0.131035</td>\n",
       "      <td>0.061786</td>\n",
       "      <td>-0.195701</td>\n",
       "      <td>...</td>\n",
       "      <td>0.047506</td>\n",
       "      <td>0.067490</td>\n",
       "      <td>-0.030601</td>\n",
       "      <td>0.022967</td>\n",
       "      <td>1.000000</td>\n",
       "      <td>0.082718</td>\n",
       "      <td>0.069136</td>\n",
       "      <td>0.047833</td>\n",
       "      <td>-0.025871</td>\n",
       "      <td>-0.095092</td>\n",
       "    </tr>\n",
       "    <tr>\n",
       "      <th>total_of_special_requests</th>\n",
       "      <td>-0.043478</td>\n",
       "      <td>0.002763</td>\n",
       "      <td>0.006875</td>\n",
       "      <td>-0.200822</td>\n",
       "      <td>-0.155463</td>\n",
       "      <td>0.075047</td>\n",
       "      <td>-0.161406</td>\n",
       "      <td>-0.135337</td>\n",
       "      <td>0.137114</td>\n",
       "      <td>-0.234877</td>\n",
       "      <td>...</td>\n",
       "      <td>0.037775</td>\n",
       "      <td>0.055003</td>\n",
       "      <td>-0.082755</td>\n",
       "      <td>0.111445</td>\n",
       "      <td>0.082718</td>\n",
       "      <td>1.000000</td>\n",
       "      <td>0.128246</td>\n",
       "      <td>0.157317</td>\n",
       "      <td>0.079966</td>\n",
       "      <td>-0.268305</td>\n",
       "    </tr>\n",
       "    <tr>\n",
       "      <th>is_family</th>\n",
       "      <td>-0.058094</td>\n",
       "      <td>0.020491</td>\n",
       "      <td>0.001466</td>\n",
       "      <td>-0.044139</td>\n",
       "      <td>-0.104584</td>\n",
       "      <td>-0.026278</td>\n",
       "      <td>-0.133748</td>\n",
       "      <td>-0.179356</td>\n",
       "      <td>0.106618</td>\n",
       "      <td>-0.013226</td>\n",
       "      <td>...</td>\n",
       "      <td>-0.022823</td>\n",
       "      <td>0.081944</td>\n",
       "      <td>-0.036336</td>\n",
       "      <td>0.178729</td>\n",
       "      <td>0.069136</td>\n",
       "      <td>0.128246</td>\n",
       "      <td>1.000000</td>\n",
       "      <td>0.582033</td>\n",
       "      <td>0.058666</td>\n",
       "      <td>-0.106823</td>\n",
       "    </tr>\n",
       "    <tr>\n",
       "      <th>total_customer</th>\n",
       "      <td>-0.038772</td>\n",
       "      <td>0.079088</td>\n",
       "      <td>-0.003449</td>\n",
       "      <td>-0.117369</td>\n",
       "      <td>-0.023939</td>\n",
       "      <td>0.087748</td>\n",
       "      <td>-0.246339</td>\n",
       "      <td>-0.229073</td>\n",
       "      <td>0.124348</td>\n",
       "      <td>0.044811</td>\n",
       "      <td>...</td>\n",
       "      <td>-0.099680</td>\n",
       "      <td>0.006728</td>\n",
       "      <td>-0.026604</td>\n",
       "      <td>0.238125</td>\n",
       "      <td>0.047833</td>\n",
       "      <td>0.157317</td>\n",
       "      <td>0.582033</td>\n",
       "      <td>1.000000</td>\n",
       "      <td>0.118762</td>\n",
       "      <td>-0.082680</td>\n",
       "    </tr>\n",
       "    <tr>\n",
       "      <th>total_nights</th>\n",
       "      <td>-0.249747</td>\n",
       "      <td>0.045648</td>\n",
       "      <td>-0.055689</td>\n",
       "      <td>-0.160759</td>\n",
       "      <td>-0.004546</td>\n",
       "      <td>0.084999</td>\n",
       "      <td>-0.188866</td>\n",
       "      <td>-0.103571</td>\n",
       "      <td>0.037720</td>\n",
       "      <td>0.018554</td>\n",
       "      <td>...</td>\n",
       "      <td>-0.053279</td>\n",
       "      <td>0.079407</td>\n",
       "      <td>-0.022819</td>\n",
       "      <td>0.093820</td>\n",
       "      <td>-0.025871</td>\n",
       "      <td>0.079966</td>\n",
       "      <td>0.058666</td>\n",
       "      <td>0.118762</td>\n",
       "      <td>1.000000</td>\n",
       "      <td>-0.104849</td>\n",
       "    </tr>\n",
       "    <tr>\n",
       "      <th>deposit_given</th>\n",
       "      <td>0.172415</td>\n",
       "      <td>0.057361</td>\n",
       "      <td>0.047597</td>\n",
       "      <td>0.395685</td>\n",
       "      <td>0.397229</td>\n",
       "      <td>0.115160</td>\n",
       "      <td>0.201923</td>\n",
       "      <td>0.263383</td>\n",
       "      <td>0.121789</td>\n",
       "      <td>0.481507</td>\n",
       "      <td>...</td>\n",
       "      <td>-0.031521</td>\n",
       "      <td>-0.120657</td>\n",
       "      <td>0.120329</td>\n",
       "      <td>-0.015297</td>\n",
       "      <td>-0.095092</td>\n",
       "      <td>-0.268305</td>\n",
       "      <td>-0.106823</td>\n",
       "      <td>-0.082680</td>\n",
       "      <td>-0.104849</td>\n",
       "      <td>1.000000</td>\n",
       "    </tr>\n",
       "  </tbody>\n",
       "</table>\n",
       "<p>30 rows × 30 columns</p>\n",
       "</div>"
      ],
      "text/plain": [
       "                                   hotel  arrival_date_month      meal  \\\n",
       "hotel                           1.000000            0.051197  0.061782   \n",
       "arrival_date_month              0.051197            1.000000 -0.010208   \n",
       "meal                            0.061782           -0.010208  1.000000   \n",
       "country                        -0.040609           -0.052405  0.022476   \n",
       "market_segment                  0.102592            0.047902 -0.026007   \n",
       "distribution_channel            0.182266            0.077075 -0.025486   \n",
       "reserved_room_type              0.198171           -0.038801  0.010035   \n",
       "assigned_room_type              0.280884            0.015456  0.013913   \n",
       "customer_type                  -0.008378           -0.029636  0.105767   \n",
       "reservation_status              0.137082            0.069886  0.050584   \n",
       "reservation_status_date         0.107481           -0.089512  0.038298   \n",
       "is_canceled                     0.137082            0.069886  0.050584   \n",
       "lead_time                       0.109869            0.241413 -0.040315   \n",
       "arrival_date_year               0.035176            0.015509 -0.024568   \n",
       "arrival_date_week_number        0.001241            0.155653  0.015308   \n",
       "arrival_date_day_of_month      -0.001678            0.002248 -0.005737   \n",
       "stays_in_weekend_nights        -0.187816            0.046618 -0.040114   \n",
       "stays_in_week_nights           -0.235955            0.036681 -0.053540   \n",
       "is_repeated_guest              -0.052526           -0.057691  0.009827   \n",
       "previous_cancellations         -0.012261            0.008800  0.103606   \n",
       "previous_bookings_not_canceled -0.004467           -0.021971  0.011109   \n",
       "booking_changes                -0.076598           -0.011049 -0.027189   \n",
       "days_in_waiting_list            0.072725            0.029164 -0.031562   \n",
       "adr                             0.154041            0.228179 -0.019908   \n",
       "required_car_parking_spaces    -0.218961           -0.021910  0.003455   \n",
       "total_of_special_requests      -0.043478            0.002763  0.006875   \n",
       "is_family                      -0.058094            0.020491  0.001466   \n",
       "total_customer                 -0.038772            0.079088 -0.003449   \n",
       "total_nights                   -0.249747            0.045648 -0.055689   \n",
       "deposit_given                   0.172415            0.057361  0.047597   \n",
       "\n",
       "                                 country  market_segment  \\\n",
       "hotel                          -0.040609        0.102592   \n",
       "arrival_date_month             -0.052405        0.047902   \n",
       "meal                            0.022476       -0.026007   \n",
       "country                         1.000000        0.078982   \n",
       "market_segment                  0.078982        1.000000   \n",
       "distribution_channel           -0.129774        0.540116   \n",
       "reserved_room_type              0.153177        0.182813   \n",
       "assigned_room_type              0.125415        0.209272   \n",
       "customer_type                  -0.029320       -0.265606   \n",
       "reservation_status              0.357232        0.267006   \n",
       "reservation_status_date         0.340400        0.276512   \n",
       "is_canceled                     0.357232        0.267006   \n",
       "lead_time                      -0.071919        0.397346   \n",
       "arrival_date_year              -0.180684       -0.064498   \n",
       "arrival_date_week_number        0.017322        0.009895   \n",
       "arrival_date_day_of_month       0.001898        0.008062   \n",
       "stays_in_weekend_nights        -0.146467        0.001091   \n",
       "stays_in_week_nights           -0.138467       -0.006660   \n",
       "is_repeated_guest               0.153305       -0.169328   \n",
       "previous_cancellations          0.093266        0.074710   \n",
       "previous_bookings_not_canceled  0.091795       -0.117519   \n",
       "booking_changes                -0.061513       -0.057578   \n",
       "days_in_waiting_list            0.067054        0.096385   \n",
       "adr                            -0.160520       -0.004009   \n",
       "required_car_parking_spaces     0.007613       -0.145726   \n",
       "total_of_special_requests      -0.200822       -0.155463   \n",
       "is_family                      -0.044139       -0.104584   \n",
       "total_customer                 -0.117369       -0.023939   \n",
       "total_nights                   -0.160759       -0.004546   \n",
       "deposit_given                   0.395685        0.397229   \n",
       "\n",
       "                                distribution_channel  reserved_room_type  \\\n",
       "hotel                                       0.182266            0.198171   \n",
       "arrival_date_month                          0.077075           -0.038801   \n",
       "meal                                       -0.025486            0.010035   \n",
       "country                                    -0.129774            0.153177   \n",
       "market_segment                              0.540116            0.182813   \n",
       "distribution_channel                        1.000000            0.070381   \n",
       "reserved_room_type                          0.070381            1.000000   \n",
       "assigned_room_type                          0.118970            0.722724   \n",
       "customer_type                              -0.023234           -0.143390   \n",
       "reservation_status                          0.177167            0.072769   \n",
       "reservation_status_date                     0.081435            0.148830   \n",
       "is_canceled                                 0.177167            0.072769   \n",
       "lead_time                                   0.332215            0.026146   \n",
       "arrival_date_year                           0.013924           -0.092503   \n",
       "arrival_date_week_number                    0.010940            0.010119   \n",
       "arrival_date_day_of_month                  -0.003948           -0.016947   \n",
       "stays_in_weekend_nights                     0.079220           -0.147017   \n",
       "stays_in_week_nights                        0.072280           -0.175821   \n",
       "is_repeated_guest                          -0.206695            0.032507   \n",
       "previous_cancellations                     -0.003868            0.049290   \n",
       "previous_bookings_not_canceled             -0.142650            0.022533   \n",
       "booking_changes                            -0.118461           -0.040134   \n",
       "days_in_waiting_list                        0.048001            0.068336   \n",
       "adr                                         0.126516           -0.185932   \n",
       "required_car_parking_spaces                -0.146562           -0.093401   \n",
       "total_of_special_requests                   0.075047           -0.161406   \n",
       "is_family                                  -0.026278           -0.133748   \n",
       "total_customer                              0.087748           -0.246339   \n",
       "total_nights                                0.084999           -0.188866   \n",
       "deposit_given                               0.115160            0.201923   \n",
       "\n",
       "                                assigned_room_type  customer_type  \\\n",
       "hotel                                     0.280884      -0.008378   \n",
       "arrival_date_month                        0.015456      -0.029636   \n",
       "meal                                      0.013913       0.105767   \n",
       "country                                   0.125415      -0.029320   \n",
       "market_segment                            0.209272      -0.265606   \n",
       "distribution_channel                      0.118970      -0.023234   \n",
       "reserved_room_type                        0.722724      -0.143390   \n",
       "assigned_room_type                        1.000000      -0.084025   \n",
       "customer_type                            -0.084025       1.000000   \n",
       "reservation_status                        0.201570       0.136617   \n",
       "reservation_status_date                   0.191989       0.055937   \n",
       "is_canceled                               0.201570       0.136617   \n",
       "lead_time                                 0.142173      -0.135881   \n",
       "arrival_date_year                        -0.025296       0.204725   \n",
       "arrival_date_week_number                  0.005852      -0.067980   \n",
       "arrival_date_day_of_month                -0.011957      -0.002012   \n",
       "stays_in_weekend_nights                  -0.082287       0.037025   \n",
       "stays_in_week_nights                     -0.095544       0.031095   \n",
       "is_repeated_guest                        -0.028268       0.002727   \n",
       "previous_cancellations                    0.063309      -0.021358   \n",
       "previous_bookings_not_canceled           -0.003205       0.024716   \n",
       "booking_changes                          -0.096277      -0.095486   \n",
       "days_in_waiting_list                      0.067129      -0.101833   \n",
       "adr                                      -0.038347       0.117592   \n",
       "required_car_parking_spaces              -0.131035       0.061786   \n",
       "total_of_special_requests                -0.135337       0.137114   \n",
       "is_family                                -0.179356       0.106618   \n",
       "total_customer                           -0.229073       0.124348   \n",
       "total_nights                             -0.103571       0.037720   \n",
       "deposit_given                             0.263383       0.121789   \n",
       "\n",
       "                                reservation_status  ...  \\\n",
       "hotel                                     0.137082  ...   \n",
       "arrival_date_month                        0.069886  ...   \n",
       "meal                                      0.050584  ...   \n",
       "country                                   0.357232  ...   \n",
       "market_segment                            0.267006  ...   \n",
       "distribution_channel                      0.177167  ...   \n",
       "reserved_room_type                        0.072769  ...   \n",
       "assigned_room_type                        0.201570  ...   \n",
       "customer_type                             0.136617  ...   \n",
       "reservation_status                        1.000000  ...   \n",
       "reservation_status_date                   0.488307  ...   \n",
       "is_canceled                               1.000000  ...   \n",
       "lead_time                                 0.320075  ...   \n",
       "arrival_date_year                         0.016622  ...   \n",
       "arrival_date_week_number                  0.008315  ...   \n",
       "arrival_date_day_of_month                -0.005948  ...   \n",
       "stays_in_weekend_nights                  -0.001323  ...   \n",
       "stays_in_week_nights                      0.025542  ...   \n",
       "is_repeated_guest                        -0.083745  ...   \n",
       "previous_cancellations                    0.110139  ...   \n",
       "previous_bookings_not_canceled           -0.057365  ...   \n",
       "booking_changes                          -0.144832  ...   \n",
       "days_in_waiting_list                      0.054301  ...   \n",
       "adr                                       0.081660  ...   \n",
       "required_car_parking_spaces              -0.195701  ...   \n",
       "total_of_special_requests                -0.234877  ...   \n",
       "is_family                                -0.013226  ...   \n",
       "total_customer                            0.044811  ...   \n",
       "total_nights                              0.018554  ...   \n",
       "deposit_given                             0.481507  ...   \n",
       "\n",
       "                                previous_bookings_not_canceled  \\\n",
       "hotel                                                -0.004467   \n",
       "arrival_date_month                                   -0.021971   \n",
       "meal                                                  0.011109   \n",
       "country                                               0.091795   \n",
       "market_segment                                       -0.117519   \n",
       "distribution_channel                                 -0.142650   \n",
       "reserved_room_type                                    0.022533   \n",
       "assigned_room_type                                   -0.003205   \n",
       "customer_type                                         0.024716   \n",
       "reservation_status                                   -0.057365   \n",
       "reservation_status_date                              -0.007066   \n",
       "is_canceled                                          -0.057365   \n",
       "lead_time                                            -0.121761   \n",
       "arrival_date_year                                     0.029234   \n",
       "arrival_date_week_number                             -0.021009   \n",
       "arrival_date_day_of_month                            -0.000306   \n",
       "stays_in_weekend_nights                              -0.042859   \n",
       "stays_in_week_nights                                 -0.048873   \n",
       "is_repeated_guest                                     0.420642   \n",
       "previous_cancellations                                0.152570   \n",
       "previous_bookings_not_canceled                        1.000000   \n",
       "booking_changes                                       0.011963   \n",
       "days_in_waiting_list                                 -0.009416   \n",
       "adr                                                  -0.092905   \n",
       "required_car_parking_spaces                           0.047506   \n",
       "total_of_special_requests                             0.037775   \n",
       "is_family                                            -0.022823   \n",
       "total_customer                                       -0.099680   \n",
       "total_nights                                         -0.053279   \n",
       "deposit_given                                        -0.031521   \n",
       "\n",
       "                                booking_changes  days_in_waiting_list  \\\n",
       "hotel                                 -0.076598              0.072725   \n",
       "arrival_date_month                    -0.011049              0.029164   \n",
       "meal                                  -0.027189             -0.031562   \n",
       "country                               -0.061513              0.067054   \n",
       "market_segment                        -0.057578              0.096385   \n",
       "distribution_channel                  -0.118461              0.048001   \n",
       "reserved_room_type                    -0.040134              0.068336   \n",
       "assigned_room_type                    -0.096277              0.067129   \n",
       "customer_type                         -0.095486             -0.101833   \n",
       "reservation_status                    -0.144832              0.054301   \n",
       "reservation_status_date               -0.111565              0.042947   \n",
       "is_canceled                           -0.144832              0.054301   \n",
       "lead_time                              0.006506              0.124403   \n",
       "arrival_date_year                      0.031416             -0.056348   \n",
       "arrival_date_week_number               0.006311              0.022677   \n",
       "arrival_date_day_of_month              0.011266              0.022532   \n",
       "stays_in_weekend_nights                0.050191             -0.054399   \n",
       "stays_in_week_nights                   0.080018             -0.002026   \n",
       "is_repeated_guest                      0.013044             -0.022057   \n",
       "previous_cancellations                -0.027261              0.005941   \n",
       "previous_bookings_not_canceled         0.011963             -0.009416   \n",
       "booking_changes                        1.000000             -0.011916   \n",
       "days_in_waiting_list                  -0.011916              1.000000   \n",
       "adr                                   -0.018529             -0.014118   \n",
       "required_car_parking_spaces            0.067490             -0.030601   \n",
       "total_of_special_requests              0.055003             -0.082755   \n",
       "is_family                              0.081944             -0.036336   \n",
       "total_customer                         0.006728             -0.026604   \n",
       "total_nights                           0.079407             -0.022819   \n",
       "deposit_given                         -0.120657              0.120329   \n",
       "\n",
       "                                     adr  required_car_parking_spaces  \\\n",
       "hotel                           0.154041                    -0.218961   \n",
       "arrival_date_month              0.228179                    -0.021910   \n",
       "meal                           -0.019908                     0.003455   \n",
       "country                        -0.160520                     0.007613   \n",
       "market_segment                 -0.004009                    -0.145726   \n",
       "distribution_channel            0.126516                    -0.146562   \n",
       "reserved_room_type             -0.185932                    -0.093401   \n",
       "assigned_room_type             -0.038347                    -0.131035   \n",
       "customer_type                   0.117592                     0.061786   \n",
       "reservation_status              0.081660                    -0.195701   \n",
       "reservation_status_date        -0.106156                    -0.087884   \n",
       "is_canceled                     0.081660                    -0.195701   \n",
       "lead_time                       0.139263                    -0.148886   \n",
       "arrival_date_year               0.160043                    -0.013812   \n",
       "arrival_date_week_number        0.036842                     0.001980   \n",
       "arrival_date_day_of_month       0.021400                     0.008569   \n",
       "stays_in_weekend_nights         0.070338                    -0.018520   \n",
       "stays_in_week_nights            0.088752                    -0.024933   \n",
       "is_repeated_guest              -0.202716                     0.077928   \n",
       "previous_cancellations         -0.059308                    -0.018540   \n",
       "previous_bookings_not_canceled -0.092905                     0.047506   \n",
       "booking_changes                -0.018529                     0.067490   \n",
       "days_in_waiting_list           -0.014118                    -0.030601   \n",
       "adr                             1.000000                     0.022967   \n",
       "required_car_parking_spaces     0.022967                     1.000000   \n",
       "total_of_special_requests       0.111445                     0.082718   \n",
       "is_family                       0.178729                     0.069136   \n",
       "total_customer                  0.238125                     0.047833   \n",
       "total_nights                    0.093820                    -0.025871   \n",
       "deposit_given                  -0.015297                    -0.095092   \n",
       "\n",
       "                                total_of_special_requests  is_family  \\\n",
       "hotel                                           -0.043478  -0.058094   \n",
       "arrival_date_month                               0.002763   0.020491   \n",
       "meal                                             0.006875   0.001466   \n",
       "country                                         -0.200822  -0.044139   \n",
       "market_segment                                  -0.155463  -0.104584   \n",
       "distribution_channel                             0.075047  -0.026278   \n",
       "reserved_room_type                              -0.161406  -0.133748   \n",
       "assigned_room_type                              -0.135337  -0.179356   \n",
       "customer_type                                    0.137114   0.106618   \n",
       "reservation_status                              -0.234877  -0.013226   \n",
       "reservation_status_date                         -0.218839  -0.084130   \n",
       "is_canceled                                     -0.234877  -0.013226   \n",
       "lead_time                                       -0.029317  -0.009693   \n",
       "arrival_date_year                                0.108610   0.052787   \n",
       "arrival_date_week_number                         0.026202   0.010661   \n",
       "arrival_date_day_of_month                        0.003026   0.014706   \n",
       "stays_in_weekend_nights                          0.073124   0.052690   \n",
       "stays_in_week_nights                             0.068738   0.050930   \n",
       "is_repeated_guest                                0.012963  -0.034698   \n",
       "previous_cancellations                          -0.048488  -0.027290   \n",
       "previous_bookings_not_canceled                   0.037775  -0.022823   \n",
       "booking_changes                                  0.055003   0.081944   \n",
       "days_in_waiting_list                            -0.082755  -0.036336   \n",
       "adr                                              0.111445   0.178729   \n",
       "required_car_parking_spaces                      0.082718   0.069136   \n",
       "total_of_special_requests                        1.000000   0.128246   \n",
       "is_family                                        0.128246   1.000000   \n",
       "total_customer                                   0.157317   0.582033   \n",
       "total_nights                                     0.079966   0.058666   \n",
       "deposit_given                                   -0.268305  -0.106823   \n",
       "\n",
       "                                total_customer  total_nights  deposit_given  \n",
       "hotel                                -0.038772     -0.249747       0.172415  \n",
       "arrival_date_month                    0.079088      0.045648       0.057361  \n",
       "meal                                 -0.003449     -0.055689       0.047597  \n",
       "country                              -0.117369     -0.160759       0.395685  \n",
       "market_segment                       -0.023939     -0.004546       0.397229  \n",
       "distribution_channel                  0.087748      0.084999       0.115160  \n",
       "reserved_room_type                   -0.246339     -0.188866       0.201923  \n",
       "assigned_room_type                   -0.229073     -0.103571       0.263383  \n",
       "customer_type                         0.124348      0.037720       0.121789  \n",
       "reservation_status                    0.044811      0.018554       0.481507  \n",
       "reservation_status_date              -0.057492     -0.063224       0.555202  \n",
       "is_canceled                           0.044811      0.018554       0.481507  \n",
       "lead_time                             0.136870      0.277977       0.292830  \n",
       "arrival_date_year                     0.052804      0.031796      -0.065975  \n",
       "arrival_date_week_number              0.025748      0.019279       0.007831  \n",
       "arrival_date_day_of_month             0.006653     -0.027533      -0.008643  \n",
       "stays_in_weekend_nights               0.103951      0.760666      -0.114571  \n",
       "stays_in_week_nights                  0.104525      0.940243      -0.080321  \n",
       "is_repeated_guest                    -0.132007     -0.104848      -0.057960  \n",
       "previous_cancellations               -0.020408     -0.015437       0.143306  \n",
       "previous_bookings_not_canceled       -0.099680     -0.053279      -0.031521  \n",
       "booking_changes                       0.006728      0.079407      -0.120657  \n",
       "days_in_waiting_list                 -0.026604     -0.022819       0.120329  \n",
       "adr                                   0.238125      0.093820      -0.015297  \n",
       "required_car_parking_spaces           0.047833     -0.025871      -0.095092  \n",
       "total_of_special_requests             0.157317      0.079966      -0.268305  \n",
       "is_family                             0.582033      0.058666      -0.106823  \n",
       "total_customer                        1.000000      0.118762      -0.082680  \n",
       "total_nights                          0.118762      1.000000      -0.104849  \n",
       "deposit_given                        -0.082680     -0.104849       1.000000  \n",
       "\n",
       "[30 rows x 30 columns]"
      ]
     },
     "execution_count": 114,
     "metadata": {},
     "output_type": "execute_result"
    }
   ],
   "source": [
    "corr"
   ]
  },
  {
   "cell_type": "code",
   "execution_count": 115,
   "id": "5f4eb4f8",
   "metadata": {},
   "outputs": [
    {
     "data": {
      "text/plain": [
       "reservation_status                1.000000\n",
       "is_canceled                       1.000000\n",
       "reservation_status_date           0.488307\n",
       "deposit_given                     0.481507\n",
       "country                           0.357232\n",
       "lead_time                         0.320075\n",
       "market_segment                    0.267006\n",
       "assigned_room_type                0.201570\n",
       "distribution_channel              0.177167\n",
       "hotel                             0.137082\n",
       "customer_type                     0.136617\n",
       "previous_cancellations            0.110139\n",
       "adr                               0.081660\n",
       "reserved_room_type                0.072769\n",
       "arrival_date_month                0.069886\n",
       "days_in_waiting_list              0.054301\n",
       "meal                              0.050584\n",
       "total_customer                    0.044811\n",
       "stays_in_week_nights              0.025542\n",
       "total_nights                      0.018554\n",
       "arrival_date_year                 0.016622\n",
       "arrival_date_week_number          0.008315\n",
       "stays_in_weekend_nights          -0.001323\n",
       "arrival_date_day_of_month        -0.005948\n",
       "is_family                        -0.013226\n",
       "previous_bookings_not_canceled   -0.057365\n",
       "is_repeated_guest                -0.083745\n",
       "booking_changes                  -0.144832\n",
       "required_car_parking_spaces      -0.195701\n",
       "total_of_special_requests        -0.234877\n",
       "Name: is_canceled, dtype: float64"
      ]
     },
     "execution_count": 115,
     "metadata": {},
     "output_type": "execute_result"
    }
   ],
   "source": [
    "corr['is_canceled'].sort_values(ascending = False)"
   ]
  },
  {
   "cell_type": "code",
   "execution_count": 116,
   "id": "5d873cc7",
   "metadata": {},
   "outputs": [
    {
     "data": {
      "text/plain": [
       "Index(['reservation_status', 'is_canceled', 'reservation_status_date',\n",
       "       'deposit_given', 'country', 'lead_time', 'market_segment',\n",
       "       'assigned_room_type', 'distribution_channel', 'hotel', 'customer_type',\n",
       "       'previous_cancellations', 'adr', 'reserved_room_type',\n",
       "       'arrival_date_month', 'days_in_waiting_list', 'meal', 'total_customer',\n",
       "       'stays_in_week_nights', 'total_nights', 'arrival_date_year',\n",
       "       'arrival_date_week_number', 'stays_in_weekend_nights',\n",
       "       'arrival_date_day_of_month', 'is_family',\n",
       "       'previous_bookings_not_canceled', 'is_repeated_guest',\n",
       "       'booking_changes', 'required_car_parking_spaces',\n",
       "       'total_of_special_requests'],\n",
       "      dtype='object')"
      ]
     },
     "execution_count": 116,
     "metadata": {},
     "output_type": "execute_result"
    }
   ],
   "source": [
    "corr['is_canceled'].sort_values(ascending=False).index"
   ]
  },
  {
   "cell_type": "code",
   "execution_count": 117,
   "id": "f0aa168e",
   "metadata": {},
   "outputs": [],
   "source": [
    "features_to_drop = ['reservation_status','reservation_status_date','arrival_date_year',\n",
    "                    'arrival_date_week_number','stays_in_weekend_nights',\n",
    "                    'arrival_date_day_of_month']"
   ]
  },
  {
   "cell_type": "code",
   "execution_count": 118,
   "id": "b518c931",
   "metadata": {},
   "outputs": [],
   "source": [
    "dataframe.drop(features_to_drop, axis = 1,inplace = True)"
   ]
  },
  {
   "cell_type": "code",
   "execution_count": 119,
   "id": "c4205715",
   "metadata": {},
   "outputs": [
    {
     "data": {
      "text/plain": [
       "<seaborn.axisgrid.FacetGrid at 0x2b18ac0b880>"
      ]
     },
     "execution_count": 119,
     "metadata": {},
     "output_type": "execute_result"
    },
    {
     "data": {
      "image/png": "[encoded data removed]",
      "text/plain": [
       "<Figure size 360x360 with 1 Axes>"
      ]
     },
     "metadata": {
      "needs_background": "light"
     },
     "output_type": "display_data"
    }
   ],
   "source": [
    "sns.displot(dataframe['adr'].dropna())"
   ]
  },
  {
   "cell_type": "markdown",
   "id": "f2398157",
   "metadata": {},
   "source": [
    "# How to find Important features for model building..."
   ]
  },
  {
   "cell_type": "code",
   "execution_count": 120,
   "id": "4fab1839",
   "metadata": {},
   "outputs": [
    {
     "data": {
      "text/html": [
       "<div>\n",
       "<style scoped>\n",
       "    .dataframe tbody tr th:only-of-type {\n",
       "        vertical-align: middle;\n",
       "    }\n",
       "\n",
       "    .dataframe tbody tr th {\n",
       "        vertical-align: top;\n",
       "    }\n",
       "\n",
       "    .dataframe thead th {\n",
       "        text-align: right;\n",
       "    }\n",
       "</style>\n",
       "<table border=\"1\" class=\"dataframe\">\n",
       "  <thead>\n",
       "    <tr style=\"text-align: right;\">\n",
       "      <th></th>\n",
       "      <th>hotel</th>\n",
       "      <th>arrival_date_month</th>\n",
       "      <th>meal</th>\n",
       "      <th>country</th>\n",
       "      <th>market_segment</th>\n",
       "      <th>distribution_channel</th>\n",
       "      <th>reserved_room_type</th>\n",
       "      <th>assigned_room_type</th>\n",
       "      <th>customer_type</th>\n",
       "      <th>is_canceled</th>\n",
       "      <th>...</th>\n",
       "      <th>previous_bookings_not_canceled</th>\n",
       "      <th>booking_changes</th>\n",
       "      <th>days_in_waiting_list</th>\n",
       "      <th>adr</th>\n",
       "      <th>required_car_parking_spaces</th>\n",
       "      <th>total_of_special_requests</th>\n",
       "      <th>is_family</th>\n",
       "      <th>total_customer</th>\n",
       "      <th>total_nights</th>\n",
       "      <th>deposit_given</th>\n",
       "    </tr>\n",
       "  </thead>\n",
       "  <tbody>\n",
       "    <tr>\n",
       "      <th>0</th>\n",
       "      <td>0.277674</td>\n",
       "      <td>0.305016</td>\n",
       "      <td>0.374106</td>\n",
       "      <td>0.379365</td>\n",
       "      <td>0.36759</td>\n",
       "      <td>0.410598</td>\n",
       "      <td>0.391567</td>\n",
       "      <td>0.251373</td>\n",
       "      <td>0.254504</td>\n",
       "      <td>0</td>\n",
       "      <td>...</td>\n",
       "      <td>0</td>\n",
       "      <td>0</td>\n",
       "      <td>0</td>\n",
       "      <td>4.109890</td>\n",
       "      <td>0</td>\n",
       "      <td>1</td>\n",
       "      <td>0</td>\n",
       "      <td>2.0</td>\n",
       "      <td>1</td>\n",
       "      <td>0</td>\n",
       "    </tr>\n",
       "    <tr>\n",
       "      <th>1</th>\n",
       "      <td>0.277674</td>\n",
       "      <td>0.305016</td>\n",
       "      <td>0.374106</td>\n",
       "      <td>0.379365</td>\n",
       "      <td>0.36759</td>\n",
       "      <td>0.410598</td>\n",
       "      <td>0.407654</td>\n",
       "      <td>0.352528</td>\n",
       "      <td>0.254504</td>\n",
       "      <td>0</td>\n",
       "      <td>...</td>\n",
       "      <td>0</td>\n",
       "      <td>0</td>\n",
       "      <td>0</td>\n",
       "      <td>4.763028</td>\n",
       "      <td>1</td>\n",
       "      <td>1</td>\n",
       "      <td>1</td>\n",
       "      <td>4.0</td>\n",
       "      <td>1</td>\n",
       "      <td>0</td>\n",
       "    </tr>\n",
       "  </tbody>\n",
       "</table>\n",
       "<p>2 rows × 24 columns</p>\n",
       "</div>"
      ],
      "text/plain": [
       "      hotel  arrival_date_month      meal   country  market_segment  \\\n",
       "0  0.277674            0.305016  0.374106  0.379365         0.36759   \n",
       "1  0.277674            0.305016  0.374106  0.379365         0.36759   \n",
       "\n",
       "   distribution_channel  reserved_room_type  assigned_room_type  \\\n",
       "0              0.410598            0.391567            0.251373   \n",
       "1              0.410598            0.407654            0.352528   \n",
       "\n",
       "   customer_type  is_canceled  ...  previous_bookings_not_canceled  \\\n",
       "0       0.254504            0  ...                               0   \n",
       "1       0.254504            0  ...                               0   \n",
       "\n",
       "   booking_changes  days_in_waiting_list       adr  \\\n",
       "0                0                     0  4.109890   \n",
       "1                0                     0  4.763028   \n",
       "\n",
       "   required_car_parking_spaces  total_of_special_requests  is_family  \\\n",
       "0                            0                          1          0   \n",
       "1                            1                          1          1   \n",
       "\n",
       "   total_customer  total_nights  deposit_given  \n",
       "0             2.0             1              0  \n",
       "1             4.0             1              0  \n",
       "\n",
       "[2 rows x 24 columns]"
      ]
     },
     "execution_count": 120,
     "metadata": {},
     "output_type": "execute_result"
    }
   ],
   "source": [
    "dataframe.head(2)"
   ]
  },
  {
   "cell_type": "code",
   "execution_count": 121,
   "id": "b503b1f2",
   "metadata": {},
   "outputs": [
    {
     "data": {
      "text/plain": [
       "hotel                             0\n",
       "arrival_date_month                0\n",
       "meal                              0\n",
       "country                           0\n",
       "market_segment                    0\n",
       "distribution_channel              0\n",
       "reserved_room_type                0\n",
       "assigned_room_type                0\n",
       "customer_type                     0\n",
       "is_canceled                       0\n",
       "lead_time                         0\n",
       "stays_in_week_nights              0\n",
       "is_repeated_guest                 0\n",
       "previous_cancellations            0\n",
       "previous_bookings_not_canceled    0\n",
       "booking_changes                   0\n",
       "days_in_waiting_list              0\n",
       "adr                               1\n",
       "required_car_parking_spaces       0\n",
       "total_of_special_requests         0\n",
       "is_family                         0\n",
       "total_customer                    4\n",
       "total_nights                      0\n",
       "deposit_given                     0\n",
       "dtype: int64"
      ]
     },
     "execution_count": 121,
     "metadata": {},
     "output_type": "execute_result"
    }
   ],
   "source": [
    "dataframe.isnull().sum()"
   ]
  },
  {
   "cell_type": "code",
   "execution_count": 122,
   "id": "5c271070",
   "metadata": {},
   "outputs": [],
   "source": [
    "dataframe.dropna(inplace=True)"
   ]
  },
  {
   "cell_type": "code",
   "execution_count": 123,
   "id": "4e7c28de",
   "metadata": {},
   "outputs": [],
   "source": [
    "##seprate dependent & independent features"
   ]
  },
  {
   "cell_type": "code",
   "execution_count": 124,
   "id": "96afbaec",
   "metadata": {},
   "outputs": [],
   "source": [
    "x = dataframe.drop('is_canceled',axis = 1)"
   ]
  },
  {
   "cell_type": "code",
   "execution_count": 125,
   "id": "aa9981da",
   "metadata": {},
   "outputs": [],
   "source": [
    "y = dataframe['is_canceled']"
   ]
  },
  {
   "cell_type": "code",
   "execution_count": 126,
   "id": "5d1ef1b1",
   "metadata": {},
   "outputs": [],
   "source": [
    "from sklearn.linear_model import Lasso\n",
    "from sklearn.feature_selection import SelectFromModel"
   ]
  },
  {
   "cell_type": "code",
   "execution_count": 127,
   "id": "cdc5f1cf",
   "metadata": {},
   "outputs": [],
   "source": [
    "##Lasso(alpha= 0.005)\n",
    "# select a suitable alpha(equivalent of penalty).\n",
    "# The bigger the alpha the less features that will be selcted."
   ]
  },
  {
   "cell_type": "code",
   "execution_count": 128,
   "id": "0ab387fe",
   "metadata": {},
   "outputs": [],
   "source": [
    "feature_sel_model = SelectFromModel(Lasso(alpha=0.005))"
   ]
  },
  {
   "cell_type": "code",
   "execution_count": 129,
   "id": "4fb87f6f",
   "metadata": {},
   "outputs": [
    {
     "data": {
      "text/plain": [
       "SelectFromModel(estimator=Lasso(alpha=0.005))"
      ]
     },
     "execution_count": 129,
     "metadata": {},
     "output_type": "execute_result"
    }
   ],
   "source": [
    "feature_sel_model.fit(x,y)"
   ]
  },
  {
   "cell_type": "code",
   "execution_count": 130,
   "id": "e26569c1",
   "metadata": {},
   "outputs": [
    {
     "data": {
      "text/plain": [
       "array([False, False, False,  True, False, False, False, False, False,\n",
       "        True, False, False,  True,  True,  True,  True,  True,  True,\n",
       "        True, False,  True,  True,  True])"
      ]
     },
     "execution_count": 130,
     "metadata": {},
     "output_type": "execute_result"
    }
   ],
   "source": [
    "feature_sel_model.get_support()"
   ]
  },
  {
   "cell_type": "code",
   "execution_count": 131,
   "id": "fffc3590",
   "metadata": {},
   "outputs": [],
   "source": [
    "cols=x.columns"
   ]
  },
  {
   "cell_type": "code",
   "execution_count": 132,
   "id": "42a6d1ab",
   "metadata": {
    "scrolled": true
   },
   "outputs": [
    {
     "data": {
      "text/plain": [
       "Index(['hotel', 'arrival_date_month', 'meal', 'country', 'market_segment',\n",
       "       'distribution_channel', 'reserved_room_type', 'assigned_room_type',\n",
       "       'customer_type', 'lead_time', 'stays_in_week_nights',\n",
       "       'is_repeated_guest', 'previous_cancellations',\n",
       "       'previous_bookings_not_canceled', 'booking_changes',\n",
       "       'days_in_waiting_list', 'adr', 'required_car_parking_spaces',\n",
       "       'total_of_special_requests', 'is_family', 'total_customer',\n",
       "       'total_nights', 'deposit_given'],\n",
       "      dtype='object')"
      ]
     },
     "execution_count": 132,
     "metadata": {},
     "output_type": "execute_result"
    }
   ],
   "source": [
    "cols"
   ]
  },
  {
   "cell_type": "code",
   "execution_count": 133,
   "id": "220f7828",
   "metadata": {},
   "outputs": [
    {
     "data": {
      "text/plain": [
       "Index(['country', 'lead_time', 'previous_cancellations',\n",
       "       'previous_bookings_not_canceled', 'booking_changes',\n",
       "       'days_in_waiting_list', 'adr', 'required_car_parking_spaces',\n",
       "       'total_of_special_requests', 'total_customer', 'total_nights',\n",
       "       'deposit_given'],\n",
       "      dtype='object')"
      ]
     },
     "execution_count": 133,
     "metadata": {},
     "output_type": "execute_result"
    }
   ],
   "source": [
    "cols[feature_sel_model.get_support()]"
   ]
  },
  {
   "cell_type": "code",
   "execution_count": 134,
   "id": "7d87bb8a",
   "metadata": {},
   "outputs": [],
   "source": [
    "# let's print the number of selected features\n",
    "\n",
    "selected_feature = cols[feature_sel_model.get_support()]"
   ]
  },
  {
   "cell_type": "code",
   "execution_count": 135,
   "id": "1fb7eac2",
   "metadata": {},
   "outputs": [],
   "source": [
    "x = x[selected_feature]"
   ]
  },
  {
   "cell_type": "code",
   "execution_count": 136,
   "id": "8ffd238f",
   "metadata": {},
   "outputs": [
    {
     "data": {
      "text/plain": [
       "0         0\n",
       "1         0\n",
       "2         1\n",
       "3         0\n",
       "4         1\n",
       "         ..\n",
       "119205    0\n",
       "119206    0\n",
       "119207    0\n",
       "119208    0\n",
       "119209    0\n",
       "Name: is_canceled, Length: 119205, dtype: int64"
      ]
     },
     "execution_count": 136,
     "metadata": {},
     "output_type": "execute_result"
    }
   ],
   "source": [
    "y"
   ]
  },
  {
   "cell_type": "code",
   "execution_count": null,
   "id": "7d1330b4",
   "metadata": {},
   "outputs": [],
   "source": []
  },
  {
   "cell_type": "markdown",
   "id": "511a11d7",
   "metadata": {},
   "source": [
    "#  Lets build ML model.."
   ]
  },
  {
   "cell_type": "code",
   "execution_count": 137,
   "id": "ffe8de41",
   "metadata": {},
   "outputs": [],
   "source": [
    "from sklearn.model_selection import train_test_split"
   ]
  },
  {
   "cell_type": "code",
   "execution_count": 138,
   "id": "2d6dccf6",
   "metadata": {},
   "outputs": [],
   "source": [
    "x_train,x_test,y_train,y_test = train_test_split(x, y, test_size=0.25)"
   ]
  },
  {
   "cell_type": "code",
   "execution_count": 139,
   "id": "cd5547e6",
   "metadata": {},
   "outputs": [
    {
     "data": {
      "text/plain": [
       "(89403, 12)"
      ]
     },
     "execution_count": 139,
     "metadata": {},
     "output_type": "execute_result"
    }
   ],
   "source": [
    "x_train.shape"
   ]
  },
  {
   "cell_type": "code",
   "execution_count": 140,
   "id": "5758bc57",
   "metadata": {},
   "outputs": [],
   "source": [
    "from sklearn.linear_model import LogisticRegression"
   ]
  },
  {
   "cell_type": "code",
   "execution_count": 141,
   "id": "7a43c222",
   "metadata": {},
   "outputs": [],
   "source": [
    "logreg= LogisticRegression()"
   ]
  },
  {
   "cell_type": "code",
   "execution_count": 142,
   "id": "590f0179",
   "metadata": {},
   "outputs": [
    {
     "data": {
      "text/plain": [
       "LogisticRegression()"
      ]
     },
     "execution_count": 142,
     "metadata": {},
     "output_type": "execute_result"
    }
   ],
   "source": [
    "logreg.fit(x_train,y_train)"
   ]
  },
  {
   "cell_type": "code",
   "execution_count": 143,
   "id": "6a4c581f",
   "metadata": {},
   "outputs": [],
   "source": [
    "pred =logreg.predict(x_test)"
   ]
  },
  {
   "cell_type": "code",
   "execution_count": 144,
   "id": "628244b1",
   "metadata": {},
   "outputs": [
    {
     "data": {
      "text/plain": [
       "array([0, 0, 0, ..., 0, 0, 1], dtype=int64)"
      ]
     },
     "execution_count": 144,
     "metadata": {},
     "output_type": "execute_result"
    }
   ],
   "source": [
    "pred"
   ]
  },
  {
   "cell_type": "code",
   "execution_count": 145,
   "id": "6aaa0758",
   "metadata": {},
   "outputs": [],
   "source": [
    "from sklearn.metrics import confusion_matrix"
   ]
  },
  {
   "cell_type": "code",
   "execution_count": 146,
   "id": "4c868976",
   "metadata": {},
   "outputs": [
    {
     "data": {
      "text/plain": [
       "array([[17479,  1298],\n",
       "       [ 4698,  6327]], dtype=int64)"
      ]
     },
     "execution_count": 146,
     "metadata": {},
     "output_type": "execute_result"
    }
   ],
   "source": [
    "confusion_matrix(y_test,pred)"
   ]
  },
  {
   "cell_type": "code",
   "execution_count": 147,
   "id": "d9e30d54",
   "metadata": {},
   "outputs": [],
   "source": [
    "from sklearn.metrics import accuracy_score "
   ]
  },
  {
   "cell_type": "code",
   "execution_count": 148,
   "id": "70c57f8c",
   "metadata": {},
   "outputs": [
    {
     "data": {
      "text/plain": [
       "0.7988054492987048"
      ]
     },
     "execution_count": 148,
     "metadata": {},
     "output_type": "execute_result"
    }
   ],
   "source": [
    "accuracy_score(y_test,pred)"
   ]
  },
  {
   "cell_type": "code",
   "execution_count": null,
   "id": "4b3a1b82",
   "metadata": {},
   "outputs": [],
   "source": []
  },
  {
   "cell_type": "code",
   "execution_count": null,
   "id": "ea5b35ad",
   "metadata": {},
   "outputs": [],
   "source": []
  },
  {
   "cell_type": "markdown",
   "id": "f3194878",
   "metadata": {},
   "source": [
    "# How to cross-validate model.."
   ]
  },
  {
   "cell_type": "code",
   "execution_count": 149,
   "id": "bfa81837",
   "metadata": {},
   "outputs": [],
   "source": [
    "from sklearn.model_selection import cross_val_score"
   ]
  },
  {
   "cell_type": "code",
   "execution_count": 150,
   "id": "616a4ec5",
   "metadata": {},
   "outputs": [],
   "source": [
    "score = cross_val_score(logreg,x,y,cv=10)"
   ]
  },
  {
   "cell_type": "code",
   "execution_count": 151,
   "id": "40754723",
   "metadata": {},
   "outputs": [
    {
     "data": {
      "text/plain": [
       "array([0.77887761, 0.7853368 , 0.78382686, 0.81746498, 0.8126835 ,\n",
       "       0.73582215, 0.74337248, 0.85536913, 0.83942953, 0.80713087])"
      ]
     },
     "execution_count": 151,
     "metadata": {},
     "output_type": "execute_result"
    }
   ],
   "source": [
    "score\n"
   ]
  },
  {
   "cell_type": "code",
   "execution_count": 162,
   "id": "8b66c625",
   "metadata": {},
   "outputs": [
    {
     "data": {
      "text/plain": [
       "0.7959313910255942"
      ]
     },
     "execution_count": 162,
     "metadata": {},
     "output_type": "execute_result"
    }
   ],
   "source": [
    "score.mean()"
   ]
  },
  {
   "cell_type": "code",
   "execution_count": null,
   "id": "3bdd9506",
   "metadata": {},
   "outputs": [],
   "source": []
  },
  {
   "cell_type": "markdown",
   "id": "58e06908",
   "metadata": {},
   "source": [
    "# Playing with multiple algos..."
   ]
  },
  {
   "cell_type": "code",
   "execution_count": 152,
   "id": "189a3c04",
   "metadata": {},
   "outputs": [],
   "source": [
    "from sklearn.naive_bayes import GaussianNB\n",
    "from sklearn.linear_model import LogisticRegression\n",
    "from sklearn.neighbors import KNeighborsClassifier\n",
    "from sklearn.ensemble import RandomForestClassifier\n",
    "from sklearn.tree import DecisionTreeClassifier\n",
    "\n"
   ]
  },
  {
   "cell_type": "code",
   "execution_count": 153,
   "id": "38d6a4b3",
   "metadata": {},
   "outputs": [],
   "source": [
    "models=[]\n",
    "\n",
    "models.append(('LogisticRegression',LogisticRegression()))\n",
    "models.append(('Naive_bayes',GaussianNB()))\n",
    "models.append(('Random Forest',RandomForestClassifier()))\n",
    "models.append(('Decision_tree',DecisionTreeClassifier()))\n",
    "models.append(('KNN',KNeighborsClassifier()))"
   ]
  },
  {
   "cell_type": "code",
   "execution_count": 161,
   "id": "c2afd7cc",
   "metadata": {},
   "outputs": [
    {
     "name": "stdout",
     "output_type": "stream",
     "text": [
      "LogisticRegression\n",
      "[[17479  4698]\n",
      " [ 1298  6327]]\n",
      "0.7988054492987048\n",
      "\n",
      "\n",
      "Naive_bayes\n",
      "[[ 6748   670]\n",
      " [12029 10355]]\n",
      "0.5738876585464063\n",
      "\n",
      "\n",
      "Random Forest\n",
      "[[17225  2743]\n",
      " [ 1552  8282]]\n",
      "0.8558821555600296\n",
      "\n",
      "\n",
      "Decision_tree\n",
      "[[16061  2654]\n",
      " [ 2716  8371]]\n",
      "0.8198107509563116\n",
      "\n",
      "\n",
      "KNN\n",
      "[[16791  3345]\n",
      " [ 1986  7680]]\n",
      "0.8211193879605395\n",
      "\n",
      "\n"
     ]
    }
   ],
   "source": [
    "for name,model in models:\n",
    "    print(name)\n",
    "    model.fit(x_train,y_train)\n",
    "    \n",
    "    predictions=model.predict(x_test)\n",
    "    \n",
    "    from sklearn.metrics import confusion_matrix\n",
    "    cm =confusion_matrix(predictions,y_test)\n",
    "    print(cm)\n",
    "    \n",
    "    from sklearn.metrics import accuracy_score \n",
    "    acc = accuracy_score(predictions,y_test)\n",
    "    print(acc)\n",
    "    print('\\n')"
   ]
  }
 ],
 "metadata": {
  "kernelspec": {
   "display_name": "Python 3",
   "language": "python",
   "name": "python3"
  },
  "language_info": {
   "codemirror_mode": {
    "name": "ipython",
    "version": 3
   },
   "file_extension": ".py",
   "mimetype": "text/x-python",
   "name": "python",
   "nbconvert_exporter": "python",
   "pygments_lexer": "ipython3",
   "version": "3.8.8"
  }
 },
 "nbformat": 4,
 "nbformat_minor": 5
}
